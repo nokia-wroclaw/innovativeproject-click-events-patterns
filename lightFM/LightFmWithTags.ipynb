{
 "cells": [
  {
   "cell_type": "code",
   "execution_count": 276,
   "metadata": {},
   "outputs": [],
   "source": [
    "import pandas\n",
    "import lightfm\n",
    "from lightfm import LightFM\n",
    "from lightfm import cross_validation\n",
    "from scipy.sparse import coo_matrix\n",
    "from collections import OrderedDict\n",
    "from scipy.sparse import coo_matrix\n",
    "import numpy as np"
   ]
  },
  {
   "cell_type": "code",
   "execution_count": 277,
   "metadata": {},
   "outputs": [],
   "source": [
    "df = pandas.read_csv('write.csv')"
   ]
  },
  {
   "cell_type": "code",
   "execution_count": 278,
   "metadata": {},
   "outputs": [],
   "source": [
    "topNames = df.groupby(\"actionName\").size().sort_values(ascending=False)[0:50].keys()\n",
    "df = df[df.actionName.isin(topNames)]\n",
    "actionByUsers = df.groupby([\"userName\",\"actionName\"]).size()\n",
    "actionByUsers=actionByUsers.apply(lambda x:1)\n",
    "actionByUsers=actionByUsers.unstack()\n",
    "actionByUsers=actionByUsers.fillna(0.0)\n",
    "mat=coo_matrix(actionByUsers.values,dtype='float32')\n",
    "users=actionByUsers.index.tolist()\n",
    "items=list(actionByUsers.columns.values)"
   ]
  },
  {
   "cell_type": "code",
   "execution_count": 279,
   "metadata": {},
   "outputs": [],
   "source": [
    "tags = pandas.read_json(path_or_buf=\"C:\\\\Users\\\\Robert\\\\python\\\\tagiDlaWebnei.json\", orient = 'records', dtype={\"A\":str, \"B\":list})\n",
    "tags[tags.title!=items[14]]\n",
    "sum = []\n",
    "for i in list(tags.tags.values):\n",
    "    sum = sum + i\n",
    "tagsList=list(OrderedDict.fromkeys(sum))"
   ]
  },
  {
   "cell_type": "code",
   "execution_count": 280,
   "metadata": {},
   "outputs": [],
   "source": [
    "tagsMatrix = coo_matrix((len(items),len(tagsList)),dtype='float32')"
   ]
  },
  {
   "cell_type": "code",
   "execution_count": 284,
   "metadata": {},
   "outputs": [
    {
     "data": {
      "text/plain": [
       "<50x32 sparse matrix of type '<class 'numpy.float32'>'\n",
       "\twith 25 stored elements in COOrdinate format>"
      ]
     },
     "execution_count": 284,
     "metadata": {},
     "output_type": "execute_result"
    }
   ],
   "source": [
    "rowM  = []\n",
    "colM  = []\n",
    "dataM = []\n",
    "#np.array([])\n",
    "for index, row in tags.iterrows():\n",
    "    for rowA in row[1]:\n",
    "        if((row[2] in items)&(rowA in tagsList)):\n",
    "            rowM.append(items.index(row[2]))\n",
    "            colM.append(tagsList.index(rowA))\n",
    "            dataM.append(1.0)\n",
    "rowM = np.array(rowM, dtype='float32')\n",
    "colM  = np.array(colM, dtype='float32')\n",
    "dataM = np.array(dataM, dtype='float32')\n",
    "tagsMatrix = coo_matrix((dataM,(rowM,colM)),shape=(len(items),len(tagsList)))\n",
    "tagsMatrix"
   ]
  },
  {
   "cell_type": "code",
   "execution_count": 294,
   "metadata": {},
   "outputs": [
    {
     "name": "stdout",
     "output_type": "stream",
     "text": [
      "Wall time: 361 ms\n",
      "Collaborative filtering train AUC: 0.38730213\n"
     ]
    }
   ],
   "source": [
    "train, test = cross_validation.random_train_test_split(mat)\n",
    "NUM_THREADS = 2\n",
    "NUM_COMPONENTS = 30\n",
    "NUM_EPOCHS = 3\n",
    "ITEM_ALPHA = 1e-6\n",
    "\n",
    "# Let's fit a WARP model: these generally have the best performance.\n",
    "model = LightFM(loss='warp',\n",
    "                item_alpha=ITEM_ALPHA,\n",
    "               no_components=NUM_COMPONENTS)\n",
    "\n",
    "# Run 3 epochs and time it.\n",
    "%time model = model.fit(train,item_features = tagsMatrix,epochs=NUM_EPOCHS, num_threads=NUM_THREADS)\n",
    "\n",
    "from lightfm.evaluation import auc_score\n",
    "\n",
    "# Compute and print the AUC score\n",
    "train_auc = auc_score(model, train ,item_features = tagsMatrix, num_threads=NUM_THREADS).mean()\n",
    "print('Collaborative filtering train AUC: %s' % train_auc)"
   ]
  },
  {
   "cell_type": "code",
   "execution_count": 292,
   "metadata": {},
   "outputs": [
    {
     "name": "stdout",
     "output_type": "stream",
     "text": [
      "Hybrid test set AUC: 0.28911808\n"
     ]
    }
   ],
   "source": [
    "test_auc = auc_score(model,\n",
    "                    test,\n",
    "                    train_interactions=train,\n",
    "                    item_features=tagsMatrix,\n",
    "                    num_threads=NUM_THREADS).mean()\n",
    "print('Hybrid test set AUC: %s' % test_auc)"
   ]
  }
 ],
 "metadata": {
  "kernelspec": {
   "display_name": "Python 3",
   "language": "python",
   "name": "python3"
  },
  "language_info": {
   "codemirror_mode": {
    "name": "ipython",
    "version": 3
   },
   "file_extension": ".py",
   "mimetype": "text/x-python",
   "name": "python",
   "nbconvert_exporter": "python",
   "pygments_lexer": "ipython3",
   "version": "3.6.4"
  }
 },
 "nbformat": 4,
 "nbformat_minor": 2
}
