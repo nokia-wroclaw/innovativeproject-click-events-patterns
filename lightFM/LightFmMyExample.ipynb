{
 "cells": [
  {
   "cell_type": "code",
   "execution_count": 2,
   "metadata": {},
   "outputs": [
    {
     "name": "stderr",
     "output_type": "stream",
     "text": [
      "C:\\Users\\Robert\\Anaconda3\\lib\\site-packages\\lightfm\\_lightfm_fast.py:9: UserWarning: LightFM was compiled without OpenMP support. Only a single thread will be used.\n",
      "  warnings.warn('LightFM was compiled without OpenMP support. '\n"
     ]
    }
   ],
   "source": [
    "import pandas\n",
    "import lightfm\n",
    "from lightfm import LightFM\n",
    "from lightfm import cross_validation\n",
    "from scipy.sparse import coo_matrix"
   ]
  },
  {
   "cell_type": "code",
   "execution_count": 3,
   "metadata": {},
   "outputs": [],
   "source": [
    "df = pandas.read_csv('write.csv')"
   ]
  },
  {
   "cell_type": "code",
   "execution_count": 4,
   "metadata": {},
   "outputs": [],
   "source": [
    "topNames = df.groupby(\"actionName\").size().sort_values(ascending=False)[0:50].keys()\n",
    "df = df[df.actionName.isin(topNames)]\n",
    "actionByUsers = df.groupby([\"userName\",\"actionName\"]).size()\n",
    "actionByUsers=actionByUsers.apply(lambda x:1)\n",
    "actionByUsers=actionByUsers.unstack()\n",
    "actionByUsers=actionByUsers.fillna(0.0)\n",
    "#actionByUsers=actionByUsers.stack()\n",
    "#users=list(actionByUsers.index.get_level_values(0))\n",
    "#items=list(actionByUsers.index.get_level_values(1))\n",
    "#ratings=list(actionByUsers.values)"
   ]
  },
  {
   "cell_type": "code",
   "execution_count": 5,
   "metadata": {},
   "outputs": [
    {
     "data": {
      "text/plain": [
       "<6115x50 sparse matrix of type '<class 'numpy.float64'>'\n",
       "\twith 25420 stored elements in COOrdinate format>"
      ]
     },
     "execution_count": 5,
     "metadata": {},
     "output_type": "execute_result"
    }
   ],
   "source": [
    "coo_matrix(actionByUsers.values)"
   ]
  },
  {
   "cell_type": "code",
   "execution_count": 10,
   "metadata": {},
   "outputs": [
    {
     "data": {
      "text/plain": [
       "array(['5G', '5G Dimensioning Guideline',\n",
       "       '5G Fundamentals - introduction to physical layer',\n",
       "       '5G downloaded', '5G17 NB Architecture and HW Components Complex',\n",
       "       '5G18A Essentials', '5GC000275 AirScale Common ASIK',\n",
       "       '5GC000276 AirScale Capacity ABIL',\n",
       "       '5GC000353 QSFP+ for Fronthaul LL interface',\n",
       "       '5GC000608 Supported 5G RAP configurations - III',\n",
       "       '5GC000623 AirScale Subrack AMIA',\n",
       "       '5GC000664 AEQD AirScale MAA 64T64R 128AE B43 200W',\n",
       "       'AirScale System Module in FDD LTE (FL16A)', 'Baseband Pooling',\n",
       "       'Baseband pooling', 'CORE', 'CORE downloaded', 'Creation date',\n",
       "       'GSM', 'Inter-site Carrier Aggregation',\n",
       "       'Introduction to Virtualization and Telco Cloud',\n",
       "       'IoT - Internet of Things - Introduction', 'LTE', 'LTE FDD',\n",
       "       'LTE TDD', 'LTE downloaded', 'LTE-M Enhancements I', 'LTE1130',\n",
       "       'LTE2479', 'LTE2582',\n",
       "       'LTE2582 DL 4x4 MIMO with Carrier Aggregation', 'LTE2733',\n",
       "       'LTE2733 Baseband pooling', 'LTE3071', 'LTE3071 NB-IoT Part 1',\n",
       "       'LTE3128', 'LTE3128 LTE-M (Part 1)', 'LTE3128 LTE-M (Part2)',\n",
       "       'Massive MIMO essentials - technical briefing', 'NB-IoT Part 1',\n",
       "       'PCell Swap', 'SINGLE RAN', 'SINGLE RAN downloaded',\n",
       "       'Step towards Next Gen Telco: 5G introduction',\n",
       "       'VoLTE Performance', 'WCDMA', 'WCDMA downloaded', 'favourites',\n",
       "       'internals', 'top'], dtype=object)"
      ]
     },
     "execution_count": 10,
     "metadata": {},
     "output_type": "execute_result"
    }
   ],
   "source": [
    "actionByUsers.columns.values"
   ]
  },
  {
   "cell_type": "code",
   "execution_count": 47,
   "metadata": {},
   "outputs": [],
   "source": [
    "#lightfm.cross_validation.random_train_test_split(interactions, test_percentage=0.2, random_state=None)"
   ]
  },
  {
   "cell_type": "code",
   "execution_count": 48,
   "metadata": {},
   "outputs": [],
   "source": [
    "train, test = cross_validation.random_train_test_split(coo_matrix(actionByUsers.values))"
   ]
  },
  {
   "cell_type": "code",
   "execution_count": 49,
   "metadata": {},
   "outputs": [
    {
     "data": {
      "text/plain": [
       "<6115x50 sparse matrix of type '<class 'numpy.float64'>'\n",
       "\twith 5084 stored elements in COOrdinate format>"
      ]
     },
     "execution_count": 49,
     "metadata": {},
     "output_type": "execute_result"
    }
   ],
   "source": [
    "test"
   ]
  },
  {
   "cell_type": "code",
   "execution_count": 50,
   "metadata": {},
   "outputs": [
    {
     "name": "stdout",
     "output_type": "stream",
     "text": [
      "Wall time: 526 ms\n"
     ]
    }
   ],
   "source": [
    "NUM_THREADS = 2\n",
    "NUM_COMPONENTS = 30\n",
    "NUM_EPOCHS = 3\n",
    "ITEM_ALPHA = 1e-6\n",
    "\n",
    "# Let's fit a WARP model: these generally have the best performance.\n",
    "model = LightFM(loss='warp',\n",
    "                item_alpha=ITEM_ALPHA,\n",
    "               no_components=NUM_COMPONENTS)\n",
    "\n",
    "# Run 3 epochs and time it.\n",
    "%time model = model.fit(train,epochs=NUM_EPOCHS, num_threads=NUM_THREADS)"
   ]
  },
  {
   "cell_type": "code",
   "execution_count": 51,
   "metadata": {},
   "outputs": [
    {
     "name": "stdout",
     "output_type": "stream",
     "text": [
      "AUC: 0.94228905\n"
     ]
    }
   ],
   "source": [
    "\n",
    "\n",
    "# Import the evaluation routines\n",
    "from lightfm.evaluation import auc_score\n",
    "\n",
    "# Compute and print the AUC score\n",
    "train_auc = auc_score(model, train, num_threads=NUM_THREADS).mean()\n",
    "print('AUC: %s' % train_auc)"
   ]
  },
  {
   "cell_type": "code",
   "execution_count": 52,
   "metadata": {},
   "outputs": [
    {
     "name": "stdout",
     "output_type": "stream",
     "text": [
      "AUC: 0.8448011\n"
     ]
    }
   ],
   "source": [
    "test_auc = auc_score(model,\n",
    "                    test,\n",
    "                    train_interactions=train,\n",
    "                    num_threads=NUM_THREADS).mean()\n",
    "print('AUC: %s' % test_auc)"
   ]
  },
  {
   "cell_type": "code",
   "execution_count": null,
   "metadata": {},
   "outputs": [],
   "source": []
  },
  {
   "cell_type": "code",
   "execution_count": null,
   "metadata": {},
   "outputs": [],
   "source": []
  }
 ],
 "metadata": {
  "kernelspec": {
   "display_name": "Python 3",
   "language": "python",
   "name": "python3"
  },
  "language_info": {
   "codemirror_mode": {
    "name": "ipython",
    "version": 3
   },
   "file_extension": ".py",
   "mimetype": "text/x-python",
   "name": "python",
   "nbconvert_exporter": "python",
   "pygments_lexer": "ipython3",
   "version": "3.6.4"
  }
 },
 "nbformat": 4,
 "nbformat_minor": 2
}
