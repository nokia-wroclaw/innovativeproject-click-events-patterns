{
 "cells": [
  {
   "cell_type": "code",
   "execution_count": 2,
   "metadata": {},
   "outputs": [],
   "source": [
    "import pandas\n",
    "import math\n",
    "\n",
    "data = pandas.read_csv('write.csv')\n",
    "dataa = data[data.actionCategory =='Tag filtering Clicked']\n"
   ]
  },
  {
   "cell_type": "code",
   "execution_count": 3,
   "metadata": {},
   "outputs": [
    {
     "data": {
      "text/html": [
       "<script>\n",
       "code_show=true; \n",
       "function code_toggle() {\n",
       " if (code_show){\n",
       " $('div.input').hide();\n",
       " } else {\n",
       " $('div.input').show();\n",
       " }\n",
       " code_show = !code_show\n",
       "} \n",
       "$( document ).ready(code_toggle);\n",
       "</script>\n",
       "The raw code for this IPython notebook is by default hidden for easier reading.\n",
       "To toggle on/off the raw code, click <a href=\"javascript:code_toggle()\">here</a>."
      ],
      "text/plain": [
       "<IPython.core.display.HTML object>"
      ]
     },
     "execution_count": 3,
     "metadata": {},
     "output_type": "execute_result"
    }
   ],
   "source": [
    "from IPython.display import HTML\n",
    "\n",
    "HTML('''<script>\n",
    "code_show=true; \n",
    "function code_toggle() {\n",
    " if (code_show){\n",
    " $('div.input').hide();\n",
    " } else {\n",
    " $('div.input').show();\n",
    " }\n",
    " code_show = !code_show\n",
    "} \n",
    "$( document ).ready(code_toggle);\n",
    "</script>\n",
    "The raw code for this IPython notebook is by default hidden for easier reading.\n",
    "To toggle on/off the raw code, click <a href=\"javascript:code_toggle()\">here</a>.''')"
   ]
  },
  {
   "cell_type": "code",
   "execution_count": 4,
   "metadata": {},
   "outputs": [],
   "source": [
    "def getData(data, col1, col2):\n",
    "    xAxis = []\n",
    "    yAxis = []\n",
    "    fields = []\n",
    "    g = data.groupby([col2, col1]).size()\n",
    "    g1=g.unstack()\n",
    "    g1=g1.fillna(0.0)\n",
    "    for x in g1:\n",
    "        for y_name, y in g1[x].iteritems():\n",
    "            yAxis.append(x)\n",
    "            fields.append(y)\n",
    "            xAxis.append(y_name)\n",
    "    obj = {\"xAxis\":xAxis, \"yAxis\":yAxis, \"fields\":fields}\n",
    "    return obj"
   ]
  },
  {
   "cell_type": "code",
   "execution_count": null,
   "metadata": {},
   "outputs": [],
   "source": []
  },
  {
   "cell_type": "code",
   "execution_count": 5,
   "metadata": {},
   "outputs": [
    {
     "data": {
      "text/html": [
       "\n",
       "    <div class=\"bk-root\">\n",
       "        <a href=\"https://bokeh.pydata.org\" target=\"_blank\" class=\"bk-logo bk-logo-small bk-logo-notebook\"></a>\n",
       "        <span id=\"0a237e74-4ebc-429d-897b-70bf48a2a61c\">Loading BokehJS ...</span>\n",
       "    </div>"
      ]
     },
     "metadata": {},
     "output_type": "display_data"
    },
    {
     "data": {
      "application/javascript": [
       "\n",
       "(function(root) {\n",
       "  function now() {\n",
       "    return new Date();\n",
       "  }\n",
       "\n",
       "  var force = true;\n",
       "\n",
       "  if (typeof (root._bokeh_onload_callbacks) === \"undefined\" || force === true) {\n",
       "    root._bokeh_onload_callbacks = [];\n",
       "    root._bokeh_is_loading = undefined;\n",
       "  }\n",
       "\n",
       "  var JS_MIME_TYPE = 'application/javascript';\n",
       "  var HTML_MIME_TYPE = 'text/html';\n",
       "  var EXEC_MIME_TYPE = 'application/vnd.bokehjs_exec.v0+json';\n",
       "  var CLASS_NAME = 'output_bokeh rendered_html';\n",
       "\n",
       "  /**\n",
       "   * Render data to the DOM node\n",
       "   */\n",
       "  function render(props, node) {\n",
       "    var script = document.createElement(\"script\");\n",
       "    node.appendChild(script);\n",
       "  }\n",
       "\n",
       "  /**\n",
       "   * Handle when an output is cleared or removed\n",
       "   */\n",
       "  function handleClearOutput(event, handle) {\n",
       "    var cell = handle.cell;\n",
       "\n",
       "    var id = cell.output_area._bokeh_element_id;\n",
       "    var server_id = cell.output_area._bokeh_server_id;\n",
       "    // Clean up Bokeh references\n",
       "    if (id !== undefined) {\n",
       "      Bokeh.index[id].model.document.clear();\n",
       "      delete Bokeh.index[id];\n",
       "    }\n",
       "\n",
       "    if (server_id !== undefined) {\n",
       "      // Clean up Bokeh references\n",
       "      var cmd = \"from bokeh.io.state import curstate; print(curstate().uuid_to_server['\" + server_id + \"'].get_sessions()[0].document.roots[0]._id)\";\n",
       "      cell.notebook.kernel.execute(cmd, {\n",
       "        iopub: {\n",
       "          output: function(msg) {\n",
       "            var element_id = msg.content.text.trim();\n",
       "            Bokeh.index[element_id].model.document.clear();\n",
       "            delete Bokeh.index[element_id];\n",
       "          }\n",
       "        }\n",
       "      });\n",
       "      // Destroy server and session\n",
       "      var cmd = \"import bokeh.io.notebook as ion; ion.destroy_server('\" + server_id + \"')\";\n",
       "      cell.notebook.kernel.execute(cmd);\n",
       "    }\n",
       "  }\n",
       "\n",
       "  /**\n",
       "   * Handle when a new output is added\n",
       "   */\n",
       "  function handleAddOutput(event, handle) {\n",
       "    var output_area = handle.output_area;\n",
       "    var output = handle.output;\n",
       "\n",
       "    // limit handleAddOutput to display_data with EXEC_MIME_TYPE content only\n",
       "    if ((output.output_type != \"display_data\") || (!output.data.hasOwnProperty(EXEC_MIME_TYPE))) {\n",
       "      return\n",
       "    }\n",
       "\n",
       "    var toinsert = output_area.element.find(\".\" + CLASS_NAME.split(' ')[0]);\n",
       "\n",
       "    if (output.metadata[EXEC_MIME_TYPE][\"id\"] !== undefined) {\n",
       "      toinsert[0].firstChild.textContent = output.data[JS_MIME_TYPE];\n",
       "      // store reference to embed id on output_area\n",
       "      output_area._bokeh_element_id = output.metadata[EXEC_MIME_TYPE][\"id\"];\n",
       "    }\n",
       "    if (output.metadata[EXEC_MIME_TYPE][\"server_id\"] !== undefined) {\n",
       "      var bk_div = document.createElement(\"div\");\n",
       "      bk_div.innerHTML = output.data[HTML_MIME_TYPE];\n",
       "      var script_attrs = bk_div.children[0].attributes;\n",
       "      for (var i = 0; i < script_attrs.length; i++) {\n",
       "        toinsert[0].firstChild.setAttribute(script_attrs[i].name, script_attrs[i].value);\n",
       "      }\n",
       "      // store reference to server id on output_area\n",
       "      output_area._bokeh_server_id = output.metadata[EXEC_MIME_TYPE][\"server_id\"];\n",
       "    }\n",
       "  }\n",
       "\n",
       "  function register_renderer(events, OutputArea) {\n",
       "\n",
       "    function append_mime(data, metadata, element) {\n",
       "      // create a DOM node to render to\n",
       "      var toinsert = this.create_output_subarea(\n",
       "        metadata,\n",
       "        CLASS_NAME,\n",
       "        EXEC_MIME_TYPE\n",
       "      );\n",
       "      this.keyboard_manager.register_events(toinsert);\n",
       "      // Render to node\n",
       "      var props = {data: data, metadata: metadata[EXEC_MIME_TYPE]};\n",
       "      render(props, toinsert[0]);\n",
       "      element.append(toinsert);\n",
       "      return toinsert\n",
       "    }\n",
       "\n",
       "    /* Handle when an output is cleared or removed */\n",
       "    events.on('clear_output.CodeCell', handleClearOutput);\n",
       "    events.on('delete.Cell', handleClearOutput);\n",
       "\n",
       "    /* Handle when a new output is added */\n",
       "    events.on('output_added.OutputArea', handleAddOutput);\n",
       "\n",
       "    /**\n",
       "     * Register the mime type and append_mime function with output_area\n",
       "     */\n",
       "    OutputArea.prototype.register_mime_type(EXEC_MIME_TYPE, append_mime, {\n",
       "      /* Is output safe? */\n",
       "      safe: true,\n",
       "      /* Index of renderer in `output_area.display_order` */\n",
       "      index: 0\n",
       "    });\n",
       "  }\n",
       "\n",
       "  // register the mime type if in Jupyter Notebook environment and previously unregistered\n",
       "  if (root.Jupyter !== undefined) {\n",
       "    var events = require('base/js/events');\n",
       "    var OutputArea = require('notebook/js/outputarea').OutputArea;\n",
       "\n",
       "    if (OutputArea.prototype.mime_types().indexOf(EXEC_MIME_TYPE) == -1) {\n",
       "      register_renderer(events, OutputArea);\n",
       "    }\n",
       "  }\n",
       "\n",
       "  \n",
       "  if (typeof (root._bokeh_timeout) === \"undefined\" || force === true) {\n",
       "    root._bokeh_timeout = Date.now() + 5000;\n",
       "    root._bokeh_failed_load = false;\n",
       "  }\n",
       "\n",
       "  var NB_LOAD_WARNING = {'data': {'text/html':\n",
       "     \"<div style='background-color: #fdd'>\\n\"+\n",
       "     \"<p>\\n\"+\n",
       "     \"BokehJS does not appear to have successfully loaded. If loading BokehJS from CDN, this \\n\"+\n",
       "     \"may be due to a slow or bad network connection. Possible fixes:\\n\"+\n",
       "     \"</p>\\n\"+\n",
       "     \"<ul>\\n\"+\n",
       "     \"<li>re-rerun `output_notebook()` to attempt to load from CDN again, or</li>\\n\"+\n",
       "     \"<li>use INLINE resources instead, as so:</li>\\n\"+\n",
       "     \"</ul>\\n\"+\n",
       "     \"<code>\\n\"+\n",
       "     \"from bokeh.resources import INLINE\\n\"+\n",
       "     \"output_notebook(resources=INLINE)\\n\"+\n",
       "     \"</code>\\n\"+\n",
       "     \"</div>\"}};\n",
       "\n",
       "  function display_loaded() {\n",
       "    var el = document.getElementById(\"0a237e74-4ebc-429d-897b-70bf48a2a61c\");\n",
       "    if (el != null) {\n",
       "      el.textContent = \"BokehJS is loading...\";\n",
       "    }\n",
       "    if (root.Bokeh !== undefined) {\n",
       "      if (el != null) {\n",
       "        el.textContent = \"BokehJS \" + root.Bokeh.version + \" successfully loaded.\";\n",
       "      }\n",
       "    } else if (Date.now() < root._bokeh_timeout) {\n",
       "      setTimeout(display_loaded, 100)\n",
       "    }\n",
       "  }\n",
       "\n",
       "\n",
       "  function run_callbacks() {\n",
       "    try {\n",
       "      root._bokeh_onload_callbacks.forEach(function(callback) { callback() });\n",
       "    }\n",
       "    finally {\n",
       "      delete root._bokeh_onload_callbacks\n",
       "    }\n",
       "    console.info(\"Bokeh: all callbacks have finished\");\n",
       "  }\n",
       "\n",
       "  function load_libs(js_urls, callback) {\n",
       "    root._bokeh_onload_callbacks.push(callback);\n",
       "    if (root._bokeh_is_loading > 0) {\n",
       "      console.log(\"Bokeh: BokehJS is being loaded, scheduling callback at\", now());\n",
       "      return null;\n",
       "    }\n",
       "    if (js_urls == null || js_urls.length === 0) {\n",
       "      run_callbacks();\n",
       "      return null;\n",
       "    }\n",
       "    console.log(\"Bokeh: BokehJS not loaded, scheduling load and callback at\", now());\n",
       "    root._bokeh_is_loading = js_urls.length;\n",
       "    for (var i = 0; i < js_urls.length; i++) {\n",
       "      var url = js_urls[i];\n",
       "      var s = document.createElement('script');\n",
       "      s.src = url;\n",
       "      s.async = false;\n",
       "      s.onreadystatechange = s.onload = function() {\n",
       "        root._bokeh_is_loading--;\n",
       "        if (root._bokeh_is_loading === 0) {\n",
       "          console.log(\"Bokeh: all BokehJS libraries loaded\");\n",
       "          run_callbacks()\n",
       "        }\n",
       "      };\n",
       "      s.onerror = function() {\n",
       "        console.warn(\"failed to load library \" + url);\n",
       "      };\n",
       "      console.log(\"Bokeh: injecting script tag for BokehJS library: \", url);\n",
       "      document.getElementsByTagName(\"head\")[0].appendChild(s);\n",
       "    }\n",
       "  };var element = document.getElementById(\"0a237e74-4ebc-429d-897b-70bf48a2a61c\");\n",
       "  if (element == null) {\n",
       "    console.log(\"Bokeh: ERROR: autoload.js configured with elementid '0a237e74-4ebc-429d-897b-70bf48a2a61c' but no matching script tag was found. \")\n",
       "    return false;\n",
       "  }\n",
       "\n",
       "  var js_urls = [\"https://cdn.pydata.org/bokeh/release/bokeh-0.12.13.min.js\", \"https://cdn.pydata.org/bokeh/release/bokeh-widgets-0.12.13.min.js\", \"https://cdn.pydata.org/bokeh/release/bokeh-tables-0.12.13.min.js\", \"https://cdn.pydata.org/bokeh/release/bokeh-gl-0.12.13.min.js\"];\n",
       "\n",
       "  var inline_js = [\n",
       "    function(Bokeh) {\n",
       "      Bokeh.set_log_level(\"info\");\n",
       "    },\n",
       "    \n",
       "    function(Bokeh) {\n",
       "      \n",
       "    },\n",
       "    function(Bokeh) {\n",
       "      console.log(\"Bokeh: injecting CSS: https://cdn.pydata.org/bokeh/release/bokeh-0.12.13.min.css\");\n",
       "      Bokeh.embed.inject_css(\"https://cdn.pydata.org/bokeh/release/bokeh-0.12.13.min.css\");\n",
       "      console.log(\"Bokeh: injecting CSS: https://cdn.pydata.org/bokeh/release/bokeh-widgets-0.12.13.min.css\");\n",
       "      Bokeh.embed.inject_css(\"https://cdn.pydata.org/bokeh/release/bokeh-widgets-0.12.13.min.css\");\n",
       "      console.log(\"Bokeh: injecting CSS: https://cdn.pydata.org/bokeh/release/bokeh-tables-0.12.13.min.css\");\n",
       "      Bokeh.embed.inject_css(\"https://cdn.pydata.org/bokeh/release/bokeh-tables-0.12.13.min.css\");\n",
       "    }\n",
       "  ];\n",
       "\n",
       "  function run_inline_js() {\n",
       "    \n",
       "    if ((root.Bokeh !== undefined) || (force === true)) {\n",
       "      for (var i = 0; i < inline_js.length; i++) {\n",
       "        inline_js[i].call(root, root.Bokeh);\n",
       "      }if (force === true) {\n",
       "        display_loaded();\n",
       "      }} else if (Date.now() < root._bokeh_timeout) {\n",
       "      setTimeout(run_inline_js, 100);\n",
       "    } else if (!root._bokeh_failed_load) {\n",
       "      console.log(\"Bokeh: BokehJS failed to load within specified timeout.\");\n",
       "      root._bokeh_failed_load = true;\n",
       "    } else if (force !== true) {\n",
       "      var cell = $(document.getElementById(\"0a237e74-4ebc-429d-897b-70bf48a2a61c\")).parents('.cell').data().cell;\n",
       "      cell.output_area.append_execute_result(NB_LOAD_WARNING)\n",
       "    }\n",
       "\n",
       "  }\n",
       "\n",
       "  if (root._bokeh_is_loading === 0) {\n",
       "    console.log(\"Bokeh: BokehJS loaded, going straight to plotting\");\n",
       "    run_inline_js();\n",
       "  } else {\n",
       "    load_libs(js_urls, function() {\n",
       "      console.log(\"Bokeh: BokehJS plotting callback run at\", now());\n",
       "      run_inline_js();\n",
       "    });\n",
       "  }\n",
       "}(window));"
      ],
      "application/vnd.bokehjs_load.v0+json": "\n(function(root) {\n  function now() {\n    return new Date();\n  }\n\n  var force = true;\n\n  if (typeof (root._bokeh_onload_callbacks) === \"undefined\" || force === true) {\n    root._bokeh_onload_callbacks = [];\n    root._bokeh_is_loading = undefined;\n  }\n\n  \n\n  \n  if (typeof (root._bokeh_timeout) === \"undefined\" || force === true) {\n    root._bokeh_timeout = Date.now() + 5000;\n    root._bokeh_failed_load = false;\n  }\n\n  var NB_LOAD_WARNING = {'data': {'text/html':\n     \"<div style='background-color: #fdd'>\\n\"+\n     \"<p>\\n\"+\n     \"BokehJS does not appear to have successfully loaded. If loading BokehJS from CDN, this \\n\"+\n     \"may be due to a slow or bad network connection. Possible fixes:\\n\"+\n     \"</p>\\n\"+\n     \"<ul>\\n\"+\n     \"<li>re-rerun `output_notebook()` to attempt to load from CDN again, or</li>\\n\"+\n     \"<li>use INLINE resources instead, as so:</li>\\n\"+\n     \"</ul>\\n\"+\n     \"<code>\\n\"+\n     \"from bokeh.resources import INLINE\\n\"+\n     \"output_notebook(resources=INLINE)\\n\"+\n     \"</code>\\n\"+\n     \"</div>\"}};\n\n  function display_loaded() {\n    var el = document.getElementById(\"0a237e74-4ebc-429d-897b-70bf48a2a61c\");\n    if (el != null) {\n      el.textContent = \"BokehJS is loading...\";\n    }\n    if (root.Bokeh !== undefined) {\n      if (el != null) {\n        el.textContent = \"BokehJS \" + root.Bokeh.version + \" successfully loaded.\";\n      }\n    } else if (Date.now() < root._bokeh_timeout) {\n      setTimeout(display_loaded, 100)\n    }\n  }\n\n\n  function run_callbacks() {\n    try {\n      root._bokeh_onload_callbacks.forEach(function(callback) { callback() });\n    }\n    finally {\n      delete root._bokeh_onload_callbacks\n    }\n    console.info(\"Bokeh: all callbacks have finished\");\n  }\n\n  function load_libs(js_urls, callback) {\n    root._bokeh_onload_callbacks.push(callback);\n    if (root._bokeh_is_loading > 0) {\n      console.log(\"Bokeh: BokehJS is being loaded, scheduling callback at\", now());\n      return null;\n    }\n    if (js_urls == null || js_urls.length === 0) {\n      run_callbacks();\n      return null;\n    }\n    console.log(\"Bokeh: BokehJS not loaded, scheduling load and callback at\", now());\n    root._bokeh_is_loading = js_urls.length;\n    for (var i = 0; i < js_urls.length; i++) {\n      var url = js_urls[i];\n      var s = document.createElement('script');\n      s.src = url;\n      s.async = false;\n      s.onreadystatechange = s.onload = function() {\n        root._bokeh_is_loading--;\n        if (root._bokeh_is_loading === 0) {\n          console.log(\"Bokeh: all BokehJS libraries loaded\");\n          run_callbacks()\n        }\n      };\n      s.onerror = function() {\n        console.warn(\"failed to load library \" + url);\n      };\n      console.log(\"Bokeh: injecting script tag for BokehJS library: \", url);\n      document.getElementsByTagName(\"head\")[0].appendChild(s);\n    }\n  };var element = document.getElementById(\"0a237e74-4ebc-429d-897b-70bf48a2a61c\");\n  if (element == null) {\n    console.log(\"Bokeh: ERROR: autoload.js configured with elementid '0a237e74-4ebc-429d-897b-70bf48a2a61c' but no matching script tag was found. \")\n    return false;\n  }\n\n  var js_urls = [\"https://cdn.pydata.org/bokeh/release/bokeh-0.12.13.min.js\", \"https://cdn.pydata.org/bokeh/release/bokeh-widgets-0.12.13.min.js\", \"https://cdn.pydata.org/bokeh/release/bokeh-tables-0.12.13.min.js\", \"https://cdn.pydata.org/bokeh/release/bokeh-gl-0.12.13.min.js\"];\n\n  var inline_js = [\n    function(Bokeh) {\n      Bokeh.set_log_level(\"info\");\n    },\n    \n    function(Bokeh) {\n      \n    },\n    function(Bokeh) {\n      console.log(\"Bokeh: injecting CSS: https://cdn.pydata.org/bokeh/release/bokeh-0.12.13.min.css\");\n      Bokeh.embed.inject_css(\"https://cdn.pydata.org/bokeh/release/bokeh-0.12.13.min.css\");\n      console.log(\"Bokeh: injecting CSS: https://cdn.pydata.org/bokeh/release/bokeh-widgets-0.12.13.min.css\");\n      Bokeh.embed.inject_css(\"https://cdn.pydata.org/bokeh/release/bokeh-widgets-0.12.13.min.css\");\n      console.log(\"Bokeh: injecting CSS: https://cdn.pydata.org/bokeh/release/bokeh-tables-0.12.13.min.css\");\n      Bokeh.embed.inject_css(\"https://cdn.pydata.org/bokeh/release/bokeh-tables-0.12.13.min.css\");\n    }\n  ];\n\n  function run_inline_js() {\n    \n    if ((root.Bokeh !== undefined) || (force === true)) {\n      for (var i = 0; i < inline_js.length; i++) {\n        inline_js[i].call(root, root.Bokeh);\n      }if (force === true) {\n        display_loaded();\n      }} else if (Date.now() < root._bokeh_timeout) {\n      setTimeout(run_inline_js, 100);\n    } else if (!root._bokeh_failed_load) {\n      console.log(\"Bokeh: BokehJS failed to load within specified timeout.\");\n      root._bokeh_failed_load = true;\n    } else if (force !== true) {\n      var cell = $(document.getElementById(\"0a237e74-4ebc-429d-897b-70bf48a2a61c\")).parents('.cell').data().cell;\n      cell.output_area.append_execute_result(NB_LOAD_WARNING)\n    }\n\n  }\n\n  if (root._bokeh_is_loading === 0) {\n    console.log(\"Bokeh: BokehJS loaded, going straight to plotting\");\n    run_inline_js();\n  } else {\n    load_libs(js_urls, function() {\n      console.log(\"Bokeh: BokehJS plotting callback run at\", now());\n      run_inline_js();\n    });\n  }\n}(window));"
     },
     "metadata": {},
     "output_type": "display_data"
    }
   ],
   "source": [
    "from bokeh.layouts import row\n",
    "from bokeh.plotting import figure, show, output_file\n",
    "from bokeh.io import output_notebook\n",
    "from bokeh.models import HoverTool\n",
    "from bokeh.plotting import ColumnDataSource\n",
    "import bokeh\n",
    "import math\n",
    "output_notebook() "
   ]
  },
  {
   "cell_type": "code",
   "execution_count": null,
   "metadata": {},
   "outputs": [],
   "source": []
  },
  {
   "cell_type": "code",
   "execution_count": 6,
   "metadata": {
    "scrolled": true
   },
   "outputs": [],
   "source": [
    "def dbgroupbyplot(data, grb1, grb2, title='', height = 1000, width = 1000):\n",
    "    obj = getData(data,grb1,grb2)\n",
    "    fields = obj[\"fields\"]\n",
    "    xAxis = obj[\"xAxis\"]\n",
    "    yAxis = obj[\"yAxis\"]\n",
    "\n",
    "    colors = []\n",
    "    maximum = max(fields)\n",
    "    for c in fields:\n",
    "        colors.append(bokeh.colors.RGB(255,(1-math.sqrt(c/maximum))*255,255))\n",
    "\n",
    "    desc = list(map(lambda x:str(x),fields))\n",
    "    source = ColumnDataSource(data=dict(\n",
    "        y = yAxis, \n",
    "        x= xAxis,\n",
    "        color=colors,\n",
    "        desc = desc\n",
    "    ))\n",
    "    hover = HoverTool(tooltips=[\n",
    "        (grb2, \"@y\"),\n",
    "        (\"tool\", \"@x\"),\n",
    "        (\"numbers\", \"@desc\")\n",
    "    ])\n",
    "    hm = figure(title=title, tools=[hover,  'wheel_zoom', 'box_zoom', 'pan', 'reset'],\n",
    "                y_range=data[grb1].unique(), x_range=data[grb2].unique(),  plot_width=1000, plot_height=1000)\n",
    "\n",
    "    hm.rect(     y = 'y', x = 'x', source = source, color=\"color\", width=1, height=1)\n",
    "    hm.xaxis.major_label_orientation = math.pi/3\n",
    "\n",
    "    show(hm)  # open a browser"
   ]
  },
  {
   "cell_type": "code",
   "execution_count": 7,
   "metadata": {},
   "outputs": [],
   "source": [
    "data = pandas.read_csv('write.csv')\n",
    "category1 = data[data.actionCategory == 'Category downloaded'].groupby('actionName').size()\n",
    "category2=data[data.actionCategory == 'Category filtering Clicked'].groupby('actionName').size()\n",
    "category3=data[data.actionCategory == 'CategoryChip filtering Clicked'].groupby('actionName').size()\n",
    "allCategoryFiltering = category2 + category3 + category1.values\n",
    "\n",
    "tagsCount = data[data.actionCategory=='Tag filtering Clicked'].groupby('actionName').size().sort_values()\n",
    "\n",
    "departments = data[data.actionCategory == 'WebNei clicked'].groupby('department').size().sort_values()"
   ]
  },
  {
   "cell_type": "code",
   "execution_count": 8,
   "metadata": {},
   "outputs": [
    {
     "data": {
      "text/html": [
       "\n",
       "    <div class=\"bk-root\">\n",
       "        <a href=\"https://bokeh.pydata.org\" target=\"_blank\" class=\"bk-logo bk-logo-small bk-logo-notebook\"></a>\n",
       "        <span id=\"8cc5395b-d29e-4c16-b8d9-5aee0630ba2c\">Loading BokehJS ...</span>\n",
       "    </div>"
      ]
     },
     "metadata": {},
     "output_type": "display_data"
    },
    {
     "data": {
      "application/javascript": [
       "\n",
       "(function(root) {\n",
       "  function now() {\n",
       "    return new Date();\n",
       "  }\n",
       "\n",
       "  var force = true;\n",
       "\n",
       "  if (typeof (root._bokeh_onload_callbacks) === \"undefined\" || force === true) {\n",
       "    root._bokeh_onload_callbacks = [];\n",
       "    root._bokeh_is_loading = undefined;\n",
       "  }\n",
       "\n",
       "  var JS_MIME_TYPE = 'application/javascript';\n",
       "  var HTML_MIME_TYPE = 'text/html';\n",
       "  var EXEC_MIME_TYPE = 'application/vnd.bokehjs_exec.v0+json';\n",
       "  var CLASS_NAME = 'output_bokeh rendered_html';\n",
       "\n",
       "  /**\n",
       "   * Render data to the DOM node\n",
       "   */\n",
       "  function render(props, node) {\n",
       "    var script = document.createElement(\"script\");\n",
       "    node.appendChild(script);\n",
       "  }\n",
       "\n",
       "  /**\n",
       "   * Handle when an output is cleared or removed\n",
       "   */\n",
       "  function handleClearOutput(event, handle) {\n",
       "    var cell = handle.cell;\n",
       "\n",
       "    var id = cell.output_area._bokeh_element_id;\n",
       "    var server_id = cell.output_area._bokeh_server_id;\n",
       "    // Clean up Bokeh references\n",
       "    if (id !== undefined) {\n",
       "      Bokeh.index[id].model.document.clear();\n",
       "      delete Bokeh.index[id];\n",
       "    }\n",
       "\n",
       "    if (server_id !== undefined) {\n",
       "      // Clean up Bokeh references\n",
       "      var cmd = \"from bokeh.io.state import curstate; print(curstate().uuid_to_server['\" + server_id + \"'].get_sessions()[0].document.roots[0]._id)\";\n",
       "      cell.notebook.kernel.execute(cmd, {\n",
       "        iopub: {\n",
       "          output: function(msg) {\n",
       "            var element_id = msg.content.text.trim();\n",
       "            Bokeh.index[element_id].model.document.clear();\n",
       "            delete Bokeh.index[element_id];\n",
       "          }\n",
       "        }\n",
       "      });\n",
       "      // Destroy server and session\n",
       "      var cmd = \"import bokeh.io.notebook as ion; ion.destroy_server('\" + server_id + \"')\";\n",
       "      cell.notebook.kernel.execute(cmd);\n",
       "    }\n",
       "  }\n",
       "\n",
       "  /**\n",
       "   * Handle when a new output is added\n",
       "   */\n",
       "  function handleAddOutput(event, handle) {\n",
       "    var output_area = handle.output_area;\n",
       "    var output = handle.output;\n",
       "\n",
       "    // limit handleAddOutput to display_data with EXEC_MIME_TYPE content only\n",
       "    if ((output.output_type != \"display_data\") || (!output.data.hasOwnProperty(EXEC_MIME_TYPE))) {\n",
       "      return\n",
       "    }\n",
       "\n",
       "    var toinsert = output_area.element.find(\".\" + CLASS_NAME.split(' ')[0]);\n",
       "\n",
       "    if (output.metadata[EXEC_MIME_TYPE][\"id\"] !== undefined) {\n",
       "      toinsert[0].firstChild.textContent = output.data[JS_MIME_TYPE];\n",
       "      // store reference to embed id on output_area\n",
       "      output_area._bokeh_element_id = output.metadata[EXEC_MIME_TYPE][\"id\"];\n",
       "    }\n",
       "    if (output.metadata[EXEC_MIME_TYPE][\"server_id\"] !== undefined) {\n",
       "      var bk_div = document.createElement(\"div\");\n",
       "      bk_div.innerHTML = output.data[HTML_MIME_TYPE];\n",
       "      var script_attrs = bk_div.children[0].attributes;\n",
       "      for (var i = 0; i < script_attrs.length; i++) {\n",
       "        toinsert[0].firstChild.setAttribute(script_attrs[i].name, script_attrs[i].value);\n",
       "      }\n",
       "      // store reference to server id on output_area\n",
       "      output_area._bokeh_server_id = output.metadata[EXEC_MIME_TYPE][\"server_id\"];\n",
       "    }\n",
       "  }\n",
       "\n",
       "  function register_renderer(events, OutputArea) {\n",
       "\n",
       "    function append_mime(data, metadata, element) {\n",
       "      // create a DOM node to render to\n",
       "      var toinsert = this.create_output_subarea(\n",
       "        metadata,\n",
       "        CLASS_NAME,\n",
       "        EXEC_MIME_TYPE\n",
       "      );\n",
       "      this.keyboard_manager.register_events(toinsert);\n",
       "      // Render to node\n",
       "      var props = {data: data, metadata: metadata[EXEC_MIME_TYPE]};\n",
       "      render(props, toinsert[0]);\n",
       "      element.append(toinsert);\n",
       "      return toinsert\n",
       "    }\n",
       "\n",
       "    /* Handle when an output is cleared or removed */\n",
       "    events.on('clear_output.CodeCell', handleClearOutput);\n",
       "    events.on('delete.Cell', handleClearOutput);\n",
       "\n",
       "    /* Handle when a new output is added */\n",
       "    events.on('output_added.OutputArea', handleAddOutput);\n",
       "\n",
       "    /**\n",
       "     * Register the mime type and append_mime function with output_area\n",
       "     */\n",
       "    OutputArea.prototype.register_mime_type(EXEC_MIME_TYPE, append_mime, {\n",
       "      /* Is output safe? */\n",
       "      safe: true,\n",
       "      /* Index of renderer in `output_area.display_order` */\n",
       "      index: 0\n",
       "    });\n",
       "  }\n",
       "\n",
       "  // register the mime type if in Jupyter Notebook environment and previously unregistered\n",
       "  if (root.Jupyter !== undefined) {\n",
       "    var events = require('base/js/events');\n",
       "    var OutputArea = require('notebook/js/outputarea').OutputArea;\n",
       "\n",
       "    if (OutputArea.prototype.mime_types().indexOf(EXEC_MIME_TYPE) == -1) {\n",
       "      register_renderer(events, OutputArea);\n",
       "    }\n",
       "  }\n",
       "\n",
       "  \n",
       "  if (typeof (root._bokeh_timeout) === \"undefined\" || force === true) {\n",
       "    root._bokeh_timeout = Date.now() + 5000;\n",
       "    root._bokeh_failed_load = false;\n",
       "  }\n",
       "\n",
       "  var NB_LOAD_WARNING = {'data': {'text/html':\n",
       "     \"<div style='background-color: #fdd'>\\n\"+\n",
       "     \"<p>\\n\"+\n",
       "     \"BokehJS does not appear to have successfully loaded. If loading BokehJS from CDN, this \\n\"+\n",
       "     \"may be due to a slow or bad network connection. Possible fixes:\\n\"+\n",
       "     \"</p>\\n\"+\n",
       "     \"<ul>\\n\"+\n",
       "     \"<li>re-rerun `output_notebook()` to attempt to load from CDN again, or</li>\\n\"+\n",
       "     \"<li>use INLINE resources instead, as so:</li>\\n\"+\n",
       "     \"</ul>\\n\"+\n",
       "     \"<code>\\n\"+\n",
       "     \"from bokeh.resources import INLINE\\n\"+\n",
       "     \"output_notebook(resources=INLINE)\\n\"+\n",
       "     \"</code>\\n\"+\n",
       "     \"</div>\"}};\n",
       "\n",
       "  function display_loaded() {\n",
       "    var el = document.getElementById(\"8cc5395b-d29e-4c16-b8d9-5aee0630ba2c\");\n",
       "    if (el != null) {\n",
       "      el.textContent = \"BokehJS is loading...\";\n",
       "    }\n",
       "    if (root.Bokeh !== undefined) {\n",
       "      if (el != null) {\n",
       "        el.textContent = \"BokehJS \" + root.Bokeh.version + \" successfully loaded.\";\n",
       "      }\n",
       "    } else if (Date.now() < root._bokeh_timeout) {\n",
       "      setTimeout(display_loaded, 100)\n",
       "    }\n",
       "  }\n",
       "\n",
       "\n",
       "  function run_callbacks() {\n",
       "    try {\n",
       "      root._bokeh_onload_callbacks.forEach(function(callback) { callback() });\n",
       "    }\n",
       "    finally {\n",
       "      delete root._bokeh_onload_callbacks\n",
       "    }\n",
       "    console.info(\"Bokeh: all callbacks have finished\");\n",
       "  }\n",
       "\n",
       "  function load_libs(js_urls, callback) {\n",
       "    root._bokeh_onload_callbacks.push(callback);\n",
       "    if (root._bokeh_is_loading > 0) {\n",
       "      console.log(\"Bokeh: BokehJS is being loaded, scheduling callback at\", now());\n",
       "      return null;\n",
       "    }\n",
       "    if (js_urls == null || js_urls.length === 0) {\n",
       "      run_callbacks();\n",
       "      return null;\n",
       "    }\n",
       "    console.log(\"Bokeh: BokehJS not loaded, scheduling load and callback at\", now());\n",
       "    root._bokeh_is_loading = js_urls.length;\n",
       "    for (var i = 0; i < js_urls.length; i++) {\n",
       "      var url = js_urls[i];\n",
       "      var s = document.createElement('script');\n",
       "      s.src = url;\n",
       "      s.async = false;\n",
       "      s.onreadystatechange = s.onload = function() {\n",
       "        root._bokeh_is_loading--;\n",
       "        if (root._bokeh_is_loading === 0) {\n",
       "          console.log(\"Bokeh: all BokehJS libraries loaded\");\n",
       "          run_callbacks()\n",
       "        }\n",
       "      };\n",
       "      s.onerror = function() {\n",
       "        console.warn(\"failed to load library \" + url);\n",
       "      };\n",
       "      console.log(\"Bokeh: injecting script tag for BokehJS library: \", url);\n",
       "      document.getElementsByTagName(\"head\")[0].appendChild(s);\n",
       "    }\n",
       "  };var element = document.getElementById(\"8cc5395b-d29e-4c16-b8d9-5aee0630ba2c\");\n",
       "  if (element == null) {\n",
       "    console.log(\"Bokeh: ERROR: autoload.js configured with elementid '8cc5395b-d29e-4c16-b8d9-5aee0630ba2c' but no matching script tag was found. \")\n",
       "    return false;\n",
       "  }\n",
       "\n",
       "  var js_urls = [\"https://cdn.pydata.org/bokeh/release/bokeh-0.12.13.min.js\", \"https://cdn.pydata.org/bokeh/release/bokeh-widgets-0.12.13.min.js\", \"https://cdn.pydata.org/bokeh/release/bokeh-tables-0.12.13.min.js\", \"https://cdn.pydata.org/bokeh/release/bokeh-gl-0.12.13.min.js\"];\n",
       "\n",
       "  var inline_js = [\n",
       "    function(Bokeh) {\n",
       "      Bokeh.set_log_level(\"info\");\n",
       "    },\n",
       "    \n",
       "    function(Bokeh) {\n",
       "      \n",
       "    },\n",
       "    function(Bokeh) {\n",
       "      console.log(\"Bokeh: injecting CSS: https://cdn.pydata.org/bokeh/release/bokeh-0.12.13.min.css\");\n",
       "      Bokeh.embed.inject_css(\"https://cdn.pydata.org/bokeh/release/bokeh-0.12.13.min.css\");\n",
       "      console.log(\"Bokeh: injecting CSS: https://cdn.pydata.org/bokeh/release/bokeh-widgets-0.12.13.min.css\");\n",
       "      Bokeh.embed.inject_css(\"https://cdn.pydata.org/bokeh/release/bokeh-widgets-0.12.13.min.css\");\n",
       "      console.log(\"Bokeh: injecting CSS: https://cdn.pydata.org/bokeh/release/bokeh-tables-0.12.13.min.css\");\n",
       "      Bokeh.embed.inject_css(\"https://cdn.pydata.org/bokeh/release/bokeh-tables-0.12.13.min.css\");\n",
       "    }\n",
       "  ];\n",
       "\n",
       "  function run_inline_js() {\n",
       "    \n",
       "    if ((root.Bokeh !== undefined) || (force === true)) {\n",
       "      for (var i = 0; i < inline_js.length; i++) {\n",
       "        inline_js[i].call(root, root.Bokeh);\n",
       "      }if (force === true) {\n",
       "        display_loaded();\n",
       "      }} else if (Date.now() < root._bokeh_timeout) {\n",
       "      setTimeout(run_inline_js, 100);\n",
       "    } else if (!root._bokeh_failed_load) {\n",
       "      console.log(\"Bokeh: BokehJS failed to load within specified timeout.\");\n",
       "      root._bokeh_failed_load = true;\n",
       "    } else if (force !== true) {\n",
       "      var cell = $(document.getElementById(\"8cc5395b-d29e-4c16-b8d9-5aee0630ba2c\")).parents('.cell').data().cell;\n",
       "      cell.output_area.append_execute_result(NB_LOAD_WARNING)\n",
       "    }\n",
       "\n",
       "  }\n",
       "\n",
       "  if (root._bokeh_is_loading === 0) {\n",
       "    console.log(\"Bokeh: BokehJS loaded, going straight to plotting\");\n",
       "    run_inline_js();\n",
       "  } else {\n",
       "    load_libs(js_urls, function() {\n",
       "      console.log(\"Bokeh: BokehJS plotting callback run at\", now());\n",
       "      run_inline_js();\n",
       "    });\n",
       "  }\n",
       "}(window));"
      ],
      "application/vnd.bokehjs_load.v0+json": "\n(function(root) {\n  function now() {\n    return new Date();\n  }\n\n  var force = true;\n\n  if (typeof (root._bokeh_onload_callbacks) === \"undefined\" || force === true) {\n    root._bokeh_onload_callbacks = [];\n    root._bokeh_is_loading = undefined;\n  }\n\n  \n\n  \n  if (typeof (root._bokeh_timeout) === \"undefined\" || force === true) {\n    root._bokeh_timeout = Date.now() + 5000;\n    root._bokeh_failed_load = false;\n  }\n\n  var NB_LOAD_WARNING = {'data': {'text/html':\n     \"<div style='background-color: #fdd'>\\n\"+\n     \"<p>\\n\"+\n     \"BokehJS does not appear to have successfully loaded. If loading BokehJS from CDN, this \\n\"+\n     \"may be due to a slow or bad network connection. Possible fixes:\\n\"+\n     \"</p>\\n\"+\n     \"<ul>\\n\"+\n     \"<li>re-rerun `output_notebook()` to attempt to load from CDN again, or</li>\\n\"+\n     \"<li>use INLINE resources instead, as so:</li>\\n\"+\n     \"</ul>\\n\"+\n     \"<code>\\n\"+\n     \"from bokeh.resources import INLINE\\n\"+\n     \"output_notebook(resources=INLINE)\\n\"+\n     \"</code>\\n\"+\n     \"</div>\"}};\n\n  function display_loaded() {\n    var el = document.getElementById(\"8cc5395b-d29e-4c16-b8d9-5aee0630ba2c\");\n    if (el != null) {\n      el.textContent = \"BokehJS is loading...\";\n    }\n    if (root.Bokeh !== undefined) {\n      if (el != null) {\n        el.textContent = \"BokehJS \" + root.Bokeh.version + \" successfully loaded.\";\n      }\n    } else if (Date.now() < root._bokeh_timeout) {\n      setTimeout(display_loaded, 100)\n    }\n  }\n\n\n  function run_callbacks() {\n    try {\n      root._bokeh_onload_callbacks.forEach(function(callback) { callback() });\n    }\n    finally {\n      delete root._bokeh_onload_callbacks\n    }\n    console.info(\"Bokeh: all callbacks have finished\");\n  }\n\n  function load_libs(js_urls, callback) {\n    root._bokeh_onload_callbacks.push(callback);\n    if (root._bokeh_is_loading > 0) {\n      console.log(\"Bokeh: BokehJS is being loaded, scheduling callback at\", now());\n      return null;\n    }\n    if (js_urls == null || js_urls.length === 0) {\n      run_callbacks();\n      return null;\n    }\n    console.log(\"Bokeh: BokehJS not loaded, scheduling load and callback at\", now());\n    root._bokeh_is_loading = js_urls.length;\n    for (var i = 0; i < js_urls.length; i++) {\n      var url = js_urls[i];\n      var s = document.createElement('script');\n      s.src = url;\n      s.async = false;\n      s.onreadystatechange = s.onload = function() {\n        root._bokeh_is_loading--;\n        if (root._bokeh_is_loading === 0) {\n          console.log(\"Bokeh: all BokehJS libraries loaded\");\n          run_callbacks()\n        }\n      };\n      s.onerror = function() {\n        console.warn(\"failed to load library \" + url);\n      };\n      console.log(\"Bokeh: injecting script tag for BokehJS library: \", url);\n      document.getElementsByTagName(\"head\")[0].appendChild(s);\n    }\n  };var element = document.getElementById(\"8cc5395b-d29e-4c16-b8d9-5aee0630ba2c\");\n  if (element == null) {\n    console.log(\"Bokeh: ERROR: autoload.js configured with elementid '8cc5395b-d29e-4c16-b8d9-5aee0630ba2c' but no matching script tag was found. \")\n    return false;\n  }\n\n  var js_urls = [\"https://cdn.pydata.org/bokeh/release/bokeh-0.12.13.min.js\", \"https://cdn.pydata.org/bokeh/release/bokeh-widgets-0.12.13.min.js\", \"https://cdn.pydata.org/bokeh/release/bokeh-tables-0.12.13.min.js\", \"https://cdn.pydata.org/bokeh/release/bokeh-gl-0.12.13.min.js\"];\n\n  var inline_js = [\n    function(Bokeh) {\n      Bokeh.set_log_level(\"info\");\n    },\n    \n    function(Bokeh) {\n      \n    },\n    function(Bokeh) {\n      console.log(\"Bokeh: injecting CSS: https://cdn.pydata.org/bokeh/release/bokeh-0.12.13.min.css\");\n      Bokeh.embed.inject_css(\"https://cdn.pydata.org/bokeh/release/bokeh-0.12.13.min.css\");\n      console.log(\"Bokeh: injecting CSS: https://cdn.pydata.org/bokeh/release/bokeh-widgets-0.12.13.min.css\");\n      Bokeh.embed.inject_css(\"https://cdn.pydata.org/bokeh/release/bokeh-widgets-0.12.13.min.css\");\n      console.log(\"Bokeh: injecting CSS: https://cdn.pydata.org/bokeh/release/bokeh-tables-0.12.13.min.css\");\n      Bokeh.embed.inject_css(\"https://cdn.pydata.org/bokeh/release/bokeh-tables-0.12.13.min.css\");\n    }\n  ];\n\n  function run_inline_js() {\n    \n    if ((root.Bokeh !== undefined) || (force === true)) {\n      for (var i = 0; i < inline_js.length; i++) {\n        inline_js[i].call(root, root.Bokeh);\n      }if (force === true) {\n        display_loaded();\n      }} else if (Date.now() < root._bokeh_timeout) {\n      setTimeout(run_inline_js, 100);\n    } else if (!root._bokeh_failed_load) {\n      console.log(\"Bokeh: BokehJS failed to load within specified timeout.\");\n      root._bokeh_failed_load = true;\n    } else if (force !== true) {\n      var cell = $(document.getElementById(\"8cc5395b-d29e-4c16-b8d9-5aee0630ba2c\")).parents('.cell').data().cell;\n      cell.output_area.append_execute_result(NB_LOAD_WARNING)\n    }\n\n  }\n\n  if (root._bokeh_is_loading === 0) {\n    console.log(\"Bokeh: BokehJS loaded, going straight to plotting\");\n    run_inline_js();\n  } else {\n    load_libs(js_urls, function() {\n      console.log(\"Bokeh: BokehJS plotting callback run at\", now());\n      run_inline_js();\n    });\n  }\n}(window));"
     },
     "metadata": {},
     "output_type": "display_data"
    }
   ],
   "source": [
    "import pandas\n",
    "import numpy as np\n",
    "import math\n",
    "import functools\n",
    "import bokeh\n",
    "from bokeh.core.properties import value\n",
    "from bokeh.io import show, output_file\n",
    "from bokeh.models import ColumnDataSource\n",
    "from bokeh.plotting import figure\n",
    "from bokeh.io import output_notebook\n",
    "from collections import Counter\n",
    "output_notebook()\n",
    "\n",
    "\n",
    "\n",
    "\n",
    "\n",
    "\n",
    "\n",
    "\n",
    "def plot(series, title=\"\",y_axis_label=\"ilość\", width=900, height=750):\n",
    "    p = figure(title=title, x_axis_label=series.index.name, y_axis_label='ilość', x_range=series.index.values, plot_width=width, plot_height=height)\n",
    "    p.xaxis.major_label_orientation = math.pi/5\n",
    "    p.vbar(series.index.values, line_width=2,top=series.values,width=0.9)\n",
    "    p.xaxis.major_label_text_font_size = \"9pt\"\n",
    "    show(p)"
   ]
  },
  {
   "cell_type": "code",
   "execution_count": 9,
   "metadata": {},
   "outputs": [
    {
     "data": {
      "text/html": [
       "\n",
       "<div class=\"bk-root\">\n",
       "    <div class=\"bk-plotdiv\" id=\"5e075213-ad57-4253-afe7-268453f0de01\"></div>\n",
       "</div>"
      ]
     },
     "metadata": {},
     "output_type": "display_data"
    },
    {
     "data": {
      "application/javascript": [
       "(function(root) {\n",
       "  function embed_document(root) {\n",
       "    \n",
       "  var docs_json = {\"e837744e-a3c4-48a7-9cc9-846fd44c4d49\":{\"roots\":{\"references\":[{\"attributes\":{\"bottom_units\":\"screen\",\"fill_alpha\":{\"value\":0.5},\"fill_color\":{\"value\":\"lightgrey\"},\"left_units\":\"screen\",\"level\":\"overlay\",\"line_alpha\":{\"value\":1.0},\"line_color\":{\"value\":\"black\"},\"line_dash\":[4,4],\"line_width\":{\"value\":2},\"plot\":null,\"render_mode\":\"css\",\"right_units\":\"screen\",\"top_units\":\"screen\"},\"id\":\"f6c6d738-a0bc-4155-8f8e-b5e8d3500e7c\",\"type\":\"BoxAnnotation\"},{\"attributes\":{},\"id\":\"da392d45-b584-423c-a060-5742a4856f1a\",\"type\":\"CategoricalTickFormatter\"},{\"attributes\":{},\"id\":\"3d58b12e-d4ab-4a0d-8a8b-d519540b3746\",\"type\":\"CategoricalScale\"},{\"attributes\":{},\"id\":\"f17391ff-2d3b-4565-b331-8fd9a5a0a807\",\"type\":\"SaveTool\"},{\"attributes\":{\"fill_alpha\":{\"value\":0.1},\"fill_color\":{\"value\":\"#1f77b4\"},\"line_alpha\":{\"value\":0.1},\"line_color\":{\"value\":\"#1f77b4\"},\"line_width\":{\"value\":2},\"top\":{\"field\":\"top\"},\"width\":{\"value\":0.9},\"x\":{\"field\":\"x\"}},\"id\":\"e45bace4-4ee7-4366-a6a2-12ec63e78c23\",\"type\":\"VBar\"},{\"attributes\":{},\"id\":\"cab0c01e-9353-4a90-934f-a76fcf583d13\",\"type\":\"PanTool\"},{\"attributes\":{\"axis_label\":\"ilo\\u015b\\u0107\",\"formatter\":{\"id\":\"ec9b54f2-611f-437d-8f86-7b35961beb35\",\"type\":\"BasicTickFormatter\"},\"plot\":{\"id\":\"aefbf047-e137-4dc0-b949-3271981bafa3\",\"subtype\":\"Figure\",\"type\":\"Plot\"},\"ticker\":{\"id\":\"33b37452-349c-4969-be17-31e28c23022b\",\"type\":\"BasicTicker\"}},\"id\":\"4dda4fc5-df99-4653-8aac-053b82d47242\",\"type\":\"LinearAxis\"},{\"attributes\":{\"plot\":null,\"text\":\"Category filtering\"},\"id\":\"ce2a3146-28b6-4f28-87c6-eaaa02953dd7\",\"type\":\"Title\"},{\"attributes\":{},\"id\":\"0d3abc1d-fecd-46d2-a171-69799baaf3f3\",\"type\":\"ResetTool\"},{\"attributes\":{},\"id\":\"33b37452-349c-4969-be17-31e28c23022b\",\"type\":\"BasicTicker\"},{\"attributes\":{\"overlay\":{\"id\":\"f6c6d738-a0bc-4155-8f8e-b5e8d3500e7c\",\"type\":\"BoxAnnotation\"}},\"id\":\"2c1bfed8-9c2a-46c1-9620-26c8445689cb\",\"type\":\"BoxZoomTool\"},{\"attributes\":{\"callback\":null},\"id\":\"56229f3f-8663-4e57-8d11-548818d96cb3\",\"type\":\"DataRange1d\"},{\"attributes\":{\"fill_color\":{\"value\":\"#1f77b4\"},\"line_color\":{\"value\":\"#1f77b4\"},\"line_width\":{\"value\":2},\"top\":{\"field\":\"top\"},\"width\":{\"value\":0.9},\"x\":{\"field\":\"x\"}},\"id\":\"38090330-fcc2-4a35-b91e-08a4b9523384\",\"type\":\"VBar\"},{\"attributes\":{\"callback\":null,\"column_names\":[\"x\",\"top\"],\"data\":{\"top\":[568,1023,1122,2413,2928,4788,25070],\"x\":[\"OTHER\",\"GSM\",\"CORE\",\"SINGLE RAN\",\"WCDMA\",\"5G\",\"LTE\"]}},\"id\":\"256a3ef5-2339-4ddd-9bd6-01b641e6efd8\",\"type\":\"ColumnDataSource\"},{\"attributes\":{},\"id\":\"7267ceb5-f015-4a72-92d5-b1ef0cfd9615\",\"type\":\"WheelZoomTool\"},{\"attributes\":{\"dimension\":1,\"plot\":{\"id\":\"aefbf047-e137-4dc0-b949-3271981bafa3\",\"subtype\":\"Figure\",\"type\":\"Plot\"},\"ticker\":{\"id\":\"33b37452-349c-4969-be17-31e28c23022b\",\"type\":\"BasicTicker\"}},\"id\":\"da62241a-0e0e-43cd-982a-16fedac70862\",\"type\":\"Grid\"},{\"attributes\":{\"active_drag\":\"auto\",\"active_inspect\":\"auto\",\"active_scroll\":\"auto\",\"active_tap\":\"auto\",\"tools\":[{\"id\":\"cab0c01e-9353-4a90-934f-a76fcf583d13\",\"type\":\"PanTool\"},{\"id\":\"7267ceb5-f015-4a72-92d5-b1ef0cfd9615\",\"type\":\"WheelZoomTool\"},{\"id\":\"2c1bfed8-9c2a-46c1-9620-26c8445689cb\",\"type\":\"BoxZoomTool\"},{\"id\":\"f17391ff-2d3b-4565-b331-8fd9a5a0a807\",\"type\":\"SaveTool\"},{\"id\":\"0d3abc1d-fecd-46d2-a171-69799baaf3f3\",\"type\":\"ResetTool\"},{\"id\":\"96088b51-d911-4fac-8de3-e377f38aec9d\",\"type\":\"HelpTool\"}]},\"id\":\"3218dbb1-0fb7-473e-be3c-a73433ca75be\",\"type\":\"Toolbar\"},{\"attributes\":{\"source\":{\"id\":\"256a3ef5-2339-4ddd-9bd6-01b641e6efd8\",\"type\":\"ColumnDataSource\"}},\"id\":\"7c8d8a01-93c1-44f8-b569-4a4fc0b9838d\",\"type\":\"CDSView\"},{\"attributes\":{\"plot\":{\"id\":\"aefbf047-e137-4dc0-b949-3271981bafa3\",\"subtype\":\"Figure\",\"type\":\"Plot\"},\"ticker\":{\"id\":\"b1cf2880-fcd6-495e-8523-7d20c8d40fa3\",\"type\":\"CategoricalTicker\"}},\"id\":\"1e54249c-4ce2-43a5-8a4d-d730633530f0\",\"type\":\"Grid\"},{\"attributes\":{},\"id\":\"96088b51-d911-4fac-8de3-e377f38aec9d\",\"type\":\"HelpTool\"},{\"attributes\":{\"callback\":null,\"factors\":[\"OTHER\",\"GSM\",\"CORE\",\"SINGLE RAN\",\"WCDMA\",\"5G\",\"LTE\"]},\"id\":\"7dd026f9-b959-4ed9-bd62-314a9cd87f59\",\"type\":\"FactorRange\"},{\"attributes\":{},\"id\":\"b1cf2880-fcd6-495e-8523-7d20c8d40fa3\",\"type\":\"CategoricalTicker\"},{\"attributes\":{\"data_source\":{\"id\":\"256a3ef5-2339-4ddd-9bd6-01b641e6efd8\",\"type\":\"ColumnDataSource\"},\"glyph\":{\"id\":\"38090330-fcc2-4a35-b91e-08a4b9523384\",\"type\":\"VBar\"},\"hover_glyph\":null,\"muted_glyph\":null,\"nonselection_glyph\":{\"id\":\"e45bace4-4ee7-4366-a6a2-12ec63e78c23\",\"type\":\"VBar\"},\"selection_glyph\":null,\"view\":{\"id\":\"7c8d8a01-93c1-44f8-b569-4a4fc0b9838d\",\"type\":\"CDSView\"}},\"id\":\"45dd3ad2-35da-44d5-bee1-9d29611be530\",\"type\":\"GlyphRenderer\"},{\"attributes\":{\"axis_label\":\"actionName\",\"formatter\":{\"id\":\"da392d45-b584-423c-a060-5742a4856f1a\",\"type\":\"CategoricalTickFormatter\"},\"major_label_orientation\":0.6283185307179586,\"major_label_text_font_size\":{\"value\":\"9pt\"},\"plot\":{\"id\":\"aefbf047-e137-4dc0-b949-3271981bafa3\",\"subtype\":\"Figure\",\"type\":\"Plot\"},\"ticker\":{\"id\":\"b1cf2880-fcd6-495e-8523-7d20c8d40fa3\",\"type\":\"CategoricalTicker\"}},\"id\":\"b7768c02-ba9c-4c3e-b0c6-18569b437d74\",\"type\":\"CategoricalAxis\"},{\"attributes\":{\"below\":[{\"id\":\"b7768c02-ba9c-4c3e-b0c6-18569b437d74\",\"type\":\"CategoricalAxis\"}],\"left\":[{\"id\":\"4dda4fc5-df99-4653-8aac-053b82d47242\",\"type\":\"LinearAxis\"}],\"plot_height\":750,\"plot_width\":900,\"renderers\":[{\"id\":\"b7768c02-ba9c-4c3e-b0c6-18569b437d74\",\"type\":\"CategoricalAxis\"},{\"id\":\"1e54249c-4ce2-43a5-8a4d-d730633530f0\",\"type\":\"Grid\"},{\"id\":\"4dda4fc5-df99-4653-8aac-053b82d47242\",\"type\":\"LinearAxis\"},{\"id\":\"da62241a-0e0e-43cd-982a-16fedac70862\",\"type\":\"Grid\"},{\"id\":\"f6c6d738-a0bc-4155-8f8e-b5e8d3500e7c\",\"type\":\"BoxAnnotation\"},{\"id\":\"45dd3ad2-35da-44d5-bee1-9d29611be530\",\"type\":\"GlyphRenderer\"}],\"title\":{\"id\":\"ce2a3146-28b6-4f28-87c6-eaaa02953dd7\",\"type\":\"Title\"},\"toolbar\":{\"id\":\"3218dbb1-0fb7-473e-be3c-a73433ca75be\",\"type\":\"Toolbar\"},\"x_range\":{\"id\":\"7dd026f9-b959-4ed9-bd62-314a9cd87f59\",\"type\":\"FactorRange\"},\"x_scale\":{\"id\":\"3d58b12e-d4ab-4a0d-8a8b-d519540b3746\",\"type\":\"CategoricalScale\"},\"y_range\":{\"id\":\"56229f3f-8663-4e57-8d11-548818d96cb3\",\"type\":\"DataRange1d\"},\"y_scale\":{\"id\":\"04c7793b-275c-4791-91bd-596632d0bb0c\",\"type\":\"LinearScale\"}},\"id\":\"aefbf047-e137-4dc0-b949-3271981bafa3\",\"subtype\":\"Figure\",\"type\":\"Plot\"},{\"attributes\":{},\"id\":\"ec9b54f2-611f-437d-8f86-7b35961beb35\",\"type\":\"BasicTickFormatter\"},{\"attributes\":{},\"id\":\"04c7793b-275c-4791-91bd-596632d0bb0c\",\"type\":\"LinearScale\"}],\"root_ids\":[\"aefbf047-e137-4dc0-b949-3271981bafa3\"]},\"title\":\"Bokeh Application\",\"version\":\"0.12.13\"}};\n",
       "  var render_items = [{\"docid\":\"e837744e-a3c4-48a7-9cc9-846fd44c4d49\",\"elementid\":\"5e075213-ad57-4253-afe7-268453f0de01\",\"modelid\":\"aefbf047-e137-4dc0-b949-3271981bafa3\"}];\n",
       "  root.Bokeh.embed.embed_items_notebook(docs_json, render_items);\n",
       "\n",
       "  }\n",
       "  if (root.Bokeh !== undefined) {\n",
       "    embed_document(root);\n",
       "  } else {\n",
       "    var attempts = 0;\n",
       "    var timer = setInterval(function(root) {\n",
       "      if (root.Bokeh !== undefined) {\n",
       "        embed_document(root);\n",
       "        clearInterval(timer);\n",
       "      }\n",
       "      attempts++;\n",
       "      if (attempts > 100) {\n",
       "        console.log(\"Bokeh: ERROR: Unable to run BokehJS code because BokehJS library is missing\")\n",
       "        clearInterval(timer);\n",
       "      }\n",
       "    }, 10, root)\n",
       "  }\n",
       "})(window);"
      ],
      "application/vnd.bokehjs_exec.v0+json": ""
     },
     "metadata": {
      "application/vnd.bokehjs_exec.v0+json": {
       "id": "aefbf047-e137-4dc0-b949-3271981bafa3"
      }
     },
     "output_type": "display_data"
    }
   ],
   "source": [
    "plot(allCategoryFiltering.sort_values(), 'Category filtering', )"
   ]
  },
  {
   "cell_type": "code",
   "execution_count": 10,
   "metadata": {},
   "outputs": [
    {
     "data": {
      "text/html": [
       "\n",
       "<div class=\"bk-root\">\n",
       "    <div class=\"bk-plotdiv\" id=\"3b0d88d5-1b1b-4549-83dc-ad461c631c1d\"></div>\n",
       "</div>"
      ]
     },
     "metadata": {},
     "output_type": "display_data"
    },
    {
     "data": {
      "application/javascript": [
       "(function(root) {\n",
       "  function embed_document(root) {\n",
       "    \n",
       "  var docs_json = {\"f923e9f4-22b8-49f3-8a6b-5e0d5af51569\":{\"roots\":{\"references\":[{\"attributes\":{\"callback\":null,\"tooltips\":[[\"department\",\"@y\"],[\"tool\",\"@x\"],[\"numbers\",\"@desc\"]]},\"id\":\"eba11083-de95-4a23-9cd3-438b0d67fa4c\",\"type\":\"HoverTool\"},{\"attributes\":{},\"id\":\"c0fd0bab-c476-4b79-824d-30ea65f979a1\",\"type\":\"CategoricalScale\"},{\"attributes\":{\"below\":[{\"id\":\"fd3190bd-1b75-4236-9198-8f0208820c8d\",\"type\":\"CategoricalAxis\"}],\"left\":[{\"id\":\"5d673edb-696d-48dd-9b1c-8cc6eb3e3873\",\"type\":\"CategoricalAxis\"}],\"plot_height\":1000,\"plot_width\":1000,\"renderers\":[{\"id\":\"fd3190bd-1b75-4236-9198-8f0208820c8d\",\"type\":\"CategoricalAxis\"},{\"id\":\"76d9d2fa-b5bf-4a3a-b4f2-45144824fd2b\",\"type\":\"Grid\"},{\"id\":\"5d673edb-696d-48dd-9b1c-8cc6eb3e3873\",\"type\":\"CategoricalAxis\"},{\"id\":\"1a5c6c06-66a9-436b-9298-09180593f174\",\"type\":\"Grid\"},{\"id\":\"2090d299-0db6-4f1c-9e1c-44ba3f97645d\",\"type\":\"BoxAnnotation\"},{\"id\":\"1c931515-faca-40e2-8828-f4881fbb210d\",\"type\":\"GlyphRenderer\"}],\"title\":{\"id\":\"f9452c79-3145-45e5-b3ac-ec222dd8ea4a\",\"type\":\"Title\"},\"toolbar\":{\"id\":\"77417f30-9c59-46fa-b4bc-80bfbbafa679\",\"type\":\"Toolbar\"},\"x_range\":{\"id\":\"a3543faf-0b5e-4f8a-9b6a-5ba3412eff40\",\"type\":\"FactorRange\"},\"x_scale\":{\"id\":\"c0fd0bab-c476-4b79-824d-30ea65f979a1\",\"type\":\"CategoricalScale\"},\"y_range\":{\"id\":\"010698ef-8f51-4f9f-8b44-50f9fa1aa204\",\"type\":\"FactorRange\"},\"y_scale\":{\"id\":\"adf85217-1566-400e-a1cc-f2aff59a8706\",\"type\":\"CategoricalScale\"}},\"id\":\"9c89ebb0-4eef-4ecc-973b-447050763ec9\",\"subtype\":\"Figure\",\"type\":\"Plot\"},{\"attributes\":{},\"id\":\"ace03fff-66e7-4161-8a41-ab723e63ce3a\",\"type\":\"CategoricalTickFormatter\"},{\"attributes\":{\"formatter\":{\"id\":\"70f592da-4bf6-4541-8e0a-cb8b3e035b72\",\"type\":\"CategoricalTickFormatter\"},\"major_label_orientation\":1.0471975511965976,\"plot\":{\"id\":\"9c89ebb0-4eef-4ecc-973b-447050763ec9\",\"subtype\":\"Figure\",\"type\":\"Plot\"},\"ticker\":{\"id\":\"6cd0f4b9-b8a6-44f4-9cdf-2ef39db1b7c4\",\"type\":\"CategoricalTicker\"}},\"id\":\"fd3190bd-1b75-4236-9198-8f0208820c8d\",\"type\":\"CategoricalAxis\"},{\"attributes\":{},\"id\":\"25845591-7eb2-45ee-a00a-01d25b7099c3\",\"type\":\"PanTool\"},{\"attributes\":{\"plot\":null,\"text\":\"Category count in departments\"},\"id\":\"f9452c79-3145-45e5-b3ac-ec222dd8ea4a\",\"type\":\"Title\"},{\"attributes\":{},\"id\":\"0b279d68-06bf-49c3-a480-c23c6df30481\",\"type\":\"ResetTool\"},{\"attributes\":{\"fill_alpha\":{\"value\":0.1},\"fill_color\":{\"value\":\"#1f77b4\"},\"height\":{\"units\":\"data\",\"value\":1},\"line_alpha\":{\"value\":0.1},\"line_color\":{\"value\":\"#1f77b4\"},\"width\":{\"units\":\"data\",\"value\":1},\"x\":{\"field\":\"x\"},\"y\":{\"field\":\"y\"}},\"id\":\"620c8443-67a3-486b-bf34-eae1f5cc49f4\",\"type\":\"Rect\"},{\"attributes\":{},\"id\":\"adf85217-1566-400e-a1cc-f2aff59a8706\",\"type\":\"CategoricalScale\"},{\"attributes\":{},\"id\":\"6cd0f4b9-b8a6-44f4-9cdf-2ef39db1b7c4\",\"type\":\"CategoricalTicker\"},{\"attributes\":{\"callback\":null,\"factors\":[\"SINGLE RAN downloaded\",\"LTE downloaded\",\"OTHER downloaded\",\"WCDMA downloaded\",\"GSM downloaded\",\"CORE downloaded\",\"5G downloaded\"]},\"id\":\"010698ef-8f51-4f9f-8b44-50f9fa1aa204\",\"type\":\"FactorRange\"},{\"attributes\":{},\"id\":\"daa5f1c1-618f-49bd-8c85-f1f241a4e78a\",\"type\":\"CategoricalTicker\"},{\"attributes\":{\"callback\":null,\"column_names\":[\"y\",\"x\",\"color\",\"desc\"],\"data\":{\"color\":[\"rgb(255, 255, 255)\",\"rgb(255, 255, 255)\",\"rgb(255, 193, 255)\",\"rgb(255, 255, 255)\",\"rgb(255, 255, 255)\",\"rgb(255, 255, 255)\",\"rgb(255, 251, 255)\",\"rgb(255, 184, 255)\",\"rgb(255, 243, 255)\",\"rgb(255, 251, 255)\",\"rgb(255, 201, 255)\",\"rgb(255, 255, 255)\",\"rgb(255, 237, 255)\",\"rgb(255, 255, 255)\",\"rgb(255, 255, 255)\",\"rgb(255, 244, 255)\",\"rgb(255, 249, 255)\",\"rgb(255, 255, 255)\",\"rgb(255, 238, 255)\",\"rgb(255, 255, 255)\",\"rgb(255, 255, 255)\",\"rgb(255, 252, 255)\",\"rgb(255, 255, 255)\",\"rgb(255, 205, 255)\",\"rgb(255, 249, 255)\",\"rgb(255, 248, 255)\",\"rgb(255, 227, 255)\",\"rgb(255, 255, 255)\",\"rgb(255, 250, 255)\",\"rgb(255, 255, 255)\",\"rgb(255, 255, 255)\",\"rgb(255, 251, 255)\",\"rgb(255, 255, 255)\",\"rgb(255, 255, 255)\",\"rgb(255, 244, 255)\",\"rgb(255, 255, 255)\",\"rgb(255, 255, 255)\",\"rgb(255, 255, 255)\",\"rgb(255, 255, 255)\",\"rgb(255, 213, 255)\",\"rgb(255, 240, 255)\",\"rgb(255, 255, 255)\",\"rgb(255, 224, 255)\",\"rgb(255, 255, 255)\",\"rgb(255, 249, 255)\",\"rgb(255, 255, 255)\",\"rgb(255, 255, 255)\",\"rgb(255, 255, 255)\",\"rgb(255, 232, 255)\",\"rgb(255, 255, 255)\",\"rgb(255, 103, 255)\",\"rgb(255, 255, 255)\",\"rgb(255, 246, 255)\",\"rgb(255, 255, 255)\",\"rgb(255, 255, 255)\",\"rgb(255, 0, 255)\",\"rgb(255, 204, 255)\",\"rgb(255, 245, 255)\",\"rgb(255, 95, 255)\",\"rgb(255, 252, 255)\",\"rgb(255, 241, 255)\",\"rgb(255, 244, 255)\",\"rgb(255, 252, 255)\",\"rgb(255, 193, 255)\",\"rgb(255, 252, 255)\",\"rgb(255, 252, 255)\",\"rgb(255, 243, 255)\",\"rgb(255, 255, 255)\",\"rgb(255, 255, 255)\",\"rgb(255, 255, 255)\",\"rgb(255, 255, 255)\",\"rgb(255, 232, 255)\",\"rgb(255, 251, 255)\",\"rgb(255, 250, 255)\",\"rgb(255, 232, 255)\",\"rgb(255, 255, 255)\",\"rgb(255, 250, 255)\",\"rgb(255, 255, 255)\",\"rgb(255, 255, 255)\",\"rgb(255, 255, 255)\",\"rgb(255, 249, 255)\",\"rgb(255, 255, 255)\",\"rgb(255, 227, 255)\",\"rgb(255, 252, 255)\",\"rgb(255, 255, 255)\",\"rgb(255, 255, 255)\",\"rgb(255, 255, 255)\",\"rgb(255, 189, 255)\",\"rgb(255, 247, 255)\",\"rgb(255, 255, 255)\",\"rgb(255, 209, 255)\",\"rgb(255, 255, 255)\",\"rgb(255, 255, 255)\",\"rgb(255, 255, 255)\",\"rgb(255, 255, 255)\",\"rgb(255, 237, 255)\",\"rgb(255, 251, 255)\",\"rgb(255, 255, 255)\",\"rgb(255, 235, 255)\",\"rgb(255, 255, 255)\",\"rgb(255, 255, 255)\",\"rgb(255, 255, 255)\",\"rgb(255, 255, 255)\",\"rgb(255, 168, 255)\",\"rgb(255, 237, 255)\",\"rgb(255, 255, 255)\",\"rgb(255, 205, 255)\",\"rgb(255, 255, 255)\",\"rgb(255, 255, 255)\",\"rgb(255, 255, 255)\",\"rgb(255, 255, 255)\",\"rgb(255, 250, 255)\"],\"desc\":[\"0.0\",\"0.0\",\"586.0\",\"0.0\",\"0.0\",\"0.0\",\"2.0\",\"765.0\",\"20.0\",\"2.0\",\"437.0\",\"0.0\",\"45.0\",\"0.0\",\"0.0\",\"17.0\",\"4.0\",\"0.0\",\"43.0\",\"0.0\",\"0.0\",\"1.0\",\"0.0\",\"382.0\",\"5.0\",\"6.0\",\"118.0\",\"0.0\",\"3.0\",\"0.0\",\"0.0\",\"2.0\",\"0.0\",\"0.0\",\"17.0\",\"0.0\",\"0.0\",\"0.0\",\"0.0\",\"262.0\",\"32.0\",\"0.0\",\"143.0\",\"0.0\",\"4.0\",\"0.0\",\"0.0\",\"0.0\",\"80.0\",\"0.0\",\"3565.0\",\"0.0\",\"11.0\",\"0.0\",\"0.0\",\"10085.0\",\"393.0\",\"15.0\",\"3970.0\",\"1.0\",\"30.0\",\"17.0\",\"1.0\",\"587.0\",\"1.0\",\"1.0\",\"19.0\",\"0.0\",\"0.0\",\"0.0\",\"0.0\",\"80.0\",\"2.0\",\"3.0\",\"76.0\",\"0.0\",\"3.0\",\"0.0\",\"0.0\",\"0.0\",\"4.0\",\"0.0\",\"114.0\",\"1.0\",\"0.0\",\"0.0\",\"0.0\",\"662.0\",\"8.0\",\"0.0\",\"328.0\",\"0.0\",\"0.0\",\"0.0\",\"0.0\",\"45.0\",\"2.0\",\"0.0\",\"60.0\",\"0.0\",\"0.0\",\"0.0\",\"0.0\",\"1167.0\",\"48.0\",\"0.0\",\"380.0\",\"0.0\",\"0.0\",\"0.0\",\"0.0\",\"3.0\"],\"x\":[\"AA Applications &amp; Analytics\",\"BLCTO Bell Labs &amp; CTO\",\"CO Customer Operations\",\"COO Chief Operating Office\",\"CSD Corp Strategy&amp;Development\",\"Digital Health\",\"FN Fixed Networks\",\"GS Global Services\",\"HR Human Resources\",\"ION IP Optical Networks\",\"MN Mobile Networks\",\"N/a\",\"NSW Nokia Software\",\"Nokia CEO 1\",\"Patent Business\",\"undefined\",\"AA Applications &amp; Analytics\",\"BLCTO Bell Labs &amp; CTO\",\"CO Customer Operations\",\"COO Chief Operating Office\",\"CSD Corp Strategy&amp;Development\",\"Digital Health\",\"FN Fixed Networks\",\"GS Global Services\",\"HR Human Resources\",\"ION IP Optical Networks\",\"MN Mobile Networks\",\"N/a\",\"NSW Nokia Software\",\"Nokia CEO 1\",\"Patent Business\",\"undefined\",\"AA Applications &amp; Analytics\",\"BLCTO Bell Labs &amp; CTO\",\"CO Customer Operations\",\"COO Chief Operating Office\",\"CSD Corp Strategy&amp;Development\",\"Digital Health\",\"FN Fixed Networks\",\"GS Global Services\",\"HR Human Resources\",\"ION IP Optical Networks\",\"MN Mobile Networks\",\"N/a\",\"NSW Nokia Software\",\"Nokia CEO 1\",\"Patent Business\",\"undefined\",\"AA Applications &amp; Analytics\",\"BLCTO Bell Labs &amp; CTO\",\"CO Customer Operations\",\"COO Chief Operating Office\",\"CSD Corp Strategy&amp;Development\",\"Digital Health\",\"FN Fixed Networks\",\"GS Global Services\",\"HR Human Resources\",\"ION IP Optical Networks\",\"MN Mobile Networks\",\"N/a\",\"NSW Nokia Software\",\"Nokia CEO 1\",\"Patent Business\",\"undefined\",\"AA Applications &amp; Analytics\",\"BLCTO Bell Labs &amp; CTO\",\"CO Customer Operations\",\"COO Chief Operating Office\",\"CSD Corp Strategy&amp;Development\",\"Digital Health\",\"FN Fixed Networks\",\"GS Global Services\",\"HR Human Resources\",\"ION IP Optical Networks\",\"MN Mobile Networks\",\"N/a\",\"NSW Nokia Software\",\"Nokia CEO 1\",\"Patent Business\",\"undefined\",\"AA Applications &amp; Analytics\",\"BLCTO Bell Labs &amp; CTO\",\"CO Customer Operations\",\"COO Chief Operating Office\",\"CSD Corp Strategy&amp;Development\",\"Digital Health\",\"FN Fixed Networks\",\"GS Global Services\",\"HR Human Resources\",\"ION IP Optical Networks\",\"MN Mobile Networks\",\"N/a\",\"NSW Nokia Software\",\"Nokia CEO 1\",\"Patent Business\",\"undefined\",\"AA Applications &amp; Analytics\",\"BLCTO Bell Labs &amp; CTO\",\"CO Customer Operations\",\"COO Chief Operating Office\",\"CSD Corp Strategy&amp;Development\",\"Digital Health\",\"FN Fixed Networks\",\"GS Global Services\",\"HR Human Resources\",\"ION IP Optical Networks\",\"MN Mobile Networks\",\"N/a\",\"NSW Nokia Software\",\"Nokia CEO 1\",\"Patent Business\",\"undefined\"],\"y\":[\"5G downloaded\",\"5G downloaded\",\"5G downloaded\",\"5G downloaded\",\"5G downloaded\",\"5G downloaded\",\"5G downloaded\",\"5G downloaded\",\"5G downloaded\",\"5G downloaded\",\"5G downloaded\",\"5G downloaded\",\"5G downloaded\",\"5G downloaded\",\"5G downloaded\",\"5G downloaded\",\"CORE downloaded\",\"CORE downloaded\",\"CORE downloaded\",\"CORE downloaded\",\"CORE downloaded\",\"CORE downloaded\",\"CORE downloaded\",\"CORE downloaded\",\"CORE downloaded\",\"CORE downloaded\",\"CORE downloaded\",\"CORE downloaded\",\"CORE downloaded\",\"CORE downloaded\",\"CORE downloaded\",\"CORE downloaded\",\"GSM downloaded\",\"GSM downloaded\",\"GSM downloaded\",\"GSM downloaded\",\"GSM downloaded\",\"GSM downloaded\",\"GSM downloaded\",\"GSM downloaded\",\"GSM downloaded\",\"GSM downloaded\",\"GSM downloaded\",\"GSM downloaded\",\"GSM downloaded\",\"GSM downloaded\",\"GSM downloaded\",\"GSM downloaded\",\"LTE downloaded\",\"LTE downloaded\",\"LTE downloaded\",\"LTE downloaded\",\"LTE downloaded\",\"LTE downloaded\",\"LTE downloaded\",\"LTE downloaded\",\"LTE downloaded\",\"LTE downloaded\",\"LTE downloaded\",\"LTE downloaded\",\"LTE downloaded\",\"LTE downloaded\",\"LTE downloaded\",\"LTE downloaded\",\"OTHER downloaded\",\"OTHER downloaded\",\"OTHER downloaded\",\"OTHER downloaded\",\"OTHER downloaded\",\"OTHER downloaded\",\"OTHER downloaded\",\"OTHER downloaded\",\"OTHER downloaded\",\"OTHER downloaded\",\"OTHER downloaded\",\"OTHER downloaded\",\"OTHER downloaded\",\"OTHER downloaded\",\"OTHER downloaded\",\"OTHER downloaded\",\"SINGLE RAN downloaded\",\"SINGLE RAN downloaded\",\"SINGLE RAN downloaded\",\"SINGLE RAN downloaded\",\"SINGLE RAN downloaded\",\"SINGLE RAN downloaded\",\"SINGLE RAN downloaded\",\"SINGLE RAN downloaded\",\"SINGLE RAN downloaded\",\"SINGLE RAN downloaded\",\"SINGLE RAN downloaded\",\"SINGLE RAN downloaded\",\"SINGLE RAN downloaded\",\"SINGLE RAN downloaded\",\"SINGLE RAN downloaded\",\"SINGLE RAN downloaded\",\"WCDMA downloaded\",\"WCDMA downloaded\",\"WCDMA downloaded\",\"WCDMA downloaded\",\"WCDMA downloaded\",\"WCDMA downloaded\",\"WCDMA downloaded\",\"WCDMA downloaded\",\"WCDMA downloaded\",\"WCDMA downloaded\",\"WCDMA downloaded\",\"WCDMA downloaded\",\"WCDMA downloaded\",\"WCDMA downloaded\",\"WCDMA downloaded\",\"WCDMA downloaded\"]}},\"id\":\"98082431-7ec9-4b36-8f7c-990207f7b0d5\",\"type\":\"ColumnDataSource\"},{\"attributes\":{\"fill_color\":{\"field\":\"color\"},\"height\":{\"units\":\"data\",\"value\":1},\"line_color\":{\"field\":\"color\"},\"width\":{\"units\":\"data\",\"value\":1},\"x\":{\"field\":\"x\"},\"y\":{\"field\":\"y\"}},\"id\":\"a215aa97-342f-4ecc-8acf-2f866d138386\",\"type\":\"Rect\"},{\"attributes\":{\"callback\":null,\"factors\":[\"COO Chief Operating Office\",\"GS Global Services\",\"MN Mobile Networks\",\"CO Customer Operations\",\"undefined\",\"HR Human Resources\",\"Patent Business\",\"AA Applications &amp; Analytics\",\"ION IP Optical Networks\",\"CSD Corp Strategy&amp;Development\",\"Digital Health\",\"Nokia CEO 1\",\"BLCTO Bell Labs &amp; CTO\",\"NSW Nokia Software\",\"N/a\",\"FN Fixed Networks\"]},\"id\":\"a3543faf-0b5e-4f8a-9b6a-5ba3412eff40\",\"type\":\"FactorRange\"},{\"attributes\":{},\"id\":\"70f592da-4bf6-4541-8e0a-cb8b3e035b72\",\"type\":\"CategoricalTickFormatter\"},{\"attributes\":{\"plot\":{\"id\":\"9c89ebb0-4eef-4ecc-973b-447050763ec9\",\"subtype\":\"Figure\",\"type\":\"Plot\"},\"ticker\":{\"id\":\"6cd0f4b9-b8a6-44f4-9cdf-2ef39db1b7c4\",\"type\":\"CategoricalTicker\"}},\"id\":\"76d9d2fa-b5bf-4a3a-b4f2-45144824fd2b\",\"type\":\"Grid\"},{\"attributes\":{\"dimension\":1,\"plot\":{\"id\":\"9c89ebb0-4eef-4ecc-973b-447050763ec9\",\"subtype\":\"Figure\",\"type\":\"Plot\"},\"ticker\":{\"id\":\"daa5f1c1-618f-49bd-8c85-f1f241a4e78a\",\"type\":\"CategoricalTicker\"}},\"id\":\"1a5c6c06-66a9-436b-9298-09180593f174\",\"type\":\"Grid\"},{\"attributes\":{\"active_drag\":\"auto\",\"active_inspect\":\"auto\",\"active_scroll\":\"auto\",\"active_tap\":\"auto\",\"tools\":[{\"id\":\"eba11083-de95-4a23-9cd3-438b0d67fa4c\",\"type\":\"HoverTool\"},{\"id\":\"387c17b8-d652-40b0-8001-c9f80fcdf255\",\"type\":\"WheelZoomTool\"},{\"id\":\"29927795-df6f-4b86-ad96-77cb290abbbc\",\"type\":\"BoxZoomTool\"},{\"id\":\"25845591-7eb2-45ee-a00a-01d25b7099c3\",\"type\":\"PanTool\"},{\"id\":\"0b279d68-06bf-49c3-a480-c23c6df30481\",\"type\":\"ResetTool\"}]},\"id\":\"77417f30-9c59-46fa-b4bc-80bfbbafa679\",\"type\":\"Toolbar\"},{\"attributes\":{\"overlay\":{\"id\":\"2090d299-0db6-4f1c-9e1c-44ba3f97645d\",\"type\":\"BoxAnnotation\"}},\"id\":\"29927795-df6f-4b86-ad96-77cb290abbbc\",\"type\":\"BoxZoomTool\"},{\"attributes\":{\"data_source\":{\"id\":\"98082431-7ec9-4b36-8f7c-990207f7b0d5\",\"type\":\"ColumnDataSource\"},\"glyph\":{\"id\":\"a215aa97-342f-4ecc-8acf-2f866d138386\",\"type\":\"Rect\"},\"hover_glyph\":null,\"muted_glyph\":null,\"nonselection_glyph\":{\"id\":\"620c8443-67a3-486b-bf34-eae1f5cc49f4\",\"type\":\"Rect\"},\"selection_glyph\":null,\"view\":{\"id\":\"5b18cc31-4bf9-4610-b437-d6eab1b9454b\",\"type\":\"CDSView\"}},\"id\":\"1c931515-faca-40e2-8828-f4881fbb210d\",\"type\":\"GlyphRenderer\"},{\"attributes\":{\"source\":{\"id\":\"98082431-7ec9-4b36-8f7c-990207f7b0d5\",\"type\":\"ColumnDataSource\"}},\"id\":\"5b18cc31-4bf9-4610-b437-d6eab1b9454b\",\"type\":\"CDSView\"},{\"attributes\":{\"formatter\":{\"id\":\"ace03fff-66e7-4161-8a41-ab723e63ce3a\",\"type\":\"CategoricalTickFormatter\"},\"plot\":{\"id\":\"9c89ebb0-4eef-4ecc-973b-447050763ec9\",\"subtype\":\"Figure\",\"type\":\"Plot\"},\"ticker\":{\"id\":\"daa5f1c1-618f-49bd-8c85-f1f241a4e78a\",\"type\":\"CategoricalTicker\"}},\"id\":\"5d673edb-696d-48dd-9b1c-8cc6eb3e3873\",\"type\":\"CategoricalAxis\"},{\"attributes\":{\"bottom_units\":\"screen\",\"fill_alpha\":{\"value\":0.5},\"fill_color\":{\"value\":\"lightgrey\"},\"left_units\":\"screen\",\"level\":\"overlay\",\"line_alpha\":{\"value\":1.0},\"line_color\":{\"value\":\"black\"},\"line_dash\":[4,4],\"line_width\":{\"value\":2},\"plot\":null,\"render_mode\":\"css\",\"right_units\":\"screen\",\"top_units\":\"screen\"},\"id\":\"2090d299-0db6-4f1c-9e1c-44ba3f97645d\",\"type\":\"BoxAnnotation\"},{\"attributes\":{},\"id\":\"387c17b8-d652-40b0-8001-c9f80fcdf255\",\"type\":\"WheelZoomTool\"}],\"root_ids\":[\"9c89ebb0-4eef-4ecc-973b-447050763ec9\"]},\"title\":\"Bokeh Application\",\"version\":\"0.12.13\"}};\n",
       "  var render_items = [{\"docid\":\"f923e9f4-22b8-49f3-8a6b-5e0d5af51569\",\"elementid\":\"3b0d88d5-1b1b-4549-83dc-ad461c631c1d\",\"modelid\":\"9c89ebb0-4eef-4ecc-973b-447050763ec9\"}];\n",
       "  root.Bokeh.embed.embed_items_notebook(docs_json, render_items);\n",
       "\n",
       "  }\n",
       "  if (root.Bokeh !== undefined) {\n",
       "    embed_document(root);\n",
       "  } else {\n",
       "    var attempts = 0;\n",
       "    var timer = setInterval(function(root) {\n",
       "      if (root.Bokeh !== undefined) {\n",
       "        embed_document(root);\n",
       "        clearInterval(timer);\n",
       "      }\n",
       "      attempts++;\n",
       "      if (attempts > 100) {\n",
       "        console.log(\"Bokeh: ERROR: Unable to run BokehJS code because BokehJS library is missing\")\n",
       "        clearInterval(timer);\n",
       "      }\n",
       "    }, 10, root)\n",
       "  }\n",
       "})(window);"
      ],
      "application/vnd.bokehjs_exec.v0+json": ""
     },
     "metadata": {
      "application/vnd.bokehjs_exec.v0+json": {
       "id": "9c89ebb0-4eef-4ecc-973b-447050763ec9"
      }
     },
     "output_type": "display_data"
    }
   ],
   "source": [
    "dbgroupbyplot(data[data.actionCategory == 'Category downloaded'], 'actionName', 'department', 'Category count in departments')"
   ]
  },
  {
   "cell_type": "code",
   "execution_count": 11,
   "metadata": {},
   "outputs": [
    {
     "data": {
      "text/html": [
       "\n",
       "<div class=\"bk-root\">\n",
       "    <div class=\"bk-plotdiv\" id=\"b67a57a0-0f61-481f-ac2c-3f9a68d51584\"></div>\n",
       "</div>"
      ]
     },
     "metadata": {},
     "output_type": "display_data"
    },
    {
     "data": {
      "application/javascript": [
       "(function(root) {\n",
       "  function embed_document(root) {\n",
       "    \n",
       "  var docs_json = {\"9a4a54e1-fa83-4a1c-b03f-44ccbafb40c4\":{\"roots\":{\"references\":[{\"attributes\":{\"axis_label\":\"ilo\\u015b\\u0107\",\"formatter\":{\"id\":\"d7765743-d7e7-492c-8fd0-df2b835fac90\",\"type\":\"BasicTickFormatter\"},\"plot\":{\"id\":\"1b378df2-5e96-4d58-bdca-b654e38263d8\",\"subtype\":\"Figure\",\"type\":\"Plot\"},\"ticker\":{\"id\":\"eb1a30b1-4847-43d8-be05-bab9970d2ace\",\"type\":\"BasicTicker\"}},\"id\":\"a3b29024-0845-4d1e-8dd8-fb2c391c0ca4\",\"type\":\"LinearAxis\"},{\"attributes\":{\"bottom_units\":\"screen\",\"fill_alpha\":{\"value\":0.5},\"fill_color\":{\"value\":\"lightgrey\"},\"left_units\":\"screen\",\"level\":\"overlay\",\"line_alpha\":{\"value\":1.0},\"line_color\":{\"value\":\"black\"},\"line_dash\":[4,4],\"line_width\":{\"value\":2},\"plot\":null,\"render_mode\":\"css\",\"right_units\":\"screen\",\"top_units\":\"screen\"},\"id\":\"b30fbf9c-cf76-4175-9cb7-b12ea0e30b10\",\"type\":\"BoxAnnotation\"},{\"attributes\":{},\"id\":\"eb1a30b1-4847-43d8-be05-bab9970d2ace\",\"type\":\"BasicTicker\"},{\"attributes\":{},\"id\":\"c868fcae-e7e2-429b-8d55-115f76c7e2be\",\"type\":\"CategoricalTicker\"},{\"attributes\":{},\"id\":\"de5a4143-f247-4493-a01c-33826392ad83\",\"type\":\"CategoricalScale\"},{\"attributes\":{},\"id\":\"8375d5c2-8276-41e9-8706-2d98e27c8596\",\"type\":\"SaveTool\"},{\"attributes\":{\"fill_color\":{\"value\":\"#1f77b4\"},\"line_color\":{\"value\":\"#1f77b4\"},\"line_width\":{\"value\":2},\"top\":{\"field\":\"top\"},\"width\":{\"value\":0.9},\"x\":{\"field\":\"x\"}},\"id\":\"a506d995-5b41-417a-bf96-1971d387208d\",\"type\":\"VBar\"},{\"attributes\":{},\"id\":\"ece376a2-3e9c-4290-97ea-320bcc4e1c40\",\"type\":\"ResetTool\"},{\"attributes\":{},\"id\":\"75d38f40-4921-4507-b4c6-1ebd85fa93a5\",\"type\":\"CategoricalTickFormatter\"},{\"attributes\":{\"callback\":null},\"id\":\"31c3682b-131e-4b06-8554-a05e6a7f97e7\",\"type\":\"DataRange1d\"},{\"attributes\":{},\"id\":\"1fbe9a5c-040c-4ab6-87ad-51a799dea8d4\",\"type\":\"LinearScale\"},{\"attributes\":{\"fill_alpha\":{\"value\":0.1},\"fill_color\":{\"value\":\"#1f77b4\"},\"line_alpha\":{\"value\":0.1},\"line_color\":{\"value\":\"#1f77b4\"},\"line_width\":{\"value\":2},\"top\":{\"field\":\"top\"},\"width\":{\"value\":0.9},\"x\":{\"field\":\"x\"}},\"id\":\"f5f4f73a-b39c-4c47-8f94-6a477dcb21d9\",\"type\":\"VBar\"},{\"attributes\":{\"dimension\":1,\"plot\":{\"id\":\"1b378df2-5e96-4d58-bdca-b654e38263d8\",\"subtype\":\"Figure\",\"type\":\"Plot\"},\"ticker\":{\"id\":\"eb1a30b1-4847-43d8-be05-bab9970d2ace\",\"type\":\"BasicTicker\"}},\"id\":\"e8f125e4-527d-4367-865b-34d5b1719b22\",\"type\":\"Grid\"},{\"attributes\":{\"plot\":null,\"text\":\"Tags filtering\"},\"id\":\"dd433bc0-3f5b-429b-9b1e-ffdc63beec1c\",\"type\":\"Title\"},{\"attributes\":{\"data_source\":{\"id\":\"11054a5d-53c9-461e-8c8f-811dd784ff84\",\"type\":\"ColumnDataSource\"},\"glyph\":{\"id\":\"a506d995-5b41-417a-bf96-1971d387208d\",\"type\":\"VBar\"},\"hover_glyph\":null,\"muted_glyph\":null,\"nonselection_glyph\":{\"id\":\"f5f4f73a-b39c-4c47-8f94-6a477dcb21d9\",\"type\":\"VBar\"},\"selection_glyph\":null,\"view\":{\"id\":\"dd248c72-02f7-4801-9a8f-20e6130c9d66\",\"type\":\"CDSView\"}},\"id\":\"c6c8b090-ccba-40e6-be37-6fbbe21e15af\",\"type\":\"GlyphRenderer\"},{\"attributes\":{\"callback\":null,\"column_names\":[\"x\",\"top\"],\"data\":{\"top\":[40,49,52,61,66,67,79,82,83,85,90,93,97,98,106,109,111,123,127,128,140,145,159,176,182,187,196,232,233,241,295,362],\"x\":[\"Simulations\",\"Location Services\",\"Security\",\"Public Safety\",\"Synchronization\",\"Power Consumption\",\"RF Sharing\",\"QoS\",\"Mass Events\",\"Uplink Radio Reception\",\"Operability\",\"Link Adaptation\",\"Peak Rate\",\"Network Sharing\",\"Scheduler\",\"Power Control\",\"Downlink Radio Transmission\",\"Controller\",\"RRM\",\"Telco Cloud\",\"Load Balancing\",\"Small Cells\",\"Transport\",\"Performance\",\"HW &amp; Site Solutions\",\"Beamforming\",\"Mobility &amp; Multi-layer Optimization\",\"VoLTE &amp; VoWiFi\",\"Admission Control\",\"Dimensioning\",\"Carrier Aggregation\",\"IoT\"]}},\"id\":\"11054a5d-53c9-461e-8c8f-811dd784ff84\",\"type\":\"ColumnDataSource\"},{\"attributes\":{\"below\":[{\"id\":\"48c185d6-c3b6-4f69-b7ed-e9fafa5a4997\",\"type\":\"CategoricalAxis\"}],\"left\":[{\"id\":\"a3b29024-0845-4d1e-8dd8-fb2c391c0ca4\",\"type\":\"LinearAxis\"}],\"plot_height\":750,\"plot_width\":900,\"renderers\":[{\"id\":\"48c185d6-c3b6-4f69-b7ed-e9fafa5a4997\",\"type\":\"CategoricalAxis\"},{\"id\":\"5221b55f-2d15-4a21-ae29-8b282e2b9cb5\",\"type\":\"Grid\"},{\"id\":\"a3b29024-0845-4d1e-8dd8-fb2c391c0ca4\",\"type\":\"LinearAxis\"},{\"id\":\"e8f125e4-527d-4367-865b-34d5b1719b22\",\"type\":\"Grid\"},{\"id\":\"b30fbf9c-cf76-4175-9cb7-b12ea0e30b10\",\"type\":\"BoxAnnotation\"},{\"id\":\"c6c8b090-ccba-40e6-be37-6fbbe21e15af\",\"type\":\"GlyphRenderer\"}],\"title\":{\"id\":\"dd433bc0-3f5b-429b-9b1e-ffdc63beec1c\",\"type\":\"Title\"},\"toolbar\":{\"id\":\"4bb37450-b1dd-4dfc-ae74-0634a7a7c839\",\"type\":\"Toolbar\"},\"x_range\":{\"id\":\"ba35c081-7128-49f8-92a5-5de25126da1f\",\"type\":\"FactorRange\"},\"x_scale\":{\"id\":\"de5a4143-f247-4493-a01c-33826392ad83\",\"type\":\"CategoricalScale\"},\"y_range\":{\"id\":\"31c3682b-131e-4b06-8554-a05e6a7f97e7\",\"type\":\"DataRange1d\"},\"y_scale\":{\"id\":\"1fbe9a5c-040c-4ab6-87ad-51a799dea8d4\",\"type\":\"LinearScale\"}},\"id\":\"1b378df2-5e96-4d58-bdca-b654e38263d8\",\"subtype\":\"Figure\",\"type\":\"Plot\"},{\"attributes\":{},\"id\":\"d7765743-d7e7-492c-8fd0-df2b835fac90\",\"type\":\"BasicTickFormatter\"},{\"attributes\":{\"active_drag\":\"auto\",\"active_inspect\":\"auto\",\"active_scroll\":\"auto\",\"active_tap\":\"auto\",\"tools\":[{\"id\":\"28bc0cc9-51eb-459c-b3eb-f4d9f56338c1\",\"type\":\"PanTool\"},{\"id\":\"a89b8792-b8fe-4b19-a083-e37ad4b42d0a\",\"type\":\"WheelZoomTool\"},{\"id\":\"6f622d02-7ef2-4006-a6de-12c310007d3e\",\"type\":\"BoxZoomTool\"},{\"id\":\"8375d5c2-8276-41e9-8706-2d98e27c8596\",\"type\":\"SaveTool\"},{\"id\":\"ece376a2-3e9c-4290-97ea-320bcc4e1c40\",\"type\":\"ResetTool\"},{\"id\":\"76509c69-fcac-4100-aa41-8a1d1702ccc2\",\"type\":\"HelpTool\"}]},\"id\":\"4bb37450-b1dd-4dfc-ae74-0634a7a7c839\",\"type\":\"Toolbar\"},{\"attributes\":{},\"id\":\"a89b8792-b8fe-4b19-a083-e37ad4b42d0a\",\"type\":\"WheelZoomTool\"},{\"attributes\":{},\"id\":\"76509c69-fcac-4100-aa41-8a1d1702ccc2\",\"type\":\"HelpTool\"},{\"attributes\":{},\"id\":\"28bc0cc9-51eb-459c-b3eb-f4d9f56338c1\",\"type\":\"PanTool\"},{\"attributes\":{\"plot\":{\"id\":\"1b378df2-5e96-4d58-bdca-b654e38263d8\",\"subtype\":\"Figure\",\"type\":\"Plot\"},\"ticker\":{\"id\":\"c868fcae-e7e2-429b-8d55-115f76c7e2be\",\"type\":\"CategoricalTicker\"}},\"id\":\"5221b55f-2d15-4a21-ae29-8b282e2b9cb5\",\"type\":\"Grid\"},{\"attributes\":{\"overlay\":{\"id\":\"b30fbf9c-cf76-4175-9cb7-b12ea0e30b10\",\"type\":\"BoxAnnotation\"}},\"id\":\"6f622d02-7ef2-4006-a6de-12c310007d3e\",\"type\":\"BoxZoomTool\"},{\"attributes\":{\"callback\":null,\"factors\":[\"Simulations\",\"Location Services\",\"Security\",\"Public Safety\",\"Synchronization\",\"Power Consumption\",\"RF Sharing\",\"QoS\",\"Mass Events\",\"Uplink Radio Reception\",\"Operability\",\"Link Adaptation\",\"Peak Rate\",\"Network Sharing\",\"Scheduler\",\"Power Control\",\"Downlink Radio Transmission\",\"Controller\",\"RRM\",\"Telco Cloud\",\"Load Balancing\",\"Small Cells\",\"Transport\",\"Performance\",\"HW &amp; Site Solutions\",\"Beamforming\",\"Mobility &amp; Multi-layer Optimization\",\"VoLTE &amp; VoWiFi\",\"Admission Control\",\"Dimensioning\",\"Carrier Aggregation\",\"IoT\"]},\"id\":\"ba35c081-7128-49f8-92a5-5de25126da1f\",\"type\":\"FactorRange\"},{\"attributes\":{\"source\":{\"id\":\"11054a5d-53c9-461e-8c8f-811dd784ff84\",\"type\":\"ColumnDataSource\"}},\"id\":\"dd248c72-02f7-4801-9a8f-20e6130c9d66\",\"type\":\"CDSView\"},{\"attributes\":{\"axis_label\":\"actionName\",\"formatter\":{\"id\":\"75d38f40-4921-4507-b4c6-1ebd85fa93a5\",\"type\":\"CategoricalTickFormatter\"},\"major_label_orientation\":0.6283185307179586,\"major_label_text_font_size\":{\"value\":\"9pt\"},\"plot\":{\"id\":\"1b378df2-5e96-4d58-bdca-b654e38263d8\",\"subtype\":\"Figure\",\"type\":\"Plot\"},\"ticker\":{\"id\":\"c868fcae-e7e2-429b-8d55-115f76c7e2be\",\"type\":\"CategoricalTicker\"}},\"id\":\"48c185d6-c3b6-4f69-b7ed-e9fafa5a4997\",\"type\":\"CategoricalAxis\"}],\"root_ids\":[\"1b378df2-5e96-4d58-bdca-b654e38263d8\"]},\"title\":\"Bokeh Application\",\"version\":\"0.12.13\"}};\n",
       "  var render_items = [{\"docid\":\"9a4a54e1-fa83-4a1c-b03f-44ccbafb40c4\",\"elementid\":\"b67a57a0-0f61-481f-ac2c-3f9a68d51584\",\"modelid\":\"1b378df2-5e96-4d58-bdca-b654e38263d8\"}];\n",
       "  root.Bokeh.embed.embed_items_notebook(docs_json, render_items);\n",
       "\n",
       "  }\n",
       "  if (root.Bokeh !== undefined) {\n",
       "    embed_document(root);\n",
       "  } else {\n",
       "    var attempts = 0;\n",
       "    var timer = setInterval(function(root) {\n",
       "      if (root.Bokeh !== undefined) {\n",
       "        embed_document(root);\n",
       "        clearInterval(timer);\n",
       "      }\n",
       "      attempts++;\n",
       "      if (attempts > 100) {\n",
       "        console.log(\"Bokeh: ERROR: Unable to run BokehJS code because BokehJS library is missing\")\n",
       "        clearInterval(timer);\n",
       "      }\n",
       "    }, 10, root)\n",
       "  }\n",
       "})(window);"
      ],
      "application/vnd.bokehjs_exec.v0+json": ""
     },
     "metadata": {
      "application/vnd.bokehjs_exec.v0+json": {
       "id": "1b378df2-5e96-4d58-bdca-b654e38263d8"
      }
     },
     "output_type": "display_data"
    }
   ],
   "source": [
    "plot(tagsCount, 'Tags filtering')"
   ]
  },
  {
   "cell_type": "code",
   "execution_count": 12,
   "metadata": {},
   "outputs": [
    {
     "data": {
      "text/html": [
       "\n",
       "<div class=\"bk-root\">\n",
       "    <div class=\"bk-plotdiv\" id=\"67d00e9b-b85c-4ea4-8d03-98a36a2ed8f7\"></div>\n",
       "</div>"
      ]
     },
     "metadata": {},
     "output_type": "display_data"
    },
    {
     "data": {
      "application/javascript": [
       "(function(root) {\n",
       "  function embed_document(root) {\n",
       "    \n",
       "  var docs_json = {\"09c39343-7eb2-467d-a09c-f7fe0e8433e4\":{\"roots\":{\"references\":[{\"attributes\":{\"fill_alpha\":{\"value\":0.1},\"fill_color\":{\"value\":\"#1f77b4\"},\"height\":{\"units\":\"data\",\"value\":1},\"line_alpha\":{\"value\":0.1},\"line_color\":{\"value\":\"#1f77b4\"},\"width\":{\"units\":\"data\",\"value\":1},\"x\":{\"field\":\"x\"},\"y\":{\"field\":\"y\"}},\"id\":\"7fb30856-2662-4ed5-bf5a-f7e1d08d4f91\",\"type\":\"Rect\"},{\"attributes\":{},\"id\":\"673857fd-bc37-4f77-8c48-f61296a1eed0\",\"type\":\"WheelZoomTool\"},{\"attributes\":{\"source\":{\"id\":\"b8118a05-eb65-40b0-945f-d9eb8eb31966\",\"type\":\"ColumnDataSource\"}},\"id\":\"45a45adf-8fca-4318-94a3-d4b39d1e7c8a\",\"type\":\"CDSView\"},{\"attributes\":{\"below\":[{\"id\":\"b3c8af89-962e-4d75-af7f-24edccc148f0\",\"type\":\"CategoricalAxis\"}],\"left\":[{\"id\":\"71620bbe-cc04-469e-9f1a-c656ded46297\",\"type\":\"CategoricalAxis\"}],\"plot_height\":1000,\"plot_width\":1000,\"renderers\":[{\"id\":\"b3c8af89-962e-4d75-af7f-24edccc148f0\",\"type\":\"CategoricalAxis\"},{\"id\":\"72f3d95e-283e-4b87-9fab-664b1b29dfa7\",\"type\":\"Grid\"},{\"id\":\"71620bbe-cc04-469e-9f1a-c656ded46297\",\"type\":\"CategoricalAxis\"},{\"id\":\"e90b59cc-50c9-4038-9bb8-0d440c566741\",\"type\":\"Grid\"},{\"id\":\"3e4a43d0-1204-4da3-909d-66eea2d01109\",\"type\":\"BoxAnnotation\"},{\"id\":\"b45c94e1-106f-46fa-9f9d-2934d70238af\",\"type\":\"GlyphRenderer\"}],\"title\":{\"id\":\"0816aa48-a1e8-47b5-9bb8-c96bc4869d67\",\"type\":\"Title\"},\"toolbar\":{\"id\":\"f4cdb5c0-8d8b-4cc5-9717-2e6bf0e2484d\",\"type\":\"Toolbar\"},\"x_range\":{\"id\":\"2556e98b-33c3-4676-ad55-dc655902448e\",\"type\":\"FactorRange\"},\"x_scale\":{\"id\":\"996fee6b-8e53-4f35-b791-3bd8ed3ecb5d\",\"type\":\"CategoricalScale\"},\"y_range\":{\"id\":\"975934a3-a408-4c68-93c5-5ba81b15beaa\",\"type\":\"FactorRange\"},\"y_scale\":{\"id\":\"c6241a0c-9ec1-4e4d-9077-8546be99eec8\",\"type\":\"CategoricalScale\"}},\"id\":\"b99a0fa0-cf0e-4526-a511-09bb06c3bb94\",\"subtype\":\"Figure\",\"type\":\"Plot\"},{\"attributes\":{\"overlay\":{\"id\":\"3e4a43d0-1204-4da3-909d-66eea2d01109\",\"type\":\"BoxAnnotation\"}},\"id\":\"e6a4d9c6-7119-437d-992c-feb0b4636a57\",\"type\":\"BoxZoomTool\"},{\"attributes\":{\"plot\":null,\"text\":\"Tag count in departments\"},\"id\":\"0816aa48-a1e8-47b5-9bb8-c96bc4869d67\",\"type\":\"Title\"},{\"attributes\":{},\"id\":\"bfe499cf-e708-4813-8c5e-aa8c0d9d91b5\",\"type\":\"PanTool\"},{\"attributes\":{\"callback\":null,\"factors\":[\"MN Mobile Networks\",\"undefined\",\"CO Customer Operations\",\"ION IP Optical Networks\",\"AA Applications &amp; Analytics\",\"HR Human Resources\",\"CIOO Chief Innovation&amp;Operating Office\",\"MCA Marketing &amp; Corporate Affairs\",\"GS Global Services\",\"Nokia CEO 1\",\"CSD Corp Strategy&amp;Development\",\"CTOBL CTO &amp; Bell Labs\",\"COO Chief Operating Office\",\"NSW Nokia Software\"]},\"id\":\"2556e98b-33c3-4676-ad55-dc655902448e\",\"type\":\"FactorRange\"},{\"attributes\":{},\"id\":\"2d5e9771-c641-4007-b9fd-493899389f31\",\"type\":\"ResetTool\"},{\"attributes\":{\"formatter\":{\"id\":\"ba193f9f-bc12-4d06-a943-0ed226839b71\",\"type\":\"CategoricalTickFormatter\"},\"plot\":{\"id\":\"b99a0fa0-cf0e-4526-a511-09bb06c3bb94\",\"subtype\":\"Figure\",\"type\":\"Plot\"},\"ticker\":{\"id\":\"42379900-a508-4be5-8b41-1f6f1d30b708\",\"type\":\"CategoricalTicker\"}},\"id\":\"71620bbe-cc04-469e-9f1a-c656ded46297\",\"type\":\"CategoricalAxis\"},{\"attributes\":{\"bottom_units\":\"screen\",\"fill_alpha\":{\"value\":0.5},\"fill_color\":{\"value\":\"lightgrey\"},\"left_units\":\"screen\",\"level\":\"overlay\",\"line_alpha\":{\"value\":1.0},\"line_color\":{\"value\":\"black\"},\"line_dash\":[4,4],\"line_width\":{\"value\":2},\"plot\":null,\"render_mode\":\"css\",\"right_units\":\"screen\",\"top_units\":\"screen\"},\"id\":\"3e4a43d0-1204-4da3-909d-66eea2d01109\",\"type\":\"BoxAnnotation\"},{\"attributes\":{\"active_drag\":\"auto\",\"active_inspect\":\"auto\",\"active_scroll\":\"auto\",\"active_tap\":\"auto\",\"tools\":[{\"id\":\"28346e77-f15d-4478-8611-ba11e2da961b\",\"type\":\"HoverTool\"},{\"id\":\"673857fd-bc37-4f77-8c48-f61296a1eed0\",\"type\":\"WheelZoomTool\"},{\"id\":\"e6a4d9c6-7119-437d-992c-feb0b4636a57\",\"type\":\"BoxZoomTool\"},{\"id\":\"bfe499cf-e708-4813-8c5e-aa8c0d9d91b5\",\"type\":\"PanTool\"},{\"id\":\"2d5e9771-c641-4007-b9fd-493899389f31\",\"type\":\"ResetTool\"}]},\"id\":\"f4cdb5c0-8d8b-4cc5-9717-2e6bf0e2484d\",\"type\":\"Toolbar\"},{\"attributes\":{\"callback\":null,\"factors\":[\"Security\",\"IoT\",\"Mobility &amp; Multi-layer Optimization\",\"Dimensioning\",\"Controller\",\"Downlink Radio Transmission\",\"HW &amp; Site Solutions\",\"Link Adaptation\",\"Load Balancing\",\"Mass Events\",\"Network Sharing\",\"Operability\",\"QoS\",\"Scheduler\",\"RRM\",\"Simulations\",\"Transport\",\"Uplink Radio Reception\",\"VoLTE &amp; VoWiFi\",\"Carrier Aggregation\",\"Telco Cloud\",\"Small Cells\",\"Beamforming\",\"Synchronization\",\"Admission Control\",\"Performance\",\"RF Sharing\",\"Power Control\",\"Peak Rate\",\"Location Services\",\"Power Consumption\",\"Public Safety\"]},\"id\":\"975934a3-a408-4c68-93c5-5ba81b15beaa\",\"type\":\"FactorRange\"},{\"attributes\":{\"data_source\":{\"id\":\"b8118a05-eb65-40b0-945f-d9eb8eb31966\",\"type\":\"ColumnDataSource\"},\"glyph\":{\"id\":\"4ce66726-ac55-47db-b2e7-39e98e501461\",\"type\":\"Rect\"},\"hover_glyph\":null,\"muted_glyph\":null,\"nonselection_glyph\":{\"id\":\"7fb30856-2662-4ed5-bf5a-f7e1d08d4f91\",\"type\":\"Rect\"},\"selection_glyph\":null,\"view\":{\"id\":\"45a45adf-8fca-4318-94a3-d4b39d1e7c8a\",\"type\":\"CDSView\"}},\"id\":\"b45c94e1-106f-46fa-9f9d-2934d70238af\",\"type\":\"GlyphRenderer\"},{\"attributes\":{},\"id\":\"996fee6b-8e53-4f35-b791-3bd8ed3ecb5d\",\"type\":\"CategoricalScale\"},{\"attributes\":{},\"id\":\"ba193f9f-bc12-4d06-a943-0ed226839b71\",\"type\":\"CategoricalTickFormatter\"},{\"attributes\":{},\"id\":\"c6241a0c-9ec1-4e4d-9077-8546be99eec8\",\"type\":\"CategoricalScale\"},{\"attributes\":{\"plot\":{\"id\":\"b99a0fa0-cf0e-4526-a511-09bb06c3bb94\",\"subtype\":\"Figure\",\"type\":\"Plot\"},\"ticker\":{\"id\":\"4b5b8eb4-7e26-4d76-b804-4e4621fdddc3\",\"type\":\"CategoricalTicker\"}},\"id\":\"72f3d95e-283e-4b87-9fab-664b1b29dfa7\",\"type\":\"Grid\"},{\"attributes\":{\"formatter\":{\"id\":\"7e79e183-ec69-4f83-a1a0-1dabd40cf749\",\"type\":\"CategoricalTickFormatter\"},\"major_label_orientation\":1.0471975511965976,\"plot\":{\"id\":\"b99a0fa0-cf0e-4526-a511-09bb06c3bb94\",\"subtype\":\"Figure\",\"type\":\"Plot\"},\"ticker\":{\"id\":\"4b5b8eb4-7e26-4d76-b804-4e4621fdddc3\",\"type\":\"CategoricalTicker\"}},\"id\":\"b3c8af89-962e-4d75-af7f-24edccc148f0\",\"type\":\"CategoricalAxis\"},{\"attributes\":{},\"id\":\"7e79e183-ec69-4f83-a1a0-1dabd40cf749\",\"type\":\"CategoricalTickFormatter\"},{\"attributes\":{},\"id\":\"4b5b8eb4-7e26-4d76-b804-4e4621fdddc3\",\"type\":\"CategoricalTicker\"},{\"attributes\":{},\"id\":\"42379900-a508-4be5-8b41-1f6f1d30b708\",\"type\":\"CategoricalTicker\"},{\"attributes\":{\"dimension\":1,\"plot\":{\"id\":\"b99a0fa0-cf0e-4526-a511-09bb06c3bb94\",\"subtype\":\"Figure\",\"type\":\"Plot\"},\"ticker\":{\"id\":\"42379900-a508-4be5-8b41-1f6f1d30b708\",\"type\":\"CategoricalTicker\"}},\"id\":\"e90b59cc-50c9-4038-9bb8-0d440c566741\",\"type\":\"Grid\"},{\"attributes\":{\"callback\":null,\"column_names\":[\"y\",\"x\",\"color\",\"desc\"],\"data\":{\"color\":[\"rgb(255, 219, 255)\",\"rgb(255, 255, 255)\",\"rgb(255, 187, 255)\",\"rgb(255, 255, 255)\",\"rgb(255, 255, 255)\",\"rgb(255, 255, 255)\",\"rgb(255, 51, 255)\",\"rgb(255, 255, 255)\",\"rgb(255, 255, 255)\",\"rgb(255, 255, 255)\",\"rgb(255, 50, 255)\",\"rgb(255, 255, 255)\",\"rgb(255, 255, 255)\",\"rgb(255, 174, 255)\",\"rgb(255, 226, 255)\",\"rgb(255, 255, 255)\",\"rgb(255, 146, 255)\",\"rgb(255, 255, 255)\",\"rgb(255, 255, 255)\",\"rgb(255, 226, 255)\",\"rgb(255, 77, 255)\",\"rgb(255, 234, 255)\",\"rgb(255, 255, 255)\",\"rgb(255, 255, 255)\",\"rgb(255, 81, 255)\",\"rgb(255, 255, 255)\",\"rgb(255, 255, 255)\",\"rgb(255, 226, 255)\",\"rgb(255, 234, 255)\",\"rgb(255, 255, 255)\",\"rgb(255, 144, 255)\",\"rgb(255, 255, 255)\",\"rgb(255, 255, 255)\",\"rgb(255, 255, 255)\",\"rgb(255, 26, 255)\",\"rgb(255, 234, 255)\",\"rgb(255, 255, 255)\",\"rgb(255, 255, 255)\",\"rgb(255, 29, 255)\",\"rgb(255, 255, 255)\",\"rgb(255, 255, 255)\",\"rgb(255, 187, 255)\",\"rgb(255, 234, 255)\",\"rgb(255, 255, 255)\",\"rgb(255, 205, 255)\",\"rgb(255, 255, 255)\",\"rgb(255, 255, 255)\",\"rgb(255, 226, 255)\",\"rgb(255, 112, 255)\",\"rgb(255, 255, 255)\",\"rgb(255, 255, 255)\",\"rgb(255, 255, 255)\",\"rgb(255, 109, 255)\",\"rgb(255, 255, 255)\",\"rgb(255, 255, 255)\",\"rgb(255, 184, 255)\",\"rgb(255, 209, 255)\",\"rgb(255, 255, 255)\",\"rgb(255, 191, 255)\",\"rgb(255, 255, 255)\",\"rgb(255, 255, 255)\",\"rgb(255, 226, 255)\",\"rgb(255, 58, 255)\",\"rgb(255, 234, 255)\",\"rgb(255, 219, 255)\",\"rgb(255, 255, 255)\",\"rgb(255, 36, 255)\",\"rgb(255, 255, 255)\",\"rgb(255, 255, 255)\",\"rgb(255, 194, 255)\",\"rgb(255, 219, 255)\",\"rgb(255, 255, 255)\",\"rgb(255, 194, 255)\",\"rgb(255, 255, 255)\",\"rgb(255, 255, 255)\",\"rgb(255, 255, 255)\",\"rgb(255, 106, 255)\",\"rgb(255, 255, 255)\",\"rgb(255, 255, 255)\",\"rgb(255, 255, 255)\",\"rgb(255, 133, 255)\",\"rgb(255, 255, 255)\",\"rgb(255, 255, 255)\",\"rgb(255, 194, 255)\",\"rgb(255, 234, 255)\",\"rgb(255, 255, 255)\",\"rgb(255, 153, 255)\",\"rgb(255, 255, 255)\",\"rgb(255, 234, 255)\",\"rgb(255, 255, 255)\",\"rgb(255, 95, 255)\",\"rgb(255, 255, 255)\",\"rgb(255, 255, 255)\",\"rgb(255, 255, 255)\",\"rgb(255, 66, 255)\",\"rgb(255, 255, 255)\",\"rgb(255, 255, 255)\",\"rgb(255, 205, 255)\",\"rgb(255, 201, 255)\",\"rgb(255, 234, 255)\",\"rgb(255, 95, 255)\",\"rgb(255, 234, 255)\",\"rgb(255, 255, 255)\",\"rgb(255, 255, 255)\",\"rgb(255, 74, 255)\",\"rgb(255, 255, 255)\",\"rgb(255, 201, 255)\",\"rgb(255, 226, 255)\",\"rgb(255, 0, 255)\",\"rgb(255, 255, 255)\",\"rgb(255, 255, 255)\",\"rgb(255, 122, 255)\",\"rgb(255, 234, 255)\",\"rgb(255, 255, 255)\",\"rgb(255, 209, 255)\",\"rgb(255, 255, 255)\",\"rgb(255, 255, 255)\",\"rgb(255, 255, 255)\",\"rgb(255, 117, 255)\",\"rgb(255, 255, 255)\",\"rgb(255, 255, 255)\",\"rgb(255, 255, 255)\",\"rgb(255, 137, 255)\",\"rgb(255, 255, 255)\",\"rgb(255, 255, 255)\",\"rgb(255, 201, 255)\",\"rgb(255, 209, 255)\",\"rgb(255, 255, 255)\",\"rgb(255, 176, 255)\",\"rgb(255, 255, 255)\",\"rgb(255, 255, 255)\",\"rgb(255, 255, 255)\",\"rgb(255, 98, 255)\",\"rgb(255, 255, 255)\",\"rgb(255, 255, 255)\",\"rgb(255, 255, 255)\",\"rgb(255, 106, 255)\",\"rgb(255, 255, 255)\",\"rgb(255, 234, 255)\",\"rgb(255, 209, 255)\",\"rgb(255, 234, 255)\",\"rgb(255, 255, 255)\",\"rgb(255, 209, 255)\",\"rgb(255, 255, 255)\",\"rgb(255, 255, 255)\",\"rgb(255, 255, 255)\",\"rgb(255, 164, 255)\",\"rgb(255, 255, 255)\",\"rgb(255, 255, 255)\",\"rgb(255, 255, 255)\",\"rgb(255, 160, 255)\",\"rgb(255, 255, 255)\",\"rgb(255, 255, 255)\",\"rgb(255, 234, 255)\",\"rgb(255, 234, 255)\",\"rgb(255, 255, 255)\",\"rgb(255, 255, 255)\",\"rgb(255, 255, 255)\",\"rgb(255, 255, 255)\",\"rgb(255, 255, 255)\",\"rgb(255, 122, 255)\",\"rgb(255, 255, 255)\",\"rgb(255, 255, 255)\",\"rgb(255, 255, 255)\",\"rgb(255, 147, 255)\",\"rgb(255, 255, 255)\",\"rgb(255, 255, 255)\",\"rgb(255, 187, 255)\",\"rgb(255, 187, 255)\",\"rgb(255, 255, 255)\",\"rgb(255, 194, 255)\",\"rgb(255, 255, 255)\",\"rgb(255, 255, 255)\",\"rgb(255, 255, 255)\",\"rgb(255, 43, 255)\",\"rgb(255, 255, 255)\",\"rgb(255, 255, 255)\",\"rgb(255, 255, 255)\",\"rgb(255, 100, 255)\",\"rgb(255, 255, 255)\",\"rgb(255, 255, 255)\",\"rgb(255, 194, 255)\",\"rgb(255, 234, 255)\",\"rgb(255, 255, 255)\",\"rgb(255, 255, 255)\",\"rgb(255, 255, 255)\",\"rgb(255, 234, 255)\",\"rgb(255, 255, 255)\",\"rgb(255, 120, 255)\",\"rgb(255, 255, 255)\",\"rgb(255, 255, 255)\",\"rgb(255, 255, 255)\",\"rgb(255, 113, 255)\",\"rgb(255, 255, 255)\",\"rgb(255, 255, 255)\",\"rgb(255, 219, 255)\",\"rgb(255, 209, 255)\",\"rgb(255, 255, 255)\",\"rgb(255, 194, 255)\",\"rgb(255, 255, 255)\",\"rgb(255, 255, 255)\",\"rgb(255, 255, 255)\",\"rgb(255, 158, 255)\",\"rgb(255, 255, 255)\",\"rgb(255, 255, 255)\",\"rgb(255, 255, 255)\",\"rgb(255, 116, 255)\",\"rgb(255, 234, 255)\",\"rgb(255, 255, 255)\",\"rgb(255, 209, 255)\",\"rgb(255, 234, 255)\",\"rgb(255, 255, 255)\",\"rgb(255, 191, 255)\",\"rgb(255, 255, 255)\",\"rgb(255, 255, 255)\",\"rgb(255, 255, 255)\",\"rgb(255, 112, 255)\",\"rgb(255, 255, 255)\",\"rgb(255, 255, 255)\",\"rgb(255, 255, 255)\",\"rgb(255, 142, 255)\",\"rgb(255, 255, 255)\",\"rgb(255, 255, 255)\",\"rgb(255, 209, 255)\",\"rgb(255, 155, 255)\",\"rgb(255, 255, 255)\",\"rgb(255, 214, 255)\",\"rgb(255, 255, 255)\",\"rgb(255, 255, 255)\",\"rgb(255, 255, 255)\",\"rgb(255, 72, 255)\",\"rgb(255, 255, 255)\",\"rgb(255, 255, 255)\",\"rgb(255, 255, 255)\",\"rgb(255, 99, 255)\",\"rgb(255, 255, 255)\",\"rgb(255, 255, 255)\",\"rgb(255, 197, 255)\",\"rgb(255, 226, 255)\",\"rgb(255, 255, 255)\",\"rgb(255, 226, 255)\",\"rgb(255, 255, 255)\",\"rgb(255, 255, 255)\",\"rgb(255, 255, 255)\",\"rgb(255, 140, 255)\",\"rgb(255, 255, 255)\",\"rgb(255, 255, 255)\",\"rgb(255, 255, 255)\",\"rgb(255, 146, 255)\",\"rgb(255, 255, 255)\",\"rgb(255, 255, 255)\",\"rgb(255, 226, 255)\",\"rgb(255, 234, 255)\",\"rgb(255, 255, 255)\",\"rgb(255, 209, 255)\",\"rgb(255, 255, 255)\",\"rgb(255, 255, 255)\",\"rgb(255, 255, 255)\",\"rgb(255, 112, 255)\",\"rgb(255, 255, 255)\",\"rgb(255, 255, 255)\",\"rgb(255, 255, 255)\",\"rgb(255, 122, 255)\",\"rgb(255, 255, 255)\",\"rgb(255, 255, 255)\",\"rgb(255, 191, 255)\",\"rgb(255, 234, 255)\",\"rgb(255, 255, 255)\",\"rgb(255, 184, 255)\",\"rgb(255, 255, 255)\",\"rgb(255, 255, 255)\",\"rgb(255, 255, 255)\",\"rgb(255, 138, 255)\",\"rgb(255, 255, 255)\",\"rgb(255, 234, 255)\",\"rgb(255, 255, 255)\",\"rgb(255, 182, 255)\",\"rgb(255, 255, 255)\",\"rgb(255, 255, 255)\",\"rgb(255, 234, 255)\",\"rgb(255, 214, 255)\",\"rgb(255, 255, 255)\",\"rgb(255, 205, 255)\",\"rgb(255, 255, 255)\",\"rgb(255, 255, 255)\",\"rgb(255, 255, 255)\",\"rgb(255, 130, 255)\",\"rgb(255, 255, 255)\",\"rgb(255, 255, 255)\",\"rgb(255, 255, 255)\",\"rgb(255, 151, 255)\",\"rgb(255, 255, 255)\",\"rgb(255, 255, 255)\",\"rgb(255, 197, 255)\",\"rgb(255, 234, 255)\",\"rgb(255, 255, 255)\",\"rgb(255, 209, 255)\",\"rgb(255, 255, 255)\",\"rgb(255, 255, 255)\",\"rgb(255, 255, 255)\",\"rgb(255, 128, 255)\",\"rgb(255, 255, 255)\",\"rgb(255, 255, 255)\",\"rgb(255, 255, 255)\",\"rgb(255, 146, 255)\",\"rgb(255, 255, 255)\",\"rgb(255, 255, 255)\",\"rgb(255, 209, 255)\",\"rgb(255, 234, 255)\",\"rgb(255, 255, 255)\",\"rgb(255, 162, 255)\",\"rgb(255, 255, 255)\",\"rgb(255, 255, 255)\",\"rgb(255, 234, 255)\",\"rgb(255, 130, 255)\",\"rgb(255, 255, 255)\",\"rgb(255, 255, 255)\",\"rgb(255, 255, 255)\",\"rgb(255, 100, 255)\",\"rgb(255, 255, 255)\",\"rgb(255, 255, 255)\",\"rgb(255, 197, 255)\",\"rgb(255, 255, 255)\",\"rgb(255, 255, 255)\",\"rgb(255, 162, 255)\",\"rgb(255, 255, 255)\",\"rgb(255, 255, 255)\",\"rgb(255, 219, 255)\",\"rgb(255, 120, 255)\",\"rgb(255, 255, 255)\",\"rgb(255, 234, 255)\",\"rgb(255, 255, 255)\",\"rgb(255, 137, 255)\",\"rgb(255, 255, 255)\",\"rgb(255, 255, 255)\",\"rgb(255, 219, 255)\",\"rgb(255, 219, 255)\",\"rgb(255, 255, 255)\",\"rgb(255, 214, 255)\",\"rgb(255, 255, 255)\",\"rgb(255, 255, 255)\",\"rgb(255, 255, 255)\",\"rgb(255, 166, 255)\",\"rgb(255, 255, 255)\",\"rgb(255, 255, 255)\",\"rgb(255, 255, 255)\",\"rgb(255, 158, 255)\",\"rgb(255, 255, 255)\",\"rgb(255, 255, 255)\",\"rgb(255, 219, 255)\",\"rgb(255, 234, 255)\",\"rgb(255, 255, 255)\",\"rgb(255, 209, 255)\",\"rgb(255, 255, 255)\",\"rgb(255, 255, 255)\",\"rgb(255, 255, 255)\",\"rgb(255, 171, 255)\",\"rgb(255, 255, 255)\",\"rgb(255, 255, 255)\",\"rgb(255, 255, 255)\",\"rgb(255, 182, 255)\",\"rgb(255, 255, 255)\",\"rgb(255, 255, 255)\",\"rgb(255, 214, 255)\",\"rgb(255, 234, 255)\",\"rgb(255, 255, 255)\",\"rgb(255, 187, 255)\",\"rgb(255, 255, 255)\",\"rgb(255, 255, 255)\",\"rgb(255, 255, 255)\",\"rgb(255, 91, 255)\",\"rgb(255, 214, 255)\",\"rgb(255, 234, 255)\",\"rgb(255, 255, 255)\",\"rgb(255, 102, 255)\",\"rgb(255, 255, 255)\",\"rgb(255, 234, 255)\",\"rgb(255, 209, 255)\",\"rgb(255, 234, 255)\",\"rgb(255, 255, 255)\",\"rgb(255, 201, 255)\",\"rgb(255, 255, 255)\",\"rgb(255, 255, 255)\",\"rgb(255, 255, 255)\",\"rgb(255, 140, 255)\",\"rgb(255, 255, 255)\",\"rgb(255, 255, 255)\",\"rgb(255, 255, 255)\",\"rgb(255, 153, 255)\",\"rgb(255, 255, 255)\",\"rgb(255, 255, 255)\",\"rgb(255, 234, 255)\",\"rgb(255, 234, 255)\",\"rgb(255, 255, 255)\",\"rgb(255, 184, 255)\",\"rgb(255, 226, 255)\",\"rgb(255, 234, 255)\",\"rgb(255, 255, 255)\",\"rgb(255, 114, 255)\",\"rgb(255, 255, 255)\",\"rgb(255, 209, 255)\",\"rgb(255, 255, 255)\",\"rgb(255, 107, 255)\",\"rgb(255, 219, 255)\",\"rgb(255, 255, 255)\",\"rgb(255, 219, 255)\",\"rgb(255, 234, 255)\",\"rgb(255, 255, 255)\",\"rgb(255, 169, 255)\",\"rgb(255, 255, 255)\",\"rgb(255, 255, 255)\",\"rgb(255, 226, 255)\",\"rgb(255, 110, 255)\",\"rgb(255, 219, 255)\",\"rgb(255, 255, 255)\",\"rgb(255, 255, 255)\",\"rgb(255, 75, 255)\",\"rgb(255, 255, 255)\",\"rgb(255, 234, 255)\",\"rgb(255, 214, 255)\",\"rgb(255, 234, 255)\",\"rgb(255, 255, 255)\",\"rgb(255, 226, 255)\",\"rgb(255, 255, 255)\",\"rgb(255, 255, 255)\",\"rgb(255, 255, 255)\",\"rgb(255, 103, 255)\",\"rgb(255, 255, 255)\",\"rgb(255, 255, 255)\",\"rgb(255, 255, 255)\",\"rgb(255, 166, 255)\",\"rgb(255, 255, 255)\",\"rgb(255, 255, 255)\",\"rgb(255, 201, 255)\",\"rgb(255, 197, 255)\",\"rgb(255, 255, 255)\",\"rgb(255, 164, 255)\",\"rgb(255, 255, 255)\",\"rgb(255, 255, 255)\",\"rgb(255, 255, 255)\",\"rgb(255, 54, 255)\",\"rgb(255, 214, 255)\",\"rgb(255, 255, 255)\",\"rgb(255, 255, 255)\",\"rgb(255, 84, 255)\",\"rgb(255, 214, 255)\",\"rgb(255, 226, 255)\",\"rgb(255, 153, 255)\"],\"desc\":[\"3.0\",\"0.0\",\"11.0\",\"0.0\",\"0.0\",\"0.0\",\"101.0\",\"0.0\",\"0.0\",\"0.0\",\"102.0\",\"0.0\",\"0.0\",\"16.0\",\"2.0\",\"0.0\",\"29.0\",\"0.0\",\"0.0\",\"2.0\",\"77.0\",\"1.0\",\"0.0\",\"0.0\",\"74.0\",\"0.0\",\"0.0\",\"2.0\",\"1.0\",\"0.0\",\"30.0\",\"0.0\",\"0.0\",\"0.0\",\"128.0\",\"1.0\",\"0.0\",\"0.0\",\"124.0\",\"0.0\",\"0.0\",\"11.0\",\"1.0\",\"0.0\",\"6.0\",\"0.0\",\"0.0\",\"2.0\",\"50.0\",\"0.0\",\"0.0\",\"0.0\",\"52.0\",\"0.0\",\"0.0\",\"12.0\",\"5.0\",\"0.0\",\"10.0\",\"0.0\",\"0.0\",\"2.0\",\"94.0\",\"1.0\",\"3.0\",\"0.0\",\"117.0\",\"0.0\",\"0.0\",\"9.0\",\"3.0\",\"0.0\",\"9.0\",\"0.0\",\"0.0\",\"0.0\",\"54.0\",\"0.0\",\"0.0\",\"0.0\",\"36.0\",\"0.0\",\"0.0\",\"9.0\",\"1.0\",\"0.0\",\"25.0\",\"0.0\",\"1.0\",\"0.0\",\"62.0\",\"0.0\",\"0.0\",\"0.0\",\"87.0\",\"0.0\",\"0.0\",\"6.0\",\"7.0\",\"1.0\",\"62.0\",\"1.0\",\"0.0\",\"0.0\",\"80.0\",\"0.0\",\"7.0\",\"2.0\",\"159.0\",\"0.0\",\"0.0\",\"43.0\",\"1.0\",\"0.0\",\"5.0\",\"0.0\",\"0.0\",\"0.0\",\"46.0\",\"0.0\",\"0.0\",\"0.0\",\"34.0\",\"0.0\",\"0.0\",\"7.0\",\"5.0\",\"0.0\",\"15.0\",\"0.0\",\"0.0\",\"0.0\",\"60.0\",\"0.0\",\"0.0\",\"0.0\",\"54.0\",\"0.0\",\"1.0\",\"5.0\",\"1.0\",\"0.0\",\"5.0\",\"0.0\",\"0.0\",\"0.0\",\"20.0\",\"0.0\",\"0.0\",\"0.0\",\"22.0\",\"0.0\",\"0.0\",\"1.0\",\"1.0\",\"0.0\",\"0.0\",\"0.0\",\"0.0\",\"0.0\",\"43.0\",\"0.0\",\"0.0\",\"0.0\",\"28.0\",\"0.0\",\"0.0\",\"11.0\",\"11.0\",\"0.0\",\"9.0\",\"0.0\",\"0.0\",\"0.0\",\"109.0\",\"0.0\",\"0.0\",\"0.0\",\"58.0\",\"0.0\",\"0.0\",\"9.0\",\"1.0\",\"0.0\",\"0.0\",\"0.0\",\"1.0\",\"0.0\",\"44.0\",\"0.0\",\"0.0\",\"0.0\",\"49.0\",\"0.0\",\"0.0\",\"3.0\",\"5.0\",\"0.0\",\"9.0\",\"0.0\",\"0.0\",\"0.0\",\"23.0\",\"0.0\",\"0.0\",\"0.0\",\"47.0\",\"1.0\",\"0.0\",\"5.0\",\"1.0\",\"0.0\",\"10.0\",\"0.0\",\"0.0\",\"0.0\",\"50.0\",\"0.0\",\"0.0\",\"0.0\",\"31.0\",\"0.0\",\"0.0\",\"5.0\",\"24.0\",\"0.0\",\"4.0\",\"0.0\",\"0.0\",\"0.0\",\"81.0\",\"0.0\",\"0.0\",\"0.0\",\"59.0\",\"0.0\",\"0.0\",\"8.0\",\"2.0\",\"0.0\",\"2.0\",\"0.0\",\"0.0\",\"0.0\",\"32.0\",\"0.0\",\"0.0\",\"0.0\",\"29.0\",\"0.0\",\"0.0\",\"2.0\",\"1.0\",\"0.0\",\"5.0\",\"0.0\",\"0.0\",\"0.0\",\"50.0\",\"0.0\",\"0.0\",\"0.0\",\"43.0\",\"0.0\",\"0.0\",\"10.0\",\"1.0\",\"0.0\",\"12.0\",\"0.0\",\"0.0\",\"0.0\",\"33.0\",\"0.0\",\"1.0\",\"0.0\",\"13.0\",\"0.0\",\"0.0\",\"1.0\",\"4.0\",\"0.0\",\"6.0\",\"0.0\",\"0.0\",\"0.0\",\"38.0\",\"0.0\",\"0.0\",\"0.0\",\"26.0\",\"0.0\",\"0.0\",\"8.0\",\"1.0\",\"0.0\",\"5.0\",\"0.0\",\"0.0\",\"0.0\",\"39.0\",\"0.0\",\"0.0\",\"0.0\",\"29.0\",\"0.0\",\"0.0\",\"5.0\",\"1.0\",\"0.0\",\"21.0\",\"0.0\",\"0.0\",\"1.0\",\"38.0\",\"0.0\",\"0.0\",\"0.0\",\"58.0\",\"0.0\",\"0.0\",\"8.0\",\"0.0\",\"0.0\",\"21.0\",\"0.0\",\"0.0\",\"3.0\",\"44.0\",\"0.0\",\"1.0\",\"0.0\",\"34.0\",\"0.0\",\"0.0\",\"3.0\",\"3.0\",\"0.0\",\"4.0\",\"0.0\",\"0.0\",\"0.0\",\"19.0\",\"0.0\",\"0.0\",\"0.0\",\"23.0\",\"0.0\",\"0.0\",\"3.0\",\"1.0\",\"0.0\",\"5.0\",\"0.0\",\"0.0\",\"0.0\",\"17.0\",\"0.0\",\"0.0\",\"0.0\",\"13.0\",\"0.0\",\"0.0\",\"4.0\",\"1.0\",\"0.0\",\"11.0\",\"0.0\",\"0.0\",\"0.0\",\"65.0\",\"4.0\",\"1.0\",\"0.0\",\"57.0\",\"0.0\",\"1.0\",\"5.0\",\"1.0\",\"0.0\",\"7.0\",\"0.0\",\"0.0\",\"0.0\",\"32.0\",\"0.0\",\"0.0\",\"0.0\",\"25.0\",\"0.0\",\"0.0\",\"1.0\",\"1.0\",\"0.0\",\"12.0\",\"2.0\",\"1.0\",\"0.0\",\"48.0\",\"0.0\",\"5.0\",\"0.0\",\"53.0\",\"3.0\",\"0.0\",\"3.0\",\"1.0\",\"0.0\",\"18.0\",\"0.0\",\"0.0\",\"2.0\",\"51.0\",\"3.0\",\"0.0\",\"0.0\",\"79.0\",\"0.0\",\"1.0\",\"4.0\",\"1.0\",\"0.0\",\"2.0\",\"0.0\",\"0.0\",\"0.0\",\"56.0\",\"0.0\",\"0.0\",\"0.0\",\"19.0\",\"0.0\",\"0.0\",\"7.0\",\"8.0\",\"0.0\",\"20.0\",\"0.0\",\"0.0\",\"0.0\",\"98.0\",\"4.0\",\"0.0\",\"0.0\",\"71.0\",\"4.0\",\"2.0\",\"25.0\"],\"x\":[\"AA Applications &amp; Analytics\",\"CIOO Chief Innovation&amp;Operating Office\",\"CO Customer Operations\",\"COO Chief Operating Office\",\"CSD Corp Strategy&amp;Development\",\"CTOBL CTO &amp; Bell Labs\",\"GS Global Services\",\"HR Human Resources\",\"ION IP Optical Networks\",\"MCA Marketing &amp; Corporate Affairs\",\"MN Mobile Networks\",\"NSW Nokia Software\",\"Nokia CEO 1\",\"undefined\",\"AA Applications &amp; Analytics\",\"CIOO Chief Innovation&amp;Operating Office\",\"CO Customer Operations\",\"COO Chief Operating Office\",\"CSD Corp Strategy&amp;Development\",\"CTOBL CTO &amp; Bell Labs\",\"GS Global Services\",\"HR Human Resources\",\"ION IP Optical Networks\",\"MCA Marketing &amp; Corporate Affairs\",\"MN Mobile Networks\",\"NSW Nokia Software\",\"Nokia CEO 1\",\"undefined\",\"AA Applications &amp; Analytics\",\"CIOO Chief Innovation&amp;Operating Office\",\"CO Customer Operations\",\"COO Chief Operating Office\",\"CSD Corp Strategy&amp;Development\",\"CTOBL CTO &amp; Bell Labs\",\"GS Global Services\",\"HR Human Resources\",\"ION IP Optical Networks\",\"MCA Marketing &amp; Corporate Affairs\",\"MN Mobile Networks\",\"NSW Nokia Software\",\"Nokia CEO 1\",\"undefined\",\"AA Applications &amp; Analytics\",\"CIOO Chief Innovation&amp;Operating Office\",\"CO Customer Operations\",\"COO Chief Operating Office\",\"CSD Corp Strategy&amp;Development\",\"CTOBL CTO &amp; Bell Labs\",\"GS Global Services\",\"HR Human Resources\",\"ION IP Optical Networks\",\"MCA Marketing &amp; Corporate Affairs\",\"MN Mobile Networks\",\"NSW Nokia Software\",\"Nokia CEO 1\",\"undefined\",\"AA Applications &amp; Analytics\",\"CIOO Chief Innovation&amp;Operating Office\",\"CO Customer Operations\",\"COO Chief Operating Office\",\"CSD Corp Strategy&amp;Development\",\"CTOBL CTO &amp; Bell Labs\",\"GS Global Services\",\"HR Human Resources\",\"ION IP Optical Networks\",\"MCA Marketing &amp; Corporate Affairs\",\"MN Mobile Networks\",\"NSW Nokia Software\",\"Nokia CEO 1\",\"undefined\",\"AA Applications &amp; Analytics\",\"CIOO Chief Innovation&amp;Operating Office\",\"CO Customer Operations\",\"COO Chief Operating Office\",\"CSD Corp Strategy&amp;Development\",\"CTOBL CTO &amp; Bell Labs\",\"GS Global Services\",\"HR Human Resources\",\"ION IP Optical Networks\",\"MCA Marketing &amp; Corporate Affairs\",\"MN Mobile Networks\",\"NSW Nokia Software\",\"Nokia CEO 1\",\"undefined\",\"AA Applications &amp; Analytics\",\"CIOO Chief Innovation&amp;Operating Office\",\"CO Customer Operations\",\"COO Chief Operating Office\",\"CSD Corp Strategy&amp;Development\",\"CTOBL CTO &amp; Bell Labs\",\"GS Global Services\",\"HR Human Resources\",\"ION IP Optical Networks\",\"MCA Marketing &amp; Corporate Affairs\",\"MN Mobile Networks\",\"NSW Nokia Software\",\"Nokia CEO 1\",\"undefined\",\"AA Applications &amp; Analytics\",\"CIOO Chief Innovation&amp;Operating Office\",\"CO Customer Operations\",\"COO Chief Operating Office\",\"CSD Corp Strategy&amp;Development\",\"CTOBL CTO &amp; Bell Labs\",\"GS Global Services\",\"HR Human Resources\",\"ION IP Optical Networks\",\"MCA Marketing &amp; Corporate Affairs\",\"MN Mobile Networks\",\"NSW Nokia Software\",\"Nokia CEO 1\",\"undefined\",\"AA Applications &amp; Analytics\",\"CIOO Chief Innovation&amp;Operating Office\",\"CO Customer Operations\",\"COO Chief Operating Office\",\"CSD Corp Strategy&amp;Development\",\"CTOBL CTO &amp; Bell Labs\",\"GS Global Services\",\"HR Human Resources\",\"ION IP Optical Networks\",\"MCA Marketing &amp; Corporate Affairs\",\"MN Mobile Networks\",\"NSW Nokia Software\",\"Nokia CEO 1\",\"undefined\",\"AA Applications &amp; Analytics\",\"CIOO Chief Innovation&amp;Operating Office\",\"CO Customer Operations\",\"COO Chief Operating Office\",\"CSD Corp Strategy&amp;Development\",\"CTOBL CTO &amp; Bell Labs\",\"GS Global Services\",\"HR Human Resources\",\"ION IP Optical Networks\",\"MCA Marketing &amp; Corporate Affairs\",\"MN Mobile Networks\",\"NSW Nokia Software\",\"Nokia CEO 1\",\"undefined\",\"AA Applications &amp; Analytics\",\"CIOO Chief Innovation&amp;Operating Office\",\"CO Customer Operations\",\"COO Chief Operating Office\",\"CSD Corp Strategy&amp;Development\",\"CTOBL CTO &amp; Bell Labs\",\"GS Global Services\",\"HR Human Resources\",\"ION IP Optical Networks\",\"MCA Marketing &amp; Corporate Affairs\",\"MN Mobile Networks\",\"NSW Nokia Software\",\"Nokia CEO 1\",\"undefined\",\"AA Applications &amp; Analytics\",\"CIOO Chief Innovation&amp;Operating Office\",\"CO Customer Operations\",\"COO Chief Operating Office\",\"CSD Corp Strategy&amp;Development\",\"CTOBL CTO &amp; Bell Labs\",\"GS Global Services\",\"HR Human Resources\",\"ION IP Optical Networks\",\"MCA Marketing &amp; Corporate Affairs\",\"MN Mobile Networks\",\"NSW Nokia Software\",\"Nokia CEO 1\",\"undefined\",\"AA Applications &amp; Analytics\",\"CIOO Chief Innovation&amp;Operating Office\",\"CO Customer Operations\",\"COO Chief Operating Office\",\"CSD Corp Strategy&amp;Development\",\"CTOBL CTO &amp; Bell Labs\",\"GS Global Services\",\"HR Human Resources\",\"ION IP Optical Networks\",\"MCA Marketing &amp; Corporate Affairs\",\"MN Mobile Networks\",\"NSW Nokia Software\",\"Nokia CEO 1\",\"undefined\",\"AA Applications &amp; Analytics\",\"CIOO Chief Innovation&amp;Operating Office\",\"CO Customer Operations\",\"COO Chief Operating Office\",\"CSD Corp Strategy&amp;Development\",\"CTOBL CTO &amp; Bell Labs\",\"GS Global Services\",\"HR Human Resources\",\"ION IP Optical Networks\",\"MCA Marketing &amp; Corporate Affairs\",\"MN Mobile Networks\",\"NSW Nokia Software\",\"Nokia CEO 1\",\"undefined\",\"AA Applications &amp; Analytics\",\"CIOO Chief Innovation&amp;Operating Office\",\"CO Customer Operations\",\"COO Chief Operating Office\",\"CSD Corp Strategy&amp;Development\",\"CTOBL CTO &amp; Bell Labs\",\"GS Global Services\",\"HR Human Resources\",\"ION IP Optical Networks\",\"MCA Marketing &amp; Corporate Affairs\",\"MN Mobile Networks\",\"NSW Nokia Software\",\"Nokia CEO 1\",\"undefined\",\"AA Applications &amp; Analytics\",\"CIOO Chief Innovation&amp;Operating Office\",\"CO Customer Operations\",\"COO Chief Operating Office\",\"CSD Corp Strategy&amp;Development\",\"CTOBL CTO &amp; Bell Labs\",\"GS Global Services\",\"HR Human Resources\",\"ION IP Optical Networks\",\"MCA Marketing &amp; Corporate Affairs\",\"MN Mobile Networks\",\"NSW Nokia Software\",\"Nokia CEO 1\",\"undefined\",\"AA Applications &amp; Analytics\",\"CIOO Chief Innovation&amp;Operating Office\",\"CO Customer Operations\",\"COO Chief Operating Office\",\"CSD Corp Strategy&amp;Development\",\"CTOBL CTO &amp; Bell Labs\",\"GS Global Services\",\"HR Human Resources\",\"ION IP Optical Networks\",\"MCA Marketing &amp; Corporate Affairs\",\"MN Mobile Networks\",\"NSW Nokia Software\",\"Nokia CEO 1\",\"undefined\",\"AA Applications &amp; Analytics\",\"CIOO Chief Innovation&amp;Operating Office\",\"CO Customer Operations\",\"COO Chief Operating Office\",\"CSD Corp Strategy&amp;Development\",\"CTOBL CTO &amp; Bell Labs\",\"GS Global Services\",\"HR Human Resources\",\"ION IP Optical Networks\",\"MCA Marketing &amp; Corporate Affairs\",\"MN Mobile Networks\",\"NSW Nokia Software\",\"Nokia CEO 1\",\"undefined\",\"AA Applications &amp; Analytics\",\"CIOO Chief Innovation&amp;Operating Office\",\"CO Customer Operations\",\"COO Chief Operating Office\",\"CSD Corp Strategy&amp;Development\",\"CTOBL CTO &amp; Bell Labs\",\"GS Global Services\",\"HR Human Resources\",\"ION IP Optical Networks\",\"MCA Marketing &amp; Corporate Affairs\",\"MN Mobile Networks\",\"NSW Nokia Software\",\"Nokia CEO 1\",\"undefined\",\"AA Applications &amp; Analytics\",\"CIOO Chief Innovation&amp;Operating Office\",\"CO Customer Operations\",\"COO Chief Operating Office\",\"CSD Corp Strategy&amp;Development\",\"CTOBL CTO &amp; Bell Labs\",\"GS Global Services\",\"HR Human Resources\",\"ION IP Optical Networks\",\"MCA Marketing &amp; Corporate Affairs\",\"MN Mobile Networks\",\"NSW Nokia Software\",\"Nokia CEO 1\",\"undefined\",\"AA Applications &amp; Analytics\",\"CIOO Chief Innovation&amp;Operating Office\",\"CO Customer Operations\",\"COO Chief Operating Office\",\"CSD Corp Strategy&amp;Development\",\"CTOBL CTO &amp; Bell Labs\",\"GS Global Services\",\"HR Human Resources\",\"ION IP Optical Networks\",\"MCA Marketing &amp; Corporate Affairs\",\"MN Mobile Networks\",\"NSW Nokia Software\",\"Nokia CEO 1\",\"undefined\",\"AA Applications &amp; Analytics\",\"CIOO Chief Innovation&amp;Operating Office\",\"CO Customer Operations\",\"COO Chief Operating Office\",\"CSD Corp Strategy&amp;Development\",\"CTOBL CTO &amp; Bell Labs\",\"GS Global Services\",\"HR Human Resources\",\"ION IP Optical Networks\",\"MCA Marketing &amp; Corporate Affairs\",\"MN Mobile Networks\",\"NSW Nokia Software\",\"Nokia CEO 1\",\"undefined\",\"AA Applications &amp; Analytics\",\"CIOO Chief Innovation&amp;Operating Office\",\"CO Customer Operations\",\"COO Chief Operating Office\",\"CSD Corp Strategy&amp;Development\",\"CTOBL CTO &amp; Bell Labs\",\"GS Global Services\",\"HR Human Resources\",\"ION IP Optical Networks\",\"MCA Marketing &amp; Corporate Affairs\",\"MN Mobile Networks\",\"NSW Nokia Software\",\"Nokia CEO 1\",\"undefined\",\"AA Applications &amp; Analytics\",\"CIOO Chief Innovation&amp;Operating Office\",\"CO Customer Operations\",\"COO Chief Operating Office\",\"CSD Corp Strategy&amp;Development\",\"CTOBL CTO &amp; Bell Labs\",\"GS Global Services\",\"HR Human Resources\",\"ION IP Optical Networks\",\"MCA Marketing &amp; Corporate Affairs\",\"MN Mobile Networks\",\"NSW Nokia Software\",\"Nokia CEO 1\",\"undefined\",\"AA Applications &amp; Analytics\",\"CIOO Chief Innovation&amp;Operating Office\",\"CO Customer Operations\",\"COO Chief Operating Office\",\"CSD Corp Strategy&amp;Development\",\"CTOBL CTO &amp; Bell Labs\",\"GS Global Services\",\"HR Human Resources\",\"ION IP Optical Networks\",\"MCA Marketing &amp; Corporate Affairs\",\"MN Mobile Networks\",\"NSW Nokia Software\",\"Nokia CEO 1\",\"undefined\",\"AA Applications &amp; Analytics\",\"CIOO Chief Innovation&amp;Operating Office\",\"CO Customer Operations\",\"COO Chief Operating Office\",\"CSD Corp Strategy&amp;Development\",\"CTOBL CTO &amp; Bell Labs\",\"GS Global Services\",\"HR Human Resources\",\"ION IP Optical Networks\",\"MCA Marketing &amp; Corporate Affairs\",\"MN Mobile Networks\",\"NSW Nokia Software\",\"Nokia CEO 1\",\"undefined\",\"AA Applications &amp; Analytics\",\"CIOO Chief Innovation&amp;Operating Office\",\"CO Customer Operations\",\"COO Chief Operating Office\",\"CSD Corp Strategy&amp;Development\",\"CTOBL CTO &amp; Bell Labs\",\"GS Global Services\",\"HR Human Resources\",\"ION IP Optical Networks\",\"MCA Marketing &amp; Corporate Affairs\",\"MN Mobile Networks\",\"NSW Nokia Software\",\"Nokia CEO 1\",\"undefined\",\"AA Applications &amp; Analytics\",\"CIOO Chief Innovation&amp;Operating Office\",\"CO Customer Operations\",\"COO Chief Operating Office\",\"CSD Corp Strategy&amp;Development\",\"CTOBL CTO &amp; Bell Labs\",\"GS Global Services\",\"HR Human Resources\",\"ION IP Optical Networks\",\"MCA Marketing &amp; Corporate Affairs\",\"MN Mobile Networks\",\"NSW Nokia Software\",\"Nokia CEO 1\",\"undefined\",\"AA Applications &amp; Analytics\",\"CIOO Chief Innovation&amp;Operating Office\",\"CO Customer Operations\",\"COO Chief Operating Office\",\"CSD Corp Strategy&amp;Development\",\"CTOBL CTO &amp; Bell Labs\",\"GS Global Services\",\"HR Human Resources\",\"ION IP Optical Networks\",\"MCA Marketing &amp; Corporate Affairs\",\"MN Mobile Networks\",\"NSW Nokia Software\",\"Nokia CEO 1\",\"undefined\",\"AA Applications &amp; Analytics\",\"CIOO Chief Innovation&amp;Operating Office\",\"CO Customer Operations\",\"COO Chief Operating Office\",\"CSD Corp Strategy&amp;Development\",\"CTOBL CTO &amp; Bell Labs\",\"GS Global Services\",\"HR Human Resources\",\"ION IP Optical Networks\",\"MCA Marketing &amp; Corporate Affairs\",\"MN Mobile Networks\",\"NSW Nokia Software\",\"Nokia CEO 1\",\"undefined\",\"AA Applications &amp; Analytics\",\"CIOO Chief Innovation&amp;Operating Office\",\"CO Customer Operations\",\"COO Chief Operating Office\",\"CSD Corp Strategy&amp;Development\",\"CTOBL CTO &amp; Bell Labs\",\"GS Global Services\",\"HR Human Resources\",\"ION IP Optical Networks\",\"MCA Marketing &amp; Corporate Affairs\",\"MN Mobile Networks\",\"NSW Nokia Software\",\"Nokia CEO 1\",\"undefined\",\"AA Applications &amp; Analytics\",\"CIOO Chief Innovation&amp;Operating Office\",\"CO Customer Operations\",\"COO Chief Operating Office\",\"CSD Corp Strategy&amp;Development\",\"CTOBL CTO &amp; Bell Labs\",\"GS Global Services\",\"HR Human Resources\",\"ION IP Optical Networks\",\"MCA Marketing &amp; Corporate Affairs\",\"MN Mobile Networks\",\"NSW Nokia Software\",\"Nokia CEO 1\",\"undefined\"],\"y\":[\"Admission Control\",\"Admission Control\",\"Admission Control\",\"Admission Control\",\"Admission Control\",\"Admission Control\",\"Admission Control\",\"Admission Control\",\"Admission Control\",\"Admission Control\",\"Admission Control\",\"Admission Control\",\"Admission Control\",\"Admission Control\",\"Beamforming\",\"Beamforming\",\"Beamforming\",\"Beamforming\",\"Beamforming\",\"Beamforming\",\"Beamforming\",\"Beamforming\",\"Beamforming\",\"Beamforming\",\"Beamforming\",\"Beamforming\",\"Beamforming\",\"Beamforming\",\"Carrier Aggregation\",\"Carrier Aggregation\",\"Carrier Aggregation\",\"Carrier Aggregation\",\"Carrier Aggregation\",\"Carrier Aggregation\",\"Carrier Aggregation\",\"Carrier Aggregation\",\"Carrier Aggregation\",\"Carrier Aggregation\",\"Carrier Aggregation\",\"Carrier Aggregation\",\"Carrier Aggregation\",\"Carrier Aggregation\",\"Controller\",\"Controller\",\"Controller\",\"Controller\",\"Controller\",\"Controller\",\"Controller\",\"Controller\",\"Controller\",\"Controller\",\"Controller\",\"Controller\",\"Controller\",\"Controller\",\"Dimensioning\",\"Dimensioning\",\"Dimensioning\",\"Dimensioning\",\"Dimensioning\",\"Dimensioning\",\"Dimensioning\",\"Dimensioning\",\"Dimensioning\",\"Dimensioning\",\"Dimensioning\",\"Dimensioning\",\"Dimensioning\",\"Dimensioning\",\"Downlink Radio Transmission\",\"Downlink Radio Transmission\",\"Downlink Radio Transmission\",\"Downlink Radio Transmission\",\"Downlink Radio Transmission\",\"Downlink Radio Transmission\",\"Downlink Radio Transmission\",\"Downlink Radio Transmission\",\"Downlink Radio Transmission\",\"Downlink Radio Transmission\",\"Downlink Radio Transmission\",\"Downlink Radio Transmission\",\"Downlink Radio Transmission\",\"Downlink Radio Transmission\",\"HW &amp; Site Solutions\",\"HW &amp; Site Solutions\",\"HW &amp; Site Solutions\",\"HW &amp; Site Solutions\",\"HW &amp; Site Solutions\",\"HW &amp; Site Solutions\",\"HW &amp; Site Solutions\",\"HW &amp; Site Solutions\",\"HW &amp; Site Solutions\",\"HW &amp; Site Solutions\",\"HW &amp; Site Solutions\",\"HW &amp; Site Solutions\",\"HW &amp; Site Solutions\",\"HW &amp; Site Solutions\",\"IoT\",\"IoT\",\"IoT\",\"IoT\",\"IoT\",\"IoT\",\"IoT\",\"IoT\",\"IoT\",\"IoT\",\"IoT\",\"IoT\",\"IoT\",\"IoT\",\"Link Adaptation\",\"Link Adaptation\",\"Link Adaptation\",\"Link Adaptation\",\"Link Adaptation\",\"Link Adaptation\",\"Link Adaptation\",\"Link Adaptation\",\"Link Adaptation\",\"Link Adaptation\",\"Link Adaptation\",\"Link Adaptation\",\"Link Adaptation\",\"Link Adaptation\",\"Load Balancing\",\"Load Balancing\",\"Load Balancing\",\"Load Balancing\",\"Load Balancing\",\"Load Balancing\",\"Load Balancing\",\"Load Balancing\",\"Load Balancing\",\"Load Balancing\",\"Load Balancing\",\"Load Balancing\",\"Load Balancing\",\"Load Balancing\",\"Location Services\",\"Location Services\",\"Location Services\",\"Location Services\",\"Location Services\",\"Location Services\",\"Location Services\",\"Location Services\",\"Location Services\",\"Location Services\",\"Location Services\",\"Location Services\",\"Location Services\",\"Location Services\",\"Mass Events\",\"Mass Events\",\"Mass Events\",\"Mass Events\",\"Mass Events\",\"Mass Events\",\"Mass Events\",\"Mass Events\",\"Mass Events\",\"Mass Events\",\"Mass Events\",\"Mass Events\",\"Mass Events\",\"Mass Events\",\"Mobility &amp; Multi-layer Optimization\",\"Mobility &amp; Multi-layer Optimization\",\"Mobility &amp; Multi-layer Optimization\",\"Mobility &amp; Multi-layer Optimization\",\"Mobility &amp; Multi-layer Optimization\",\"Mobility &amp; Multi-layer Optimization\",\"Mobility &amp; Multi-layer Optimization\",\"Mobility &amp; Multi-layer Optimization\",\"Mobility &amp; Multi-layer Optimization\",\"Mobility &amp; Multi-layer Optimization\",\"Mobility &amp; Multi-layer Optimization\",\"Mobility &amp; Multi-layer Optimization\",\"Mobility &amp; Multi-layer Optimization\",\"Mobility &amp; Multi-layer Optimization\",\"Network Sharing\",\"Network Sharing\",\"Network Sharing\",\"Network Sharing\",\"Network Sharing\",\"Network Sharing\",\"Network Sharing\",\"Network Sharing\",\"Network Sharing\",\"Network Sharing\",\"Network Sharing\",\"Network Sharing\",\"Network Sharing\",\"Network Sharing\",\"Operability\",\"Operability\",\"Operability\",\"Operability\",\"Operability\",\"Operability\",\"Operability\",\"Operability\",\"Operability\",\"Operability\",\"Operability\",\"Operability\",\"Operability\",\"Operability\",\"Peak Rate\",\"Peak Rate\",\"Peak Rate\",\"Peak Rate\",\"Peak Rate\",\"Peak Rate\",\"Peak Rate\",\"Peak Rate\",\"Peak Rate\",\"Peak Rate\",\"Peak Rate\",\"Peak Rate\",\"Peak Rate\",\"Peak Rate\",\"Performance\",\"Performance\",\"Performance\",\"Performance\",\"Performance\",\"Performance\",\"Performance\",\"Performance\",\"Performance\",\"Performance\",\"Performance\",\"Performance\",\"Performance\",\"Performance\",\"Power Consumption\",\"Power Consumption\",\"Power Consumption\",\"Power Consumption\",\"Power Consumption\",\"Power Consumption\",\"Power Consumption\",\"Power Consumption\",\"Power Consumption\",\"Power Consumption\",\"Power Consumption\",\"Power Consumption\",\"Power Consumption\",\"Power Consumption\",\"Power Control\",\"Power Control\",\"Power Control\",\"Power Control\",\"Power Control\",\"Power Control\",\"Power Control\",\"Power Control\",\"Power Control\",\"Power Control\",\"Power Control\",\"Power Control\",\"Power Control\",\"Power Control\",\"Public Safety\",\"Public Safety\",\"Public Safety\",\"Public Safety\",\"Public Safety\",\"Public Safety\",\"Public Safety\",\"Public Safety\",\"Public Safety\",\"Public Safety\",\"Public Safety\",\"Public Safety\",\"Public Safety\",\"Public Safety\",\"QoS\",\"QoS\",\"QoS\",\"QoS\",\"QoS\",\"QoS\",\"QoS\",\"QoS\",\"QoS\",\"QoS\",\"QoS\",\"QoS\",\"QoS\",\"QoS\",\"RF Sharing\",\"RF Sharing\",\"RF Sharing\",\"RF Sharing\",\"RF Sharing\",\"RF Sharing\",\"RF Sharing\",\"RF Sharing\",\"RF Sharing\",\"RF Sharing\",\"RF Sharing\",\"RF Sharing\",\"RF Sharing\",\"RF Sharing\",\"RRM\",\"RRM\",\"RRM\",\"RRM\",\"RRM\",\"RRM\",\"RRM\",\"RRM\",\"RRM\",\"RRM\",\"RRM\",\"RRM\",\"RRM\",\"RRM\",\"Scheduler\",\"Scheduler\",\"Scheduler\",\"Scheduler\",\"Scheduler\",\"Scheduler\",\"Scheduler\",\"Scheduler\",\"Scheduler\",\"Scheduler\",\"Scheduler\",\"Scheduler\",\"Scheduler\",\"Scheduler\",\"Security\",\"Security\",\"Security\",\"Security\",\"Security\",\"Security\",\"Security\",\"Security\",\"Security\",\"Security\",\"Security\",\"Security\",\"Security\",\"Security\",\"Simulations\",\"Simulations\",\"Simulations\",\"Simulations\",\"Simulations\",\"Simulations\",\"Simulations\",\"Simulations\",\"Simulations\",\"Simulations\",\"Simulations\",\"Simulations\",\"Simulations\",\"Simulations\",\"Small Cells\",\"Small Cells\",\"Small Cells\",\"Small Cells\",\"Small Cells\",\"Small Cells\",\"Small Cells\",\"Small Cells\",\"Small Cells\",\"Small Cells\",\"Small Cells\",\"Small Cells\",\"Small Cells\",\"Small Cells\",\"Synchronization\",\"Synchronization\",\"Synchronization\",\"Synchronization\",\"Synchronization\",\"Synchronization\",\"Synchronization\",\"Synchronization\",\"Synchronization\",\"Synchronization\",\"Synchronization\",\"Synchronization\",\"Synchronization\",\"Synchronization\",\"Telco Cloud\",\"Telco Cloud\",\"Telco Cloud\",\"Telco Cloud\",\"Telco Cloud\",\"Telco Cloud\",\"Telco Cloud\",\"Telco Cloud\",\"Telco Cloud\",\"Telco Cloud\",\"Telco Cloud\",\"Telco Cloud\",\"Telco Cloud\",\"Telco Cloud\",\"Transport\",\"Transport\",\"Transport\",\"Transport\",\"Transport\",\"Transport\",\"Transport\",\"Transport\",\"Transport\",\"Transport\",\"Transport\",\"Transport\",\"Transport\",\"Transport\",\"Uplink Radio Reception\",\"Uplink Radio Reception\",\"Uplink Radio Reception\",\"Uplink Radio Reception\",\"Uplink Radio Reception\",\"Uplink Radio Reception\",\"Uplink Radio Reception\",\"Uplink Radio Reception\",\"Uplink Radio Reception\",\"Uplink Radio Reception\",\"Uplink Radio Reception\",\"Uplink Radio Reception\",\"Uplink Radio Reception\",\"Uplink Radio Reception\",\"VoLTE &amp; VoWiFi\",\"VoLTE &amp; VoWiFi\",\"VoLTE &amp; VoWiFi\",\"VoLTE &amp; VoWiFi\",\"VoLTE &amp; VoWiFi\",\"VoLTE &amp; VoWiFi\",\"VoLTE &amp; VoWiFi\",\"VoLTE &amp; VoWiFi\",\"VoLTE &amp; VoWiFi\",\"VoLTE &amp; VoWiFi\",\"VoLTE &amp; VoWiFi\",\"VoLTE &amp; VoWiFi\",\"VoLTE &amp; VoWiFi\",\"VoLTE &amp; VoWiFi\"]}},\"id\":\"b8118a05-eb65-40b0-945f-d9eb8eb31966\",\"type\":\"ColumnDataSource\"},{\"attributes\":{\"fill_color\":{\"field\":\"color\"},\"height\":{\"units\":\"data\",\"value\":1},\"line_color\":{\"field\":\"color\"},\"width\":{\"units\":\"data\",\"value\":1},\"x\":{\"field\":\"x\"},\"y\":{\"field\":\"y\"}},\"id\":\"4ce66726-ac55-47db-b2e7-39e98e501461\",\"type\":\"Rect\"},{\"attributes\":{\"callback\":null,\"tooltips\":[[\"department\",\"@y\"],[\"tool\",\"@x\"],[\"numbers\",\"@desc\"]]},\"id\":\"28346e77-f15d-4478-8611-ba11e2da961b\",\"type\":\"HoverTool\"}],\"root_ids\":[\"b99a0fa0-cf0e-4526-a511-09bb06c3bb94\"]},\"title\":\"Bokeh Application\",\"version\":\"0.12.13\"}};\n",
       "  var render_items = [{\"docid\":\"09c39343-7eb2-467d-a09c-f7fe0e8433e4\",\"elementid\":\"67d00e9b-b85c-4ea4-8d03-98a36a2ed8f7\",\"modelid\":\"b99a0fa0-cf0e-4526-a511-09bb06c3bb94\"}];\n",
       "  root.Bokeh.embed.embed_items_notebook(docs_json, render_items);\n",
       "\n",
       "  }\n",
       "  if (root.Bokeh !== undefined) {\n",
       "    embed_document(root);\n",
       "  } else {\n",
       "    var attempts = 0;\n",
       "    var timer = setInterval(function(root) {\n",
       "      if (root.Bokeh !== undefined) {\n",
       "        embed_document(root);\n",
       "        clearInterval(timer);\n",
       "      }\n",
       "      attempts++;\n",
       "      if (attempts > 100) {\n",
       "        console.log(\"Bokeh: ERROR: Unable to run BokehJS code because BokehJS library is missing\")\n",
       "        clearInterval(timer);\n",
       "      }\n",
       "    }, 10, root)\n",
       "  }\n",
       "})(window);"
      ],
      "application/vnd.bokehjs_exec.v0+json": ""
     },
     "metadata": {
      "application/vnd.bokehjs_exec.v0+json": {
       "id": "b99a0fa0-cf0e-4526-a511-09bb06c3bb94"
      }
     },
     "output_type": "display_data"
    }
   ],
   "source": [
    "dbgroupbyplot(dataa, 'actionName', 'department', 'Tag count in departments')"
   ]
  },
  {
   "cell_type": "code",
   "execution_count": 13,
   "metadata": {},
   "outputs": [
    {
     "name": "stdout",
     "output_type": "stream",
     "text": [
      "Top 3 departments have 94.6924529502875% of all departments\n"
     ]
    }
   ],
   "source": [
    "print('Top 3 departments have ' + str(departments.tail(3).sum()/departments.sum() * 100) + '% of all departments')"
   ]
  },
  {
   "cell_type": "code",
   "execution_count": 14,
   "metadata": {},
   "outputs": [
    {
     "data": {
      "text/html": [
       "\n",
       "<div class=\"bk-root\">\n",
       "    <div class=\"bk-plotdiv\" id=\"7087ff6a-0aea-4a63-98b7-f99433c7cc92\"></div>\n",
       "</div>"
      ]
     },
     "metadata": {},
     "output_type": "display_data"
    },
    {
     "data": {
      "application/javascript": [
       "(function(root) {\n",
       "  function embed_document(root) {\n",
       "    \n",
       "  var docs_json = {\"e822a95e-886f-4720-bf5f-74e06f796470\":{\"roots\":{\"references\":[{\"attributes\":{},\"id\":\"a366b939-60ac-4787-a50d-beba71bd598a\",\"type\":\"SaveTool\"},{\"attributes\":{},\"id\":\"2afe46fd-1791-4e09-ac9f-92c2b0f6ab78\",\"type\":\"WheelZoomTool\"},{\"attributes\":{\"data_source\":{\"id\":\"548e8bee-92d3-488b-b8b2-6e4b76969b2a\",\"type\":\"ColumnDataSource\"},\"glyph\":{\"id\":\"4760b0ae-42c8-44ac-8dcf-3fc4ffb5c20d\",\"type\":\"VBar\"},\"hover_glyph\":null,\"muted_glyph\":null,\"nonselection_glyph\":{\"id\":\"703c287b-9187-435f-850f-da3d9e927e79\",\"type\":\"VBar\"},\"selection_glyph\":null,\"view\":{\"id\":\"e0ee7f2e-813a-46a9-bac8-a5c4f9394c9f\",\"type\":\"CDSView\"}},\"id\":\"0eb88883-7817-40a9-9d1f-e994567c23bf\",\"type\":\"GlyphRenderer\"},{\"attributes\":{\"callback\":null,\"column_names\":[\"x\",\"top\"],\"data\":{\"top\":[683,977,2518,10270,35567,43422],\"x\":[\"AA Applications &amp; Analytics\",\"HR Human Resources\",\"undefined\",\"CO Customer Operations\",\"GS Global Services\",\"MN Mobile Networks\"]}},\"id\":\"548e8bee-92d3-488b-b8b2-6e4b76969b2a\",\"type\":\"ColumnDataSource\"},{\"attributes\":{},\"id\":\"90c4db58-36cf-4564-8d57-a5bc99990474\",\"type\":\"PanTool\"},{\"attributes\":{},\"id\":\"a3c08fb6-cdec-490a-9491-6ea79ddcdb8c\",\"type\":\"CategoricalScale\"},{\"attributes\":{\"fill_alpha\":{\"value\":0.1},\"fill_color\":{\"value\":\"#1f77b4\"},\"line_alpha\":{\"value\":0.1},\"line_color\":{\"value\":\"#1f77b4\"},\"line_width\":{\"value\":2},\"top\":{\"field\":\"top\"},\"width\":{\"value\":0.9},\"x\":{\"field\":\"x\"}},\"id\":\"703c287b-9187-435f-850f-da3d9e927e79\",\"type\":\"VBar\"},{\"attributes\":{},\"id\":\"d28405f9-a559-44cb-9564-9175c208b247\",\"type\":\"CategoricalTickFormatter\"},{\"attributes\":{},\"id\":\"1e5adf81-b050-4ca8-ba77-faabeefbb887\",\"type\":\"BasicTicker\"},{\"attributes\":{},\"id\":\"bc5557ab-3b0d-4191-a058-4815babfdab0\",\"type\":\"BasicTickFormatter\"},{\"attributes\":{\"dimension\":1,\"plot\":{\"id\":\"89ca9bb6-ec03-4f7a-bbfa-f4ca27cba10e\",\"subtype\":\"Figure\",\"type\":\"Plot\"},\"ticker\":{\"id\":\"1e5adf81-b050-4ca8-ba77-faabeefbb887\",\"type\":\"BasicTicker\"}},\"id\":\"e83927bb-bdb3-42a6-8610-e6c4d65da4f7\",\"type\":\"Grid\"},{\"attributes\":{\"fill_color\":{\"value\":\"#1f77b4\"},\"line_color\":{\"value\":\"#1f77b4\"},\"line_width\":{\"value\":2},\"top\":{\"field\":\"top\"},\"width\":{\"value\":0.9},\"x\":{\"field\":\"x\"}},\"id\":\"4760b0ae-42c8-44ac-8dcf-3fc4ffb5c20d\",\"type\":\"VBar\"},{\"attributes\":{},\"id\":\"e9b4f073-3061-47ff-a88e-c6f6ddb62d7f\",\"type\":\"CategoricalTicker\"},{\"attributes\":{\"callback\":null},\"id\":\"4ad5aae9-534b-4fcb-b034-00cee2dab765\",\"type\":\"DataRange1d\"},{\"attributes\":{\"plot\":{\"id\":\"89ca9bb6-ec03-4f7a-bbfa-f4ca27cba10e\",\"subtype\":\"Figure\",\"type\":\"Plot\"},\"ticker\":{\"id\":\"e9b4f073-3061-47ff-a88e-c6f6ddb62d7f\",\"type\":\"CategoricalTicker\"}},\"id\":\"5eb27df4-c3de-4a85-b823-36d072b0963a\",\"type\":\"Grid\"},{\"attributes\":{\"source\":{\"id\":\"548e8bee-92d3-488b-b8b2-6e4b76969b2a\",\"type\":\"ColumnDataSource\"}},\"id\":\"e0ee7f2e-813a-46a9-bac8-a5c4f9394c9f\",\"type\":\"CDSView\"},{\"attributes\":{\"overlay\":{\"id\":\"18e463b8-389e-4231-bd72-ce0e7a9b664c\",\"type\":\"BoxAnnotation\"}},\"id\":\"fb5a35d2-da2b-4849-8fa8-94dc2f3c8006\",\"type\":\"BoxZoomTool\"},{\"attributes\":{\"plot\":null,\"text\":\"Top 6 departments\"},\"id\":\"67195d13-08fb-43a2-a8b4-6e271ab823ff\",\"type\":\"Title\"},{\"attributes\":{},\"id\":\"406575af-8bfe-48fd-bf76-8ff4e5051e7d\",\"type\":\"HelpTool\"},{\"attributes\":{\"axis_label\":\"ilo\\u015b\\u0107\",\"formatter\":{\"id\":\"bc5557ab-3b0d-4191-a058-4815babfdab0\",\"type\":\"BasicTickFormatter\"},\"plot\":{\"id\":\"89ca9bb6-ec03-4f7a-bbfa-f4ca27cba10e\",\"subtype\":\"Figure\",\"type\":\"Plot\"},\"ticker\":{\"id\":\"1e5adf81-b050-4ca8-ba77-faabeefbb887\",\"type\":\"BasicTicker\"}},\"id\":\"e2340c5e-7a97-44a6-ba4a-d15cc7decb82\",\"type\":\"LinearAxis\"},{\"attributes\":{\"axis_label\":\"department\",\"formatter\":{\"id\":\"d28405f9-a559-44cb-9564-9175c208b247\",\"type\":\"CategoricalTickFormatter\"},\"major_label_orientation\":0.6283185307179586,\"major_label_text_font_size\":{\"value\":\"9pt\"},\"plot\":{\"id\":\"89ca9bb6-ec03-4f7a-bbfa-f4ca27cba10e\",\"subtype\":\"Figure\",\"type\":\"Plot\"},\"ticker\":{\"id\":\"e9b4f073-3061-47ff-a88e-c6f6ddb62d7f\",\"type\":\"CategoricalTicker\"}},\"id\":\"a6c85c8e-3480-4c93-87d5-40e8bacfe73e\",\"type\":\"CategoricalAxis\"},{\"attributes\":{\"callback\":null,\"factors\":[\"AA Applications &amp; Analytics\",\"HR Human Resources\",\"undefined\",\"CO Customer Operations\",\"GS Global Services\",\"MN Mobile Networks\"]},\"id\":\"142640ec-23e9-43c8-8a83-1c8c29e86ca5\",\"type\":\"FactorRange\"},{\"attributes\":{\"active_drag\":\"auto\",\"active_inspect\":\"auto\",\"active_scroll\":\"auto\",\"active_tap\":\"auto\",\"tools\":[{\"id\":\"90c4db58-36cf-4564-8d57-a5bc99990474\",\"type\":\"PanTool\"},{\"id\":\"2afe46fd-1791-4e09-ac9f-92c2b0f6ab78\",\"type\":\"WheelZoomTool\"},{\"id\":\"fb5a35d2-da2b-4849-8fa8-94dc2f3c8006\",\"type\":\"BoxZoomTool\"},{\"id\":\"a366b939-60ac-4787-a50d-beba71bd598a\",\"type\":\"SaveTool\"},{\"id\":\"fa22df0e-171b-4a0b-ab29-571e769241a1\",\"type\":\"ResetTool\"},{\"id\":\"406575af-8bfe-48fd-bf76-8ff4e5051e7d\",\"type\":\"HelpTool\"}]},\"id\":\"c5670e99-101b-4b1a-b6da-3f0c9777a0eb\",\"type\":\"Toolbar\"},{\"attributes\":{\"bottom_units\":\"screen\",\"fill_alpha\":{\"value\":0.5},\"fill_color\":{\"value\":\"lightgrey\"},\"left_units\":\"screen\",\"level\":\"overlay\",\"line_alpha\":{\"value\":1.0},\"line_color\":{\"value\":\"black\"},\"line_dash\":[4,4],\"line_width\":{\"value\":2},\"plot\":null,\"render_mode\":\"css\",\"right_units\":\"screen\",\"top_units\":\"screen\"},\"id\":\"18e463b8-389e-4231-bd72-ce0e7a9b664c\",\"type\":\"BoxAnnotation\"},{\"attributes\":{},\"id\":\"fa22df0e-171b-4a0b-ab29-571e769241a1\",\"type\":\"ResetTool\"},{\"attributes\":{},\"id\":\"3c86c814-1292-491a-bea2-1d5619bf8e2e\",\"type\":\"LinearScale\"},{\"attributes\":{\"below\":[{\"id\":\"a6c85c8e-3480-4c93-87d5-40e8bacfe73e\",\"type\":\"CategoricalAxis\"}],\"left\":[{\"id\":\"e2340c5e-7a97-44a6-ba4a-d15cc7decb82\",\"type\":\"LinearAxis\"}],\"plot_height\":750,\"plot_width\":900,\"renderers\":[{\"id\":\"a6c85c8e-3480-4c93-87d5-40e8bacfe73e\",\"type\":\"CategoricalAxis\"},{\"id\":\"5eb27df4-c3de-4a85-b823-36d072b0963a\",\"type\":\"Grid\"},{\"id\":\"e2340c5e-7a97-44a6-ba4a-d15cc7decb82\",\"type\":\"LinearAxis\"},{\"id\":\"e83927bb-bdb3-42a6-8610-e6c4d65da4f7\",\"type\":\"Grid\"},{\"id\":\"18e463b8-389e-4231-bd72-ce0e7a9b664c\",\"type\":\"BoxAnnotation\"},{\"id\":\"0eb88883-7817-40a9-9d1f-e994567c23bf\",\"type\":\"GlyphRenderer\"}],\"title\":{\"id\":\"67195d13-08fb-43a2-a8b4-6e271ab823ff\",\"type\":\"Title\"},\"toolbar\":{\"id\":\"c5670e99-101b-4b1a-b6da-3f0c9777a0eb\",\"type\":\"Toolbar\"},\"x_range\":{\"id\":\"142640ec-23e9-43c8-8a83-1c8c29e86ca5\",\"type\":\"FactorRange\"},\"x_scale\":{\"id\":\"a3c08fb6-cdec-490a-9491-6ea79ddcdb8c\",\"type\":\"CategoricalScale\"},\"y_range\":{\"id\":\"4ad5aae9-534b-4fcb-b034-00cee2dab765\",\"type\":\"DataRange1d\"},\"y_scale\":{\"id\":\"3c86c814-1292-491a-bea2-1d5619bf8e2e\",\"type\":\"LinearScale\"}},\"id\":\"89ca9bb6-ec03-4f7a-bbfa-f4ca27cba10e\",\"subtype\":\"Figure\",\"type\":\"Plot\"}],\"root_ids\":[\"89ca9bb6-ec03-4f7a-bbfa-f4ca27cba10e\"]},\"title\":\"Bokeh Application\",\"version\":\"0.12.13\"}};\n",
       "  var render_items = [{\"docid\":\"e822a95e-886f-4720-bf5f-74e06f796470\",\"elementid\":\"7087ff6a-0aea-4a63-98b7-f99433c7cc92\",\"modelid\":\"89ca9bb6-ec03-4f7a-bbfa-f4ca27cba10e\"}];\n",
       "  root.Bokeh.embed.embed_items_notebook(docs_json, render_items);\n",
       "\n",
       "  }\n",
       "  if (root.Bokeh !== undefined) {\n",
       "    embed_document(root);\n",
       "  } else {\n",
       "    var attempts = 0;\n",
       "    var timer = setInterval(function(root) {\n",
       "      if (root.Bokeh !== undefined) {\n",
       "        embed_document(root);\n",
       "        clearInterval(timer);\n",
       "      }\n",
       "      attempts++;\n",
       "      if (attempts > 100) {\n",
       "        console.log(\"Bokeh: ERROR: Unable to run BokehJS code because BokehJS library is missing\")\n",
       "        clearInterval(timer);\n",
       "      }\n",
       "    }, 10, root)\n",
       "  }\n",
       "})(window);"
      ],
      "application/vnd.bokehjs_exec.v0+json": ""
     },
     "metadata": {
      "application/vnd.bokehjs_exec.v0+json": {
       "id": "89ca9bb6-ec03-4f7a-bbfa-f4ca27cba10e"
      }
     },
     "output_type": "display_data"
    }
   ],
   "source": [
    "plot(departments.tail(6), 'Top 6 departments')"
   ]
  },
  {
   "cell_type": "code",
   "execution_count": 15,
   "metadata": {
    "scrolled": false
   },
   "outputs": [
    {
     "data": {
      "text/html": [
       "\n",
       "<div class=\"bk-root\">\n",
       "    <div class=\"bk-plotdiv\" id=\"3634e0f3-eb9d-4261-bfe2-5b2b168997e7\"></div>\n",
       "</div>"
      ]
     },
     "metadata": {},
     "output_type": "display_data"
    },
    {
     "data": {
      "application/javascript": [
       "(function(root) {\n",
       "  function embed_document(root) {\n",
       "    \n",
       "  var docs_json = {\"0c8da704-6ade-4095-8431-0c6f512c39c8\":{\"roots\":{\"references\":[{\"attributes\":{\"bottom_units\":\"screen\",\"fill_alpha\":{\"value\":0.5},\"fill_color\":{\"value\":\"lightgrey\"},\"left_units\":\"screen\",\"level\":\"overlay\",\"line_alpha\":{\"value\":1.0},\"line_color\":{\"value\":\"black\"},\"line_dash\":[4,4],\"line_width\":{\"value\":2},\"plot\":null,\"render_mode\":\"css\",\"right_units\":\"screen\",\"top_units\":\"screen\"},\"id\":\"f2d2184e-65e8-450b-ada0-d7b897fb6448\",\"type\":\"BoxAnnotation\"},{\"attributes\":{\"below\":[{\"id\":\"5e64a80d-2f29-4523-8a01-37a74d0f29e1\",\"type\":\"CategoricalAxis\"}],\"left\":[{\"id\":\"1979f8b0-2dd2-4707-a531-46546de44db0\",\"type\":\"LinearAxis\"}],\"plot_height\":750,\"plot_width\":900,\"renderers\":[{\"id\":\"5e64a80d-2f29-4523-8a01-37a74d0f29e1\",\"type\":\"CategoricalAxis\"},{\"id\":\"c339ec92-c8a4-4a1f-85fc-47a371ce05ae\",\"type\":\"Grid\"},{\"id\":\"1979f8b0-2dd2-4707-a531-46546de44db0\",\"type\":\"LinearAxis\"},{\"id\":\"3a98ca4b-7819-4ba9-8d10-3c5e791adee6\",\"type\":\"Grid\"},{\"id\":\"f2d2184e-65e8-450b-ada0-d7b897fb6448\",\"type\":\"BoxAnnotation\"},{\"id\":\"8aeb0a28-8e87-472e-98b1-86002562ebdf\",\"type\":\"GlyphRenderer\"}],\"title\":{\"id\":\"2fa4478e-0ab5-437c-99b8-6c0e01db8274\",\"type\":\"Title\"},\"toolbar\":{\"id\":\"edee5198-cec2-43bb-902a-2ef9edef93d3\",\"type\":\"Toolbar\"},\"x_range\":{\"id\":\"aa577445-d84e-462d-b957-216599923a10\",\"type\":\"FactorRange\"},\"x_scale\":{\"id\":\"376ffacc-de2e-446e-b9d2-5bc38a87cec4\",\"type\":\"CategoricalScale\"},\"y_range\":{\"id\":\"d5e1f72f-7830-4b02-b9bc-d953ca054c3f\",\"type\":\"DataRange1d\"},\"y_scale\":{\"id\":\"1cf3a8d1-d883-46c4-88e2-d252c071f4ff\",\"type\":\"LinearScale\"}},\"id\":\"04024185-64f4-48b7-98d5-f9fd19e07b45\",\"subtype\":\"Figure\",\"type\":\"Plot\"},{\"attributes\":{},\"id\":\"376ffacc-de2e-446e-b9d2-5bc38a87cec4\",\"type\":\"CategoricalScale\"},{\"attributes\":{},\"id\":\"baa1dc16-efdb-41f1-96b0-c1c0780bac26\",\"type\":\"CategoricalTickFormatter\"},{\"attributes\":{},\"id\":\"67ddbb18-2ccc-4f7c-ac16-e47c49e37304\",\"type\":\"SaveTool\"},{\"attributes\":{},\"id\":\"fc7487a6-e1b0-46da-a514-d6a010f9e9c1\",\"type\":\"BasicTicker\"},{\"attributes\":{},\"id\":\"186df8d6-2ef2-4980-bb99-549e57c99771\",\"type\":\"ResetTool\"},{\"attributes\":{\"active_drag\":\"auto\",\"active_inspect\":\"auto\",\"active_scroll\":\"auto\",\"active_tap\":\"auto\",\"tools\":[{\"id\":\"3057ffbd-ec4f-4ae3-b92e-060be4242354\",\"type\":\"PanTool\"},{\"id\":\"f8766a53-abce-48c5-a849-cf8a9bd78a0d\",\"type\":\"WheelZoomTool\"},{\"id\":\"8e2000d9-2aef-439a-9e1e-fb8d079ddd2a\",\"type\":\"BoxZoomTool\"},{\"id\":\"67ddbb18-2ccc-4f7c-ac16-e47c49e37304\",\"type\":\"SaveTool\"},{\"id\":\"186df8d6-2ef2-4980-bb99-549e57c99771\",\"type\":\"ResetTool\"},{\"id\":\"c44ec5df-16d7-4737-91a6-1a3ffb381282\",\"type\":\"HelpTool\"}]},\"id\":\"edee5198-cec2-43bb-902a-2ef9edef93d3\",\"type\":\"Toolbar\"},{\"attributes\":{},\"id\":\"c44ec5df-16d7-4737-91a6-1a3ffb381282\",\"type\":\"HelpTool\"},{\"attributes\":{\"data_source\":{\"id\":\"6d1ee997-c68a-4c08-aafe-17a769eab668\",\"type\":\"ColumnDataSource\"},\"glyph\":{\"id\":\"dd6f3067-9a80-42bf-8340-3038d0245d78\",\"type\":\"VBar\"},\"hover_glyph\":null,\"muted_glyph\":null,\"nonselection_glyph\":{\"id\":\"33c04610-b62b-42c7-9983-0d3c7351f4a3\",\"type\":\"VBar\"},\"selection_glyph\":null,\"view\":{\"id\":\"8814d3c4-303d-4155-a7ba-1996cc78901f\",\"type\":\"CDSView\"}},\"id\":\"8aeb0a28-8e87-472e-98b1-86002562ebdf\",\"type\":\"GlyphRenderer\"},{\"attributes\":{\"source\":{\"id\":\"6d1ee997-c68a-4c08-aafe-17a769eab668\",\"type\":\"ColumnDataSource\"}},\"id\":\"8814d3c4-303d-4155-a7ba-1996cc78901f\",\"type\":\"CDSView\"},{\"attributes\":{\"plot\":null,\"text\":\"Rest departments\"},\"id\":\"2fa4478e-0ab5-437c-99b8-6c0e01db8274\",\"type\":\"Title\"},{\"attributes\":{\"overlay\":{\"id\":\"f2d2184e-65e8-450b-ada0-d7b897fb6448\",\"type\":\"BoxAnnotation\"}},\"id\":\"8e2000d9-2aef-439a-9e1e-fb8d079ddd2a\",\"type\":\"BoxZoomTool\"},{\"attributes\":{},\"id\":\"1cf3a8d1-d883-46c4-88e2-d252c071f4ff\",\"type\":\"LinearScale\"},{\"attributes\":{\"axis_label\":\"department\",\"formatter\":{\"id\":\"baa1dc16-efdb-41f1-96b0-c1c0780bac26\",\"type\":\"CategoricalTickFormatter\"},\"major_label_orientation\":0.6283185307179586,\"major_label_text_font_size\":{\"value\":\"9pt\"},\"plot\":{\"id\":\"04024185-64f4-48b7-98d5-f9fd19e07b45\",\"subtype\":\"Figure\",\"type\":\"Plot\"},\"ticker\":{\"id\":\"e607da3b-3e51-4faf-b608-c4f55325f182\",\"type\":\"CategoricalTicker\"}},\"id\":\"5e64a80d-2f29-4523-8a01-37a74d0f29e1\",\"type\":\"CategoricalAxis\"},{\"attributes\":{\"axis_label\":\"ilo\\u015b\\u0107\",\"formatter\":{\"id\":\"a682579a-ec5d-42e4-9bed-180e6578a35e\",\"type\":\"BasicTickFormatter\"},\"plot\":{\"id\":\"04024185-64f4-48b7-98d5-f9fd19e07b45\",\"subtype\":\"Figure\",\"type\":\"Plot\"},\"ticker\":{\"id\":\"fc7487a6-e1b0-46da-a514-d6a010f9e9c1\",\"type\":\"BasicTicker\"}},\"id\":\"1979f8b0-2dd2-4707-a531-46546de44db0\",\"type\":\"LinearAxis\"},{\"attributes\":{\"callback\":null,\"column_names\":[\"x\",\"top\"],\"data\":{\"top\":[2,2,2,2,3,4,8,11,11,17,20,49,70,75,112,139,298],\"x\":[\"New Product Development\",\"CFO Chief Financial Office\",\"CTOBL CTO CPR Future Wireless\",\"CTO\",\"Digital Health\",\"N/a\",\"Patent Business\",\"MCA Marketing &amp; Corporate Affairs\",\"FN Fixed Networks\",\"BLCTO Bell Labs &amp; CTO\",\"COO Chief Operating Office\",\"CTOBL CTO &amp; Bell Labs\",\"CIOO Chief Innovation&amp;Operating Office\",\"Nokia CEO 1\",\"CSD Corp Strategy&amp;Development\",\"NSW Nokia Software\",\"ION IP Optical Networks\"]}},\"id\":\"6d1ee997-c68a-4c08-aafe-17a769eab668\",\"type\":\"ColumnDataSource\"},{\"attributes\":{\"callback\":null,\"factors\":[\"New Product Development\",\"CFO Chief Financial Office\",\"CTOBL CTO CPR Future Wireless\",\"CTO\",\"Digital Health\",\"N/a\",\"Patent Business\",\"MCA Marketing &amp; Corporate Affairs\",\"FN Fixed Networks\",\"BLCTO Bell Labs &amp; CTO\",\"COO Chief Operating Office\",\"CTOBL CTO &amp; Bell Labs\",\"CIOO Chief Innovation&amp;Operating Office\",\"Nokia CEO 1\",\"CSD Corp Strategy&amp;Development\",\"NSW Nokia Software\",\"ION IP Optical Networks\"]},\"id\":\"aa577445-d84e-462d-b957-216599923a10\",\"type\":\"FactorRange\"},{\"attributes\":{},\"id\":\"3057ffbd-ec4f-4ae3-b92e-060be4242354\",\"type\":\"PanTool\"},{\"attributes\":{},\"id\":\"a682579a-ec5d-42e4-9bed-180e6578a35e\",\"type\":\"BasicTickFormatter\"},{\"attributes\":{\"fill_color\":{\"value\":\"#1f77b4\"},\"line_color\":{\"value\":\"#1f77b4\"},\"line_width\":{\"value\":2},\"top\":{\"field\":\"top\"},\"width\":{\"value\":0.9},\"x\":{\"field\":\"x\"}},\"id\":\"dd6f3067-9a80-42bf-8340-3038d0245d78\",\"type\":\"VBar\"},{\"attributes\":{\"callback\":null},\"id\":\"d5e1f72f-7830-4b02-b9bc-d953ca054c3f\",\"type\":\"DataRange1d\"},{\"attributes\":{\"plot\":{\"id\":\"04024185-64f4-48b7-98d5-f9fd19e07b45\",\"subtype\":\"Figure\",\"type\":\"Plot\"},\"ticker\":{\"id\":\"e607da3b-3e51-4faf-b608-c4f55325f182\",\"type\":\"CategoricalTicker\"}},\"id\":\"c339ec92-c8a4-4a1f-85fc-47a371ce05ae\",\"type\":\"Grid\"},{\"attributes\":{\"fill_alpha\":{\"value\":0.1},\"fill_color\":{\"value\":\"#1f77b4\"},\"line_alpha\":{\"value\":0.1},\"line_color\":{\"value\":\"#1f77b4\"},\"line_width\":{\"value\":2},\"top\":{\"field\":\"top\"},\"width\":{\"value\":0.9},\"x\":{\"field\":\"x\"}},\"id\":\"33c04610-b62b-42c7-9983-0d3c7351f4a3\",\"type\":\"VBar\"},{\"attributes\":{},\"id\":\"f8766a53-abce-48c5-a849-cf8a9bd78a0d\",\"type\":\"WheelZoomTool\"},{\"attributes\":{\"dimension\":1,\"plot\":{\"id\":\"04024185-64f4-48b7-98d5-f9fd19e07b45\",\"subtype\":\"Figure\",\"type\":\"Plot\"},\"ticker\":{\"id\":\"fc7487a6-e1b0-46da-a514-d6a010f9e9c1\",\"type\":\"BasicTicker\"}},\"id\":\"3a98ca4b-7819-4ba9-8d10-3c5e791adee6\",\"type\":\"Grid\"},{\"attributes\":{},\"id\":\"e607da3b-3e51-4faf-b608-c4f55325f182\",\"type\":\"CategoricalTicker\"}],\"root_ids\":[\"04024185-64f4-48b7-98d5-f9fd19e07b45\"]},\"title\":\"Bokeh Application\",\"version\":\"0.12.13\"}};\n",
       "  var render_items = [{\"docid\":\"0c8da704-6ade-4095-8431-0c6f512c39c8\",\"elementid\":\"3634e0f3-eb9d-4261-bfe2-5b2b168997e7\",\"modelid\":\"04024185-64f4-48b7-98d5-f9fd19e07b45\"}];\n",
       "  root.Bokeh.embed.embed_items_notebook(docs_json, render_items);\n",
       "\n",
       "  }\n",
       "  if (root.Bokeh !== undefined) {\n",
       "    embed_document(root);\n",
       "  } else {\n",
       "    var attempts = 0;\n",
       "    var timer = setInterval(function(root) {\n",
       "      if (root.Bokeh !== undefined) {\n",
       "        embed_document(root);\n",
       "        clearInterval(timer);\n",
       "      }\n",
       "      attempts++;\n",
       "      if (attempts > 100) {\n",
       "        console.log(\"Bokeh: ERROR: Unable to run BokehJS code because BokehJS library is missing\")\n",
       "        clearInterval(timer);\n",
       "      }\n",
       "    }, 10, root)\n",
       "  }\n",
       "})(window);"
      ],
      "application/vnd.bokehjs_exec.v0+json": ""
     },
     "metadata": {
      "application/vnd.bokehjs_exec.v0+json": {
       "id": "04024185-64f4-48b7-98d5-f9fd19e07b45"
      }
     },
     "output_type": "display_data"
    }
   ],
   "source": [
    "plot(departments.head(departments.size - 6), 'Rest departments')"
   ]
  },
  {
   "cell_type": "code",
   "execution_count": 16,
   "metadata": {},
   "outputs": [],
   "source": [
    "dep = pandas.DataFrame(data.drop_duplicates('idVisit').groupby(['department', 'country']).size(), columns = ['count'])\n",
    "g = dep['count'].groupby(level=0, group_keys=False)\n",
    "res = g.apply(lambda x: x.sort_values(ascending=False).head(3))"
   ]
  },
  {
   "cell_type": "code",
   "execution_count": 17,
   "metadata": {},
   "outputs": [
    {
     "data": {
      "text/plain": [
       "department                                  country       \n",
       "AA Applications &amp; Analytics             India              120\n",
       "                                            Finland            103\n",
       "                                            USA                 88\n",
       "BLCTO Bell Labs &amp; CTO                   Germany              5\n",
       "                                            USA                  4\n",
       "                                            Belgium              2\n",
       "CFO Chief Financial Office                  India                1\n",
       "CIOO Chief Innovation&amp;Operating Office  Finland             15\n",
       "                                            Germany              7\n",
       "                                            India                6\n",
       "CO Customer Operations                      China             4343\n",
       "                                            India              711\n",
       "                                            Taiwan             376\n",
       "COO Chief Operating Office                  Italy                6\n",
       "                                            Germany              3\n",
       "                                            Sweden               2\n",
       "CSD Corp Strategy&amp;Development           Finland             45\n",
       "                                            France               6\n",
       "                                            USA                  3\n",
       "CTO                                         Finland              3\n",
       "CTOBL CTO &amp; Bell Labs                   Hungary              6\n",
       "                                            Germany              5\n",
       "                                            Belgium              4\n",
       "CTOBL CTO CPR Future Wireless               United Kingdom       1\n",
       "Digital Health                              Finland              2\n",
       "FN Fixed Networks                           Finland              4\n",
       "                                            USA                  1\n",
       "                                            Germany              1\n",
       "GS Global Services                          India             3142\n",
       "                                            USA               2588\n",
       "                                            Italy              975\n",
       "HR Human Resources                          Tunisia             87\n",
       "                                            Germany             62\n",
       "                                            India               55\n",
       "ION IP Optical Networks                     Greece              35\n",
       "                                            Taiwan              32\n",
       "                                            Finland             22\n",
       "MCA Marketing &amp; Corporate Affairs       Germany              8\n",
       "                                            Finland              6\n",
       "MN Mobile Networks                          Poland            6943\n",
       "                                            USA               4209\n",
       "                                            France            3245\n",
       "N/a                                         USA                  2\n",
       "                                            Uruguay              1\n",
       "                                            China                1\n",
       "NSW Nokia Software                          Poland              22\n",
       "                                            India                9\n",
       "                                            Portugal             6\n",
       "New Product Development                     Finland              1\n",
       "Nokia CEO 1                                 China               26\n",
       "                                            Germany             11\n",
       "                                            USA                 10\n",
       "Patent Business                             Finland              7\n",
       "undefined                                   China             1056\n",
       "                                            Poland              79\n",
       "                                            Portugal            61\n",
       "Name: count, dtype: int64"
      ]
     },
     "execution_count": 17,
     "metadata": {},
     "output_type": "execute_result"
    }
   ],
   "source": [
    "res"
   ]
  },
  {
   "cell_type": "code",
   "execution_count": 18,
   "metadata": {},
   "outputs": [
    {
     "data": {
      "text/html": [
       "\n",
       "<div class=\"bk-root\">\n",
       "    <div class=\"bk-plotdiv\" id=\"9a2be217-2e7f-4cbb-ab30-ca86e6c40348\"></div>\n",
       "</div>"
      ]
     },
     "metadata": {},
     "output_type": "display_data"
    },
    {
     "data": {
      "application/javascript": [
       "(function(root) {\n",
       "  function embed_document(root) {\n",
       "    \n",
       "  var docs_json = {\"ae9a74d4-3cfa-498e-8165-1fedc9eb9585\":{\"roots\":{\"references\":[{\"attributes\":{},\"id\":\"6e00f768-a2c4-4a2d-af42-302e833aa3a7\",\"type\":\"WheelZoomTool\"},{\"attributes\":{},\"id\":\"8517a7da-a28a-4cad-9a99-d6be5a8f0cea\",\"type\":\"BasicTickFormatter\"},{\"attributes\":{\"callback\":null,\"factors\":[\"Japan\",\"South Korea\",\"Germany\",\"Taiwan\",\"Finland\",\"France\",\"India\",\"China\",\"USA\",\"Poland\"]},\"id\":\"4588f9f6-54ee-4e15-8d7d-4bcde17fe8ce\",\"type\":\"FactorRange\"},{\"attributes\":{\"data_source\":{\"id\":\"029f0516-827c-40ae-aa06-3b0d4e3bbabd\",\"type\":\"ColumnDataSource\"},\"glyph\":{\"id\":\"a67354da-62e7-48f9-aae4-c7cfa3a5f477\",\"type\":\"VBar\"},\"hover_glyph\":null,\"muted_glyph\":null,\"nonselection_glyph\":{\"id\":\"e060288c-65a1-4b77-b525-597e43da750c\",\"type\":\"VBar\"},\"selection_glyph\":null,\"view\":{\"id\":\"0b40802c-42b4-4205-9634-64f294fc6c19\",\"type\":\"CDSView\"}},\"id\":\"f4ca9295-f841-4971-8b0e-4fd2b038b141\",\"type\":\"GlyphRenderer\"},{\"attributes\":{\"callback\":null,\"column_names\":[\"x\",\"top\"],\"data\":{\"top\":[1449,1493,1533,1737,2388,3810,5660,5745,7046,7424],\"x\":[\"Japan\",\"South Korea\",\"Germany\",\"Taiwan\",\"Finland\",\"France\",\"India\",\"China\",\"USA\",\"Poland\"]}},\"id\":\"029f0516-827c-40ae-aa06-3b0d4e3bbabd\",\"type\":\"ColumnDataSource\"},{\"attributes\":{\"bottom_units\":\"screen\",\"fill_alpha\":{\"value\":0.5},\"fill_color\":{\"value\":\"lightgrey\"},\"left_units\":\"screen\",\"level\":\"overlay\",\"line_alpha\":{\"value\":1.0},\"line_color\":{\"value\":\"black\"},\"line_dash\":[4,4],\"line_width\":{\"value\":2},\"plot\":null,\"render_mode\":\"css\",\"right_units\":\"screen\",\"top_units\":\"screen\"},\"id\":\"02d7b2c7-a6ed-40e5-b421-9b55197cfc5a\",\"type\":\"BoxAnnotation\"},{\"attributes\":{\"axis_label\":\"ilo\\u015b\\u0107\",\"formatter\":{\"id\":\"8517a7da-a28a-4cad-9a99-d6be5a8f0cea\",\"type\":\"BasicTickFormatter\"},\"plot\":{\"id\":\"8d486aba-ee29-41c1-8f5c-446b5aea40f6\",\"subtype\":\"Figure\",\"type\":\"Plot\"},\"ticker\":{\"id\":\"b70fa97e-f1f0-4fa9-a7f9-4fc7d7c30248\",\"type\":\"BasicTicker\"}},\"id\":\"2f4afd15-8c12-488e-acac-3f326462c838\",\"type\":\"LinearAxis\"},{\"attributes\":{\"overlay\":{\"id\":\"02d7b2c7-a6ed-40e5-b421-9b55197cfc5a\",\"type\":\"BoxAnnotation\"}},\"id\":\"b0ece203-1ec5-4056-add3-a85c4658e852\",\"type\":\"BoxZoomTool\"},{\"attributes\":{\"callback\":null},\"id\":\"eacae7f8-e008-4556-8ddb-e9405f8a5581\",\"type\":\"DataRange1d\"},{\"attributes\":{},\"id\":\"f9f54415-ea2a-46aa-b0d7-bd89901b4694\",\"type\":\"SaveTool\"},{\"attributes\":{\"source\":{\"id\":\"029f0516-827c-40ae-aa06-3b0d4e3bbabd\",\"type\":\"ColumnDataSource\"}},\"id\":\"0b40802c-42b4-4205-9634-64f294fc6c19\",\"type\":\"CDSView\"},{\"attributes\":{},\"id\":\"9eec91db-13cb-422c-ada7-d8b528740780\",\"type\":\"ResetTool\"},{\"attributes\":{},\"id\":\"8448cfae-88e9-4251-985f-a2a75605df15\",\"type\":\"LinearScale\"},{\"attributes\":{},\"id\":\"aa53dee7-7a7d-4ff4-a665-2410ff06e9d2\",\"type\":\"PanTool\"},{\"attributes\":{\"below\":[{\"id\":\"ee7d85b4-2152-4b6c-8669-fbf6a7cd9b50\",\"type\":\"CategoricalAxis\"}],\"left\":[{\"id\":\"2f4afd15-8c12-488e-acac-3f326462c838\",\"type\":\"LinearAxis\"}],\"plot_height\":750,\"plot_width\":900,\"renderers\":[{\"id\":\"ee7d85b4-2152-4b6c-8669-fbf6a7cd9b50\",\"type\":\"CategoricalAxis\"},{\"id\":\"14f229ff-3aff-4d30-a4a6-190c9d2ccbb9\",\"type\":\"Grid\"},{\"id\":\"2f4afd15-8c12-488e-acac-3f326462c838\",\"type\":\"LinearAxis\"},{\"id\":\"19cac43e-2e4a-4aa2-be55-1e7f9e33a9bd\",\"type\":\"Grid\"},{\"id\":\"02d7b2c7-a6ed-40e5-b421-9b55197cfc5a\",\"type\":\"BoxAnnotation\"},{\"id\":\"f4ca9295-f841-4971-8b0e-4fd2b038b141\",\"type\":\"GlyphRenderer\"}],\"title\":{\"id\":\"2f6c6316-c123-4012-9f05-71c13368671e\",\"type\":\"Title\"},\"toolbar\":{\"id\":\"5dbcf0bc-62f5-4dba-8b15-e029908fc63d\",\"type\":\"Toolbar\"},\"x_range\":{\"id\":\"4588f9f6-54ee-4e15-8d7d-4bcde17fe8ce\",\"type\":\"FactorRange\"},\"x_scale\":{\"id\":\"ec2bd499-56ef-4cb2-8c39-abecbe075ee1\",\"type\":\"CategoricalScale\"},\"y_range\":{\"id\":\"eacae7f8-e008-4556-8ddb-e9405f8a5581\",\"type\":\"DataRange1d\"},\"y_scale\":{\"id\":\"8448cfae-88e9-4251-985f-a2a75605df15\",\"type\":\"LinearScale\"}},\"id\":\"8d486aba-ee29-41c1-8f5c-446b5aea40f6\",\"subtype\":\"Figure\",\"type\":\"Plot\"},{\"attributes\":{\"axis_label\":\"country\",\"formatter\":{\"id\":\"352a8940-7baf-4532-8ef1-b3939e034dfa\",\"type\":\"CategoricalTickFormatter\"},\"major_label_orientation\":0.6283185307179586,\"major_label_text_font_size\":{\"value\":\"9pt\"},\"plot\":{\"id\":\"8d486aba-ee29-41c1-8f5c-446b5aea40f6\",\"subtype\":\"Figure\",\"type\":\"Plot\"},\"ticker\":{\"id\":\"cdfa292d-a3d0-4605-84c1-452e5290b46f\",\"type\":\"CategoricalTicker\"}},\"id\":\"ee7d85b4-2152-4b6c-8669-fbf6a7cd9b50\",\"type\":\"CategoricalAxis\"},{\"attributes\":{\"plot\":{\"id\":\"8d486aba-ee29-41c1-8f5c-446b5aea40f6\",\"subtype\":\"Figure\",\"type\":\"Plot\"},\"ticker\":{\"id\":\"cdfa292d-a3d0-4605-84c1-452e5290b46f\",\"type\":\"CategoricalTicker\"}},\"id\":\"14f229ff-3aff-4d30-a4a6-190c9d2ccbb9\",\"type\":\"Grid\"},{\"attributes\":{\"dimension\":1,\"plot\":{\"id\":\"8d486aba-ee29-41c1-8f5c-446b5aea40f6\",\"subtype\":\"Figure\",\"type\":\"Plot\"},\"ticker\":{\"id\":\"b70fa97e-f1f0-4fa9-a7f9-4fc7d7c30248\",\"type\":\"BasicTicker\"}},\"id\":\"19cac43e-2e4a-4aa2-be55-1e7f9e33a9bd\",\"type\":\"Grid\"},{\"attributes\":{},\"id\":\"352a8940-7baf-4532-8ef1-b3939e034dfa\",\"type\":\"CategoricalTickFormatter\"},{\"attributes\":{},\"id\":\"bbf58fd3-6991-4eb2-906f-702638793aca\",\"type\":\"HelpTool\"},{\"attributes\":{\"fill_color\":{\"value\":\"#1f77b4\"},\"line_color\":{\"value\":\"#1f77b4\"},\"line_width\":{\"value\":2},\"top\":{\"field\":\"top\"},\"width\":{\"value\":0.9},\"x\":{\"field\":\"x\"}},\"id\":\"a67354da-62e7-48f9-aae4-c7cfa3a5f477\",\"type\":\"VBar\"},{\"attributes\":{},\"id\":\"ec2bd499-56ef-4cb2-8c39-abecbe075ee1\",\"type\":\"CategoricalScale\"},{\"attributes\":{\"fill_alpha\":{\"value\":0.1},\"fill_color\":{\"value\":\"#1f77b4\"},\"line_alpha\":{\"value\":0.1},\"line_color\":{\"value\":\"#1f77b4\"},\"line_width\":{\"value\":2},\"top\":{\"field\":\"top\"},\"width\":{\"value\":0.9},\"x\":{\"field\":\"x\"}},\"id\":\"e060288c-65a1-4b77-b525-597e43da750c\",\"type\":\"VBar\"},{\"attributes\":{},\"id\":\"b70fa97e-f1f0-4fa9-a7f9-4fc7d7c30248\",\"type\":\"BasicTicker\"},{\"attributes\":{},\"id\":\"cdfa292d-a3d0-4605-84c1-452e5290b46f\",\"type\":\"CategoricalTicker\"},{\"attributes\":{\"plot\":null,\"text\":\"Countries by unique visit\"},\"id\":\"2f6c6316-c123-4012-9f05-71c13368671e\",\"type\":\"Title\"},{\"attributes\":{\"active_drag\":\"auto\",\"active_inspect\":\"auto\",\"active_scroll\":\"auto\",\"active_tap\":\"auto\",\"tools\":[{\"id\":\"aa53dee7-7a7d-4ff4-a665-2410ff06e9d2\",\"type\":\"PanTool\"},{\"id\":\"6e00f768-a2c4-4a2d-af42-302e833aa3a7\",\"type\":\"WheelZoomTool\"},{\"id\":\"b0ece203-1ec5-4056-add3-a85c4658e852\",\"type\":\"BoxZoomTool\"},{\"id\":\"f9f54415-ea2a-46aa-b0d7-bd89901b4694\",\"type\":\"SaveTool\"},{\"id\":\"9eec91db-13cb-422c-ada7-d8b528740780\",\"type\":\"ResetTool\"},{\"id\":\"bbf58fd3-6991-4eb2-906f-702638793aca\",\"type\":\"HelpTool\"}]},\"id\":\"5dbcf0bc-62f5-4dba-8b15-e029908fc63d\",\"type\":\"Toolbar\"}],\"root_ids\":[\"8d486aba-ee29-41c1-8f5c-446b5aea40f6\"]},\"title\":\"Bokeh Application\",\"version\":\"0.12.13\"}};\n",
       "  var render_items = [{\"docid\":\"ae9a74d4-3cfa-498e-8165-1fedc9eb9585\",\"elementid\":\"9a2be217-2e7f-4cbb-ab30-ca86e6c40348\",\"modelid\":\"8d486aba-ee29-41c1-8f5c-446b5aea40f6\"}];\n",
       "  root.Bokeh.embed.embed_items_notebook(docs_json, render_items);\n",
       "\n",
       "  }\n",
       "  if (root.Bokeh !== undefined) {\n",
       "    embed_document(root);\n",
       "  } else {\n",
       "    var attempts = 0;\n",
       "    var timer = setInterval(function(root) {\n",
       "      if (root.Bokeh !== undefined) {\n",
       "        embed_document(root);\n",
       "        clearInterval(timer);\n",
       "      }\n",
       "      attempts++;\n",
       "      if (attempts > 100) {\n",
       "        console.log(\"Bokeh: ERROR: Unable to run BokehJS code because BokehJS library is missing\")\n",
       "        clearInterval(timer);\n",
       "      }\n",
       "    }, 10, root)\n",
       "  }\n",
       "})(window);"
      ],
      "application/vnd.bokehjs_exec.v0+json": ""
     },
     "metadata": {
      "application/vnd.bokehjs_exec.v0+json": {
       "id": "8d486aba-ee29-41c1-8f5c-446b5aea40f6"
      }
     },
     "output_type": "display_data"
    }
   ],
   "source": [
    "plot(data.drop_duplicates('idVisit').groupby('country').size().sort_values().tail(10), 'Countries by unique visit')"
   ]
  },
  {
   "cell_type": "code",
   "execution_count": 19,
   "metadata": {},
   "outputs": [
    {
     "data": {
      "text/html": [
       "\n",
       "<div class=\"bk-root\">\n",
       "    <div class=\"bk-plotdiv\" id=\"cff9e478-947f-4361-a766-393de114a6f1\"></div>\n",
       "</div>"
      ]
     },
     "metadata": {},
     "output_type": "display_data"
    },
    {
     "data": {
      "application/javascript": [
       "(function(root) {\n",
       "  function embed_document(root) {\n",
       "    \n",
       "  var docs_json = {\"78e04318-b0db-4f16-be5c-5ecce1d0d1ac\":{\"roots\":{\"references\":[{\"attributes\":{\"callback\":null,\"factors\":[\"Italy\",\"South Korea\",\"Japan\",\"Taiwan\",\"Finland\",\"France\",\"India\",\"China\",\"USA\",\"Poland\"]},\"id\":\"7e072182-2541-4c9f-9e00-d735e20b013d\",\"type\":\"FactorRange\"},{\"attributes\":{\"axis_label\":\"ilo\\u015b\\u0107\",\"formatter\":{\"id\":\"aa14acdb-b0b7-4b4e-9ee9-dcb234bc02b3\",\"type\":\"BasicTickFormatter\"},\"plot\":{\"id\":\"a812ead9-daed-4ff5-9ce2-35599f431143\",\"subtype\":\"Figure\",\"type\":\"Plot\"},\"ticker\":{\"id\":\"278f7914-60ac-4561-b58f-6abcef73a6c9\",\"type\":\"BasicTicker\"}},\"id\":\"fe5fcb75-0c1d-418d-933d-3e41d6c8622c\",\"type\":\"LinearAxis\"},{\"attributes\":{\"source\":{\"id\":\"8ff94f88-0a45-48f1-a42d-0ecc55e5f0ab\",\"type\":\"ColumnDataSource\"}},\"id\":\"7929dcbf-2ae8-431c-afa4-404d9367130e\",\"type\":\"CDSView\"},{\"attributes\":{\"dimension\":1,\"plot\":{\"id\":\"a812ead9-daed-4ff5-9ce2-35599f431143\",\"subtype\":\"Figure\",\"type\":\"Plot\"},\"ticker\":{\"id\":\"278f7914-60ac-4561-b58f-6abcef73a6c9\",\"type\":\"BasicTicker\"}},\"id\":\"44f66dd7-05c0-4867-bc46-b28a98ea7d9f\",\"type\":\"Grid\"},{\"attributes\":{\"plot\":{\"id\":\"a812ead9-daed-4ff5-9ce2-35599f431143\",\"subtype\":\"Figure\",\"type\":\"Plot\"},\"ticker\":{\"id\":\"060e780d-0cef-40b0-a36f-e000773c23f2\",\"type\":\"CategoricalTicker\"}},\"id\":\"476a2da3-029a-4926-923d-d5fd537b0f0e\",\"type\":\"Grid\"},{\"attributes\":{\"callback\":null,\"column_names\":[\"x\",\"top\"],\"data\":{\"top\":[2396,2574,2763,3171,3787,7095,9211,9968,12070,12481],\"x\":[\"Italy\",\"South Korea\",\"Japan\",\"Taiwan\",\"Finland\",\"France\",\"India\",\"China\",\"USA\",\"Poland\"]}},\"id\":\"8ff94f88-0a45-48f1-a42d-0ecc55e5f0ab\",\"type\":\"ColumnDataSource\"},{\"attributes\":{},\"id\":\"d7b8264e-2c6d-44fa-b671-c202b072891b\",\"type\":\"CategoricalTickFormatter\"},{\"attributes\":{},\"id\":\"25703658-dbde-4b55-8057-d21691ff3127\",\"type\":\"SaveTool\"},{\"attributes\":{},\"id\":\"8b0e5307-3dfa-457e-8483-4ce011b3010b\",\"type\":\"ResetTool\"},{\"attributes\":{\"callback\":null},\"id\":\"e4156451-c42f-4d67-b891-98dc640a52c8\",\"type\":\"DataRange1d\"},{\"attributes\":{\"active_drag\":\"auto\",\"active_inspect\":\"auto\",\"active_scroll\":\"auto\",\"active_tap\":\"auto\",\"tools\":[{\"id\":\"a99b103a-7aba-477a-8936-71968a41c4be\",\"type\":\"PanTool\"},{\"id\":\"e0bacc97-4129-4b42-bfc7-96132b116410\",\"type\":\"WheelZoomTool\"},{\"id\":\"bc09d2b0-3922-4180-a0c0-9f6d4b7fe706\",\"type\":\"BoxZoomTool\"},{\"id\":\"25703658-dbde-4b55-8057-d21691ff3127\",\"type\":\"SaveTool\"},{\"id\":\"8b0e5307-3dfa-457e-8483-4ce011b3010b\",\"type\":\"ResetTool\"},{\"id\":\"5fbe0b3a-c90e-468b-a2a4-93e1ef187741\",\"type\":\"HelpTool\"}]},\"id\":\"c0a00369-84b5-4472-86c8-af704d341ced\",\"type\":\"Toolbar\"},{\"attributes\":{},\"id\":\"e4a4dd16-6081-4f35-b589-ab44cb7ba156\",\"type\":\"CategoricalScale\"},{\"attributes\":{},\"id\":\"aa14acdb-b0b7-4b4e-9ee9-dcb234bc02b3\",\"type\":\"BasicTickFormatter\"},{\"attributes\":{\"below\":[{\"id\":\"8298267f-dfba-4bad-a812-90a9286b2f99\",\"type\":\"CategoricalAxis\"}],\"left\":[{\"id\":\"fe5fcb75-0c1d-418d-933d-3e41d6c8622c\",\"type\":\"LinearAxis\"}],\"plot_height\":750,\"plot_width\":900,\"renderers\":[{\"id\":\"8298267f-dfba-4bad-a812-90a9286b2f99\",\"type\":\"CategoricalAxis\"},{\"id\":\"476a2da3-029a-4926-923d-d5fd537b0f0e\",\"type\":\"Grid\"},{\"id\":\"fe5fcb75-0c1d-418d-933d-3e41d6c8622c\",\"type\":\"LinearAxis\"},{\"id\":\"44f66dd7-05c0-4867-bc46-b28a98ea7d9f\",\"type\":\"Grid\"},{\"id\":\"8a380243-cc4d-40db-99e1-e6d7d76a8bfe\",\"type\":\"BoxAnnotation\"},{\"id\":\"0a93249e-4170-48f7-908b-55adfece4962\",\"type\":\"GlyphRenderer\"}],\"title\":{\"id\":\"d3ebaa13-8643-4c56-be0e-3025724899d4\",\"type\":\"Title\"},\"toolbar\":{\"id\":\"c0a00369-84b5-4472-86c8-af704d341ced\",\"type\":\"Toolbar\"},\"x_range\":{\"id\":\"7e072182-2541-4c9f-9e00-d735e20b013d\",\"type\":\"FactorRange\"},\"x_scale\":{\"id\":\"e4a4dd16-6081-4f35-b589-ab44cb7ba156\",\"type\":\"CategoricalScale\"},\"y_range\":{\"id\":\"e4156451-c42f-4d67-b891-98dc640a52c8\",\"type\":\"DataRange1d\"},\"y_scale\":{\"id\":\"e72072a7-fa48-4b3d-bd03-b369d1453e61\",\"type\":\"LinearScale\"}},\"id\":\"a812ead9-daed-4ff5-9ce2-35599f431143\",\"subtype\":\"Figure\",\"type\":\"Plot\"},{\"attributes\":{\"plot\":null,\"text\":\"Countries by 'WebNei Clicked' action\"},\"id\":\"d3ebaa13-8643-4c56-be0e-3025724899d4\",\"type\":\"Title\"},{\"attributes\":{},\"id\":\"a99b103a-7aba-477a-8936-71968a41c4be\",\"type\":\"PanTool\"},{\"attributes\":{},\"id\":\"e72072a7-fa48-4b3d-bd03-b369d1453e61\",\"type\":\"LinearScale\"},{\"attributes\":{},\"id\":\"278f7914-60ac-4561-b58f-6abcef73a6c9\",\"type\":\"BasicTicker\"},{\"attributes\":{\"overlay\":{\"id\":\"8a380243-cc4d-40db-99e1-e6d7d76a8bfe\",\"type\":\"BoxAnnotation\"}},\"id\":\"bc09d2b0-3922-4180-a0c0-9f6d4b7fe706\",\"type\":\"BoxZoomTool\"},{\"attributes\":{\"fill_color\":{\"value\":\"#1f77b4\"},\"line_color\":{\"value\":\"#1f77b4\"},\"line_width\":{\"value\":2},\"top\":{\"field\":\"top\"},\"width\":{\"value\":0.9},\"x\":{\"field\":\"x\"}},\"id\":\"650e058c-adf9-409a-8851-ebc38a1a329f\",\"type\":\"VBar\"},{\"attributes\":{\"axis_label\":\"country\",\"formatter\":{\"id\":\"d7b8264e-2c6d-44fa-b671-c202b072891b\",\"type\":\"CategoricalTickFormatter\"},\"major_label_orientation\":0.6283185307179586,\"major_label_text_font_size\":{\"value\":\"9pt\"},\"plot\":{\"id\":\"a812ead9-daed-4ff5-9ce2-35599f431143\",\"subtype\":\"Figure\",\"type\":\"Plot\"},\"ticker\":{\"id\":\"060e780d-0cef-40b0-a36f-e000773c23f2\",\"type\":\"CategoricalTicker\"}},\"id\":\"8298267f-dfba-4bad-a812-90a9286b2f99\",\"type\":\"CategoricalAxis\"},{\"attributes\":{},\"id\":\"5fbe0b3a-c90e-468b-a2a4-93e1ef187741\",\"type\":\"HelpTool\"},{\"attributes\":{\"fill_alpha\":{\"value\":0.1},\"fill_color\":{\"value\":\"#1f77b4\"},\"line_alpha\":{\"value\":0.1},\"line_color\":{\"value\":\"#1f77b4\"},\"line_width\":{\"value\":2},\"top\":{\"field\":\"top\"},\"width\":{\"value\":0.9},\"x\":{\"field\":\"x\"}},\"id\":\"0fe858d8-7d88-4bee-a79a-eb7e20674429\",\"type\":\"VBar\"},{\"attributes\":{},\"id\":\"e0bacc97-4129-4b42-bfc7-96132b116410\",\"type\":\"WheelZoomTool\"},{\"attributes\":{\"data_source\":{\"id\":\"8ff94f88-0a45-48f1-a42d-0ecc55e5f0ab\",\"type\":\"ColumnDataSource\"},\"glyph\":{\"id\":\"650e058c-adf9-409a-8851-ebc38a1a329f\",\"type\":\"VBar\"},\"hover_glyph\":null,\"muted_glyph\":null,\"nonselection_glyph\":{\"id\":\"0fe858d8-7d88-4bee-a79a-eb7e20674429\",\"type\":\"VBar\"},\"selection_glyph\":null,\"view\":{\"id\":\"7929dcbf-2ae8-431c-afa4-404d9367130e\",\"type\":\"CDSView\"}},\"id\":\"0a93249e-4170-48f7-908b-55adfece4962\",\"type\":\"GlyphRenderer\"},{\"attributes\":{\"bottom_units\":\"screen\",\"fill_alpha\":{\"value\":0.5},\"fill_color\":{\"value\":\"lightgrey\"},\"left_units\":\"screen\",\"level\":\"overlay\",\"line_alpha\":{\"value\":1.0},\"line_color\":{\"value\":\"black\"},\"line_dash\":[4,4],\"line_width\":{\"value\":2},\"plot\":null,\"render_mode\":\"css\",\"right_units\":\"screen\",\"top_units\":\"screen\"},\"id\":\"8a380243-cc4d-40db-99e1-e6d7d76a8bfe\",\"type\":\"BoxAnnotation\"},{\"attributes\":{},\"id\":\"060e780d-0cef-40b0-a36f-e000773c23f2\",\"type\":\"CategoricalTicker\"}],\"root_ids\":[\"a812ead9-daed-4ff5-9ce2-35599f431143\"]},\"title\":\"Bokeh Application\",\"version\":\"0.12.13\"}};\n",
       "  var render_items = [{\"docid\":\"78e04318-b0db-4f16-be5c-5ecce1d0d1ac\",\"elementid\":\"cff9e478-947f-4361-a766-393de114a6f1\",\"modelid\":\"a812ead9-daed-4ff5-9ce2-35599f431143\"}];\n",
       "  root.Bokeh.embed.embed_items_notebook(docs_json, render_items);\n",
       "\n",
       "  }\n",
       "  if (root.Bokeh !== undefined) {\n",
       "    embed_document(root);\n",
       "  } else {\n",
       "    var attempts = 0;\n",
       "    var timer = setInterval(function(root) {\n",
       "      if (root.Bokeh !== undefined) {\n",
       "        embed_document(root);\n",
       "        clearInterval(timer);\n",
       "      }\n",
       "      attempts++;\n",
       "      if (attempts > 100) {\n",
       "        console.log(\"Bokeh: ERROR: Unable to run BokehJS code because BokehJS library is missing\")\n",
       "        clearInterval(timer);\n",
       "      }\n",
       "    }, 10, root)\n",
       "  }\n",
       "})(window);"
      ],
      "application/vnd.bokehjs_exec.v0+json": ""
     },
     "metadata": {
      "application/vnd.bokehjs_exec.v0+json": {
       "id": "a812ead9-daed-4ff5-9ce2-35599f431143"
      }
     },
     "output_type": "display_data"
    }
   ],
   "source": [
    "plot(data[data.actionCategory == 'WebNei clicked'].groupby('country').size().sort_values().tail(10), 'Countries by \\'WebNei Clicked\\' action')"
   ]
  },
  {
   "cell_type": "code",
   "execution_count": 20,
   "metadata": {},
   "outputs": [
    {
     "data": {
      "text/html": [
       "\n",
       "<div class=\"bk-root\">\n",
       "    <div class=\"bk-plotdiv\" id=\"e2902e8b-7dbe-4b1a-a9fb-73677622ceb9\"></div>\n",
       "</div>"
      ]
     },
     "metadata": {},
     "output_type": "display_data"
    },
    {
     "data": {
      "application/javascript": [
       "(function(root) {\n",
       "  function embed_document(root) {\n",
       "    \n",
       "  var docs_json = {\"1ce37cff-b1bc-4850-9b53-b276d483bd3f\":{\"roots\":{\"references\":[{\"attributes\":{},\"id\":\"acc7eaac-fb51-4f5e-bf3d-98bf366f0fe0\",\"type\":\"CategoricalScale\"},{\"attributes\":{},\"id\":\"57dc53c6-4616-4345-be3f-637b4b304187\",\"type\":\"BasicTickFormatter\"},{\"attributes\":{},\"id\":\"df4f1a1e-2a6d-437d-afc6-910d0794494d\",\"type\":\"CategoricalTickFormatter\"},{\"attributes\":{},\"id\":\"cb56b7ad-436d-4cc6-a787-8971aff76be5\",\"type\":\"HelpTool\"},{\"attributes\":{\"callback\":null,\"factors\":[\"Italy\",\"Indonesia\",\"Japan\",\"Taiwan\",\"Finland\",\"France\",\"Poland\",\"India\",\"USA\",\"China\"]},\"id\":\"e3947ce1-9fc9-477c-9d96-a8d497b8aea5\",\"type\":\"FactorRange\"},{\"attributes\":{\"source\":{\"id\":\"c299a920-45c2-461f-8a71-12c762d81048\",\"type\":\"ColumnDataSource\"}},\"id\":\"91ba99bd-bc25-4d9d-ad27-7b86d4e52a8b\",\"type\":\"CDSView\"},{\"attributes\":{},\"id\":\"36979174-1d0c-4cbc-a2c7-19ab34292a2d\",\"type\":\"WheelZoomTool\"},{\"attributes\":{\"bottom_units\":\"screen\",\"fill_alpha\":{\"value\":0.5},\"fill_color\":{\"value\":\"lightgrey\"},\"left_units\":\"screen\",\"level\":\"overlay\",\"line_alpha\":{\"value\":1.0},\"line_color\":{\"value\":\"black\"},\"line_dash\":[4,4],\"line_width\":{\"value\":2},\"plot\":null,\"render_mode\":\"css\",\"right_units\":\"screen\",\"top_units\":\"screen\"},\"id\":\"9c8d9879-b7ed-4cf5-a154-7be5958083ef\",\"type\":\"BoxAnnotation\"},{\"attributes\":{},\"id\":\"8fb320ad-a32d-44d9-8122-cafb8eac9aa8\",\"type\":\"BasicTicker\"},{\"attributes\":{},\"id\":\"e30609df-1f09-42ed-ad69-658fb6b8f63b\",\"type\":\"PanTool\"},{\"attributes\":{\"dimension\":1,\"plot\":{\"id\":\"be1d9466-fe55-47d9-bc9b-8444fc028a94\",\"subtype\":\"Figure\",\"type\":\"Plot\"},\"ticker\":{\"id\":\"8fb320ad-a32d-44d9-8122-cafb8eac9aa8\",\"type\":\"BasicTicker\"}},\"id\":\"4b8adfad-9022-4c93-bc70-ba2cd0790d94\",\"type\":\"Grid\"},{\"attributes\":{\"axis_label\":\"ilo\\u015b\\u0107\",\"formatter\":{\"id\":\"57dc53c6-4616-4345-be3f-637b4b304187\",\"type\":\"BasicTickFormatter\"},\"plot\":{\"id\":\"be1d9466-fe55-47d9-bc9b-8444fc028a94\",\"subtype\":\"Figure\",\"type\":\"Plot\"},\"ticker\":{\"id\":\"8fb320ad-a32d-44d9-8122-cafb8eac9aa8\",\"type\":\"BasicTicker\"}},\"id\":\"e31364ae-448e-4714-b22f-9a2612bc3f78\",\"type\":\"LinearAxis\"},{\"attributes\":{},\"id\":\"c30dad08-fb85-46e5-a104-aaee80eff366\",\"type\":\"LinearScale\"},{\"attributes\":{\"active_drag\":\"auto\",\"active_inspect\":\"auto\",\"active_scroll\":\"auto\",\"active_tap\":\"auto\",\"tools\":[{\"id\":\"e30609df-1f09-42ed-ad69-658fb6b8f63b\",\"type\":\"PanTool\"},{\"id\":\"36979174-1d0c-4cbc-a2c7-19ab34292a2d\",\"type\":\"WheelZoomTool\"},{\"id\":\"f58200c1-7096-4ba4-ae90-73e3a658d997\",\"type\":\"BoxZoomTool\"},{\"id\":\"12b40183-e128-4bae-a6ab-eb4b1a28e2d5\",\"type\":\"SaveTool\"},{\"id\":\"ad7c940a-2540-44a2-b416-a346b7910ea8\",\"type\":\"ResetTool\"},{\"id\":\"cb56b7ad-436d-4cc6-a787-8971aff76be5\",\"type\":\"HelpTool\"}]},\"id\":\"cfd88a0c-061c-4243-b776-f59901d2d682\",\"type\":\"Toolbar\"},{\"attributes\":{\"plot\":{\"id\":\"be1d9466-fe55-47d9-bc9b-8444fc028a94\",\"subtype\":\"Figure\",\"type\":\"Plot\"},\"ticker\":{\"id\":\"454d4b98-2119-4e79-adef-9d53ae947993\",\"type\":\"CategoricalTicker\"}},\"id\":\"e0ced345-b205-4d59-883e-1e45b53451bc\",\"type\":\"Grid\"},{\"attributes\":{\"data_source\":{\"id\":\"c299a920-45c2-461f-8a71-12c762d81048\",\"type\":\"ColumnDataSource\"},\"glyph\":{\"id\":\"d303da3d-622d-4abd-9fdc-7d76814940e8\",\"type\":\"VBar\"},\"hover_glyph\":null,\"muted_glyph\":null,\"nonselection_glyph\":{\"id\":\"0cc8bfd0-7cb8-43a9-9575-06bacce372f1\",\"type\":\"VBar\"},\"selection_glyph\":null,\"view\":{\"id\":\"91ba99bd-bc25-4d9d-ad27-7b86d4e52a8b\",\"type\":\"CDSView\"}},\"id\":\"42fa37ad-986b-4196-a2d2-0bc241b9b5b4\",\"type\":\"GlyphRenderer\"},{\"attributes\":{\"plot\":null,\"text\":\"Countries by all actions\"},\"id\":\"14b0790b-d309-46f3-96e6-78fb867f0fe3\",\"type\":\"Title\"},{\"attributes\":{},\"id\":\"454d4b98-2119-4e79-adef-9d53ae947993\",\"type\":\"CategoricalTicker\"},{\"attributes\":{},\"id\":\"ad7c940a-2540-44a2-b416-a346b7910ea8\",\"type\":\"ResetTool\"},{\"attributes\":{\"axis_label\":\"country\",\"formatter\":{\"id\":\"df4f1a1e-2a6d-437d-afc6-910d0794494d\",\"type\":\"CategoricalTickFormatter\"},\"major_label_orientation\":0.6283185307179586,\"major_label_text_font_size\":{\"value\":\"9pt\"},\"plot\":{\"id\":\"be1d9466-fe55-47d9-bc9b-8444fc028a94\",\"subtype\":\"Figure\",\"type\":\"Plot\"},\"ticker\":{\"id\":\"454d4b98-2119-4e79-adef-9d53ae947993\",\"type\":\"CategoricalTicker\"}},\"id\":\"6ce79ecd-74ae-44ad-9575-6e72dc82f8ef\",\"type\":\"CategoricalAxis\"},{\"attributes\":{\"overlay\":{\"id\":\"9c8d9879-b7ed-4cf5-a154-7be5958083ef\",\"type\":\"BoxAnnotation\"}},\"id\":\"f58200c1-7096-4ba4-ae90-73e3a658d997\",\"type\":\"BoxZoomTool\"},{\"attributes\":{\"callback\":null,\"column_names\":[\"x\",\"top\"],\"data\":{\"top\":[8404,8775,9108,10526,12228,20020,30753,34661,37677,38993],\"x\":[\"Italy\",\"Indonesia\",\"Japan\",\"Taiwan\",\"Finland\",\"France\",\"Poland\",\"India\",\"USA\",\"China\"]}},\"id\":\"c299a920-45c2-461f-8a71-12c762d81048\",\"type\":\"ColumnDataSource\"},{\"attributes\":{\"fill_color\":{\"value\":\"#1f77b4\"},\"line_color\":{\"value\":\"#1f77b4\"},\"line_width\":{\"value\":2},\"top\":{\"field\":\"top\"},\"width\":{\"value\":0.9},\"x\":{\"field\":\"x\"}},\"id\":\"d303da3d-622d-4abd-9fdc-7d76814940e8\",\"type\":\"VBar\"},{\"attributes\":{\"callback\":null},\"id\":\"583c57e4-1b5c-49f8-87cf-4030eacd4ea7\",\"type\":\"DataRange1d\"},{\"attributes\":{\"fill_alpha\":{\"value\":0.1},\"fill_color\":{\"value\":\"#1f77b4\"},\"line_alpha\":{\"value\":0.1},\"line_color\":{\"value\":\"#1f77b4\"},\"line_width\":{\"value\":2},\"top\":{\"field\":\"top\"},\"width\":{\"value\":0.9},\"x\":{\"field\":\"x\"}},\"id\":\"0cc8bfd0-7cb8-43a9-9575-06bacce372f1\",\"type\":\"VBar\"},{\"attributes\":{\"below\":[{\"id\":\"6ce79ecd-74ae-44ad-9575-6e72dc82f8ef\",\"type\":\"CategoricalAxis\"}],\"left\":[{\"id\":\"e31364ae-448e-4714-b22f-9a2612bc3f78\",\"type\":\"LinearAxis\"}],\"plot_height\":750,\"plot_width\":900,\"renderers\":[{\"id\":\"6ce79ecd-74ae-44ad-9575-6e72dc82f8ef\",\"type\":\"CategoricalAxis\"},{\"id\":\"e0ced345-b205-4d59-883e-1e45b53451bc\",\"type\":\"Grid\"},{\"id\":\"e31364ae-448e-4714-b22f-9a2612bc3f78\",\"type\":\"LinearAxis\"},{\"id\":\"4b8adfad-9022-4c93-bc70-ba2cd0790d94\",\"type\":\"Grid\"},{\"id\":\"9c8d9879-b7ed-4cf5-a154-7be5958083ef\",\"type\":\"BoxAnnotation\"},{\"id\":\"42fa37ad-986b-4196-a2d2-0bc241b9b5b4\",\"type\":\"GlyphRenderer\"}],\"title\":{\"id\":\"14b0790b-d309-46f3-96e6-78fb867f0fe3\",\"type\":\"Title\"},\"toolbar\":{\"id\":\"cfd88a0c-061c-4243-b776-f59901d2d682\",\"type\":\"Toolbar\"},\"x_range\":{\"id\":\"e3947ce1-9fc9-477c-9d96-a8d497b8aea5\",\"type\":\"FactorRange\"},\"x_scale\":{\"id\":\"acc7eaac-fb51-4f5e-bf3d-98bf366f0fe0\",\"type\":\"CategoricalScale\"},\"y_range\":{\"id\":\"583c57e4-1b5c-49f8-87cf-4030eacd4ea7\",\"type\":\"DataRange1d\"},\"y_scale\":{\"id\":\"c30dad08-fb85-46e5-a104-aaee80eff366\",\"type\":\"LinearScale\"}},\"id\":\"be1d9466-fe55-47d9-bc9b-8444fc028a94\",\"subtype\":\"Figure\",\"type\":\"Plot\"},{\"attributes\":{},\"id\":\"12b40183-e128-4bae-a6ab-eb4b1a28e2d5\",\"type\":\"SaveTool\"}],\"root_ids\":[\"be1d9466-fe55-47d9-bc9b-8444fc028a94\"]},\"title\":\"Bokeh Application\",\"version\":\"0.12.13\"}};\n",
       "  var render_items = [{\"docid\":\"1ce37cff-b1bc-4850-9b53-b276d483bd3f\",\"elementid\":\"e2902e8b-7dbe-4b1a-a9fb-73677622ceb9\",\"modelid\":\"be1d9466-fe55-47d9-bc9b-8444fc028a94\"}];\n",
       "  root.Bokeh.embed.embed_items_notebook(docs_json, render_items);\n",
       "\n",
       "  }\n",
       "  if (root.Bokeh !== undefined) {\n",
       "    embed_document(root);\n",
       "  } else {\n",
       "    var attempts = 0;\n",
       "    var timer = setInterval(function(root) {\n",
       "      if (root.Bokeh !== undefined) {\n",
       "        embed_document(root);\n",
       "        clearInterval(timer);\n",
       "      }\n",
       "      attempts++;\n",
       "      if (attempts > 100) {\n",
       "        console.log(\"Bokeh: ERROR: Unable to run BokehJS code because BokehJS library is missing\")\n",
       "        clearInterval(timer);\n",
       "      }\n",
       "    }, 10, root)\n",
       "  }\n",
       "})(window);"
      ],
      "application/vnd.bokehjs_exec.v0+json": ""
     },
     "metadata": {
      "application/vnd.bokehjs_exec.v0+json": {
       "id": "be1d9466-fe55-47d9-bc9b-8444fc028a94"
      }
     },
     "output_type": "display_data"
    }
   ],
   "source": [
    "plot(data.groupby('country').size().sort_values().tail(10), 'Countries by all actions')"
   ]
  },
  {
   "cell_type": "code",
   "execution_count": 21,
   "metadata": {},
   "outputs": [
    {
     "data": {
      "text/html": [
       "\n",
       "<div class=\"bk-root\">\n",
       "    <div class=\"bk-plotdiv\" id=\"c1d1a56b-2d89-4096-8a9d-6fee10dedd16\"></div>\n",
       "</div>"
      ]
     },
     "metadata": {},
     "output_type": "display_data"
    },
    {
     "data": {
      "application/javascript": [
       "(function(root) {\n",
       "  function embed_document(root) {\n",
       "    \n",
       "  var docs_json = {\"e83e5525-b887-4d3b-8f95-92eff4b6bd8a\":{\"roots\":{\"references\":[{\"attributes\":{\"dimension\":1,\"plot\":{\"id\":\"17cbc886-1d20-4b73-8bff-10d7970d0a32\",\"subtype\":\"Figure\",\"type\":\"Plot\"},\"ticker\":{\"id\":\"bd0a23ad-bc8b-4692-bfc7-6f4d439d39a2\",\"type\":\"BasicTicker\"}},\"id\":\"4f96534e-99c8-4745-ac8c-f797f50d8eec\",\"type\":\"Grid\"},{\"attributes\":{},\"id\":\"6819fae3-bb18-43cc-9ff1-3d99993131cb\",\"type\":\"CategoricalTickFormatter\"},{\"attributes\":{\"active_drag\":\"auto\",\"active_inspect\":\"auto\",\"active_scroll\":\"auto\",\"active_tap\":\"auto\",\"tools\":[{\"id\":\"a697f036-e8a0-485c-b4d6-f367eaa15d65\",\"type\":\"PanTool\"},{\"id\":\"5282d072-748d-41a9-9c1f-b7fe2e98df6d\",\"type\":\"WheelZoomTool\"},{\"id\":\"18022ba6-eed5-497b-a5e6-751c42a81b35\",\"type\":\"BoxZoomTool\"},{\"id\":\"d18a276e-44e0-4f47-92d2-a121dd31c352\",\"type\":\"SaveTool\"},{\"id\":\"287e2f1d-0489-47a5-a710-ceb412f01794\",\"type\":\"ResetTool\"},{\"id\":\"ca9860cb-6046-4545-ba17-5ce8903c2ae0\",\"type\":\"HelpTool\"}]},\"id\":\"ad4fd52c-a159-4f2c-9e0b-fb3789c18b63\",\"type\":\"Toolbar\"},{\"attributes\":{},\"id\":\"ca9860cb-6046-4545-ba17-5ce8903c2ae0\",\"type\":\"HelpTool\"},{\"attributes\":{\"axis_label\":\"ilo\\u015b\\u0107\",\"formatter\":{\"id\":\"d42b1802-e7ef-4665-b9e0-3747d742905e\",\"type\":\"BasicTickFormatter\"},\"plot\":{\"id\":\"17cbc886-1d20-4b73-8bff-10d7970d0a32\",\"subtype\":\"Figure\",\"type\":\"Plot\"},\"ticker\":{\"id\":\"bd0a23ad-bc8b-4692-bfc7-6f4d439d39a2\",\"type\":\"BasicTicker\"}},\"id\":\"f30c407d-b3e8-4019-ba03-7745d4fb1d99\",\"type\":\"LinearAxis\"},{\"attributes\":{\"callback\":null,\"column_names\":[\"x\",\"top\"],\"data\":{\"top\":[142,172,249,294,470,539,840,864,923,999],\"x\":[\"Indonesia\",\"Romania\",\"Portugal\",\"Germany\",\"France\",\"Finland\",\"Poland\",\"USA\",\"China\",\"India\"]}},\"id\":\"4f97b8b4-d2ec-4d5e-b9a0-202f0f774013\",\"type\":\"ColumnDataSource\"},{\"attributes\":{\"axis_label\":\"country\",\"formatter\":{\"id\":\"6819fae3-bb18-43cc-9ff1-3d99993131cb\",\"type\":\"CategoricalTickFormatter\"},\"major_label_orientation\":0.6283185307179586,\"major_label_text_font_size\":{\"value\":\"9pt\"},\"plot\":{\"id\":\"17cbc886-1d20-4b73-8bff-10d7970d0a32\",\"subtype\":\"Figure\",\"type\":\"Plot\"},\"ticker\":{\"id\":\"cc229e7f-126e-4720-949d-39498e652458\",\"type\":\"CategoricalTicker\"}},\"id\":\"42cf9e93-bd26-471e-be3b-8ac0f1ca9e3a\",\"type\":\"CategoricalAxis\"},{\"attributes\":{\"fill_color\":{\"value\":\"#1f77b4\"},\"line_color\":{\"value\":\"#1f77b4\"},\"line_width\":{\"value\":2},\"top\":{\"field\":\"top\"},\"width\":{\"value\":0.9},\"x\":{\"field\":\"x\"}},\"id\":\"d36c4041-464e-4e02-a473-9e72afd2d5bb\",\"type\":\"VBar\"},{\"attributes\":{},\"id\":\"287e2f1d-0489-47a5-a710-ceb412f01794\",\"type\":\"ResetTool\"},{\"attributes\":{\"below\":[{\"id\":\"42cf9e93-bd26-471e-be3b-8ac0f1ca9e3a\",\"type\":\"CategoricalAxis\"}],\"left\":[{\"id\":\"f30c407d-b3e8-4019-ba03-7745d4fb1d99\",\"type\":\"LinearAxis\"}],\"plot_height\":750,\"plot_width\":900,\"renderers\":[{\"id\":\"42cf9e93-bd26-471e-be3b-8ac0f1ca9e3a\",\"type\":\"CategoricalAxis\"},{\"id\":\"b40f55d2-3f7b-4774-bb65-203a9417c116\",\"type\":\"Grid\"},{\"id\":\"f30c407d-b3e8-4019-ba03-7745d4fb1d99\",\"type\":\"LinearAxis\"},{\"id\":\"4f96534e-99c8-4745-ac8c-f797f50d8eec\",\"type\":\"Grid\"},{\"id\":\"6a73a4cb-eb44-4621-bcd7-b9c255c60120\",\"type\":\"BoxAnnotation\"},{\"id\":\"a7872b8a-1ecb-40db-96d2-2e7f62923d55\",\"type\":\"GlyphRenderer\"}],\"title\":{\"id\":\"8d40fa83-124c-4b7f-8b18-9589abdd3a9f\",\"type\":\"Title\"},\"toolbar\":{\"id\":\"ad4fd52c-a159-4f2c-9e0b-fb3789c18b63\",\"type\":\"Toolbar\"},\"x_range\":{\"id\":\"cd9e83f6-e148-4bb8-b0da-77c37c5570df\",\"type\":\"FactorRange\"},\"x_scale\":{\"id\":\"fb911d41-2ddf-4da9-ad0e-5034b6651d3f\",\"type\":\"CategoricalScale\"},\"y_range\":{\"id\":\"7bf7840c-b686-4bfd-b4ca-1164066a26f6\",\"type\":\"DataRange1d\"},\"y_scale\":{\"id\":\"ae163ab3-65e3-4f5e-86a9-f3b739db3d5e\",\"type\":\"LinearScale\"}},\"id\":\"17cbc886-1d20-4b73-8bff-10d7970d0a32\",\"subtype\":\"Figure\",\"type\":\"Plot\"},{\"attributes\":{},\"id\":\"ae163ab3-65e3-4f5e-86a9-f3b739db3d5e\",\"type\":\"LinearScale\"},{\"attributes\":{\"source\":{\"id\":\"4f97b8b4-d2ec-4d5e-b9a0-202f0f774013\",\"type\":\"ColumnDataSource\"}},\"id\":\"e1993df0-ab42-4971-bfa4-f1c9b6f6d16f\",\"type\":\"CDSView\"},{\"attributes\":{\"callback\":null},\"id\":\"7bf7840c-b686-4bfd-b4ca-1164066a26f6\",\"type\":\"DataRange1d\"},{\"attributes\":{},\"id\":\"5282d072-748d-41a9-9c1f-b7fe2e98df6d\",\"type\":\"WheelZoomTool\"},{\"attributes\":{\"data_source\":{\"id\":\"4f97b8b4-d2ec-4d5e-b9a0-202f0f774013\",\"type\":\"ColumnDataSource\"},\"glyph\":{\"id\":\"d36c4041-464e-4e02-a473-9e72afd2d5bb\",\"type\":\"VBar\"},\"hover_glyph\":null,\"muted_glyph\":null,\"nonselection_glyph\":{\"id\":\"ec817afc-c1d1-4bf4-8364-a8b444a56518\",\"type\":\"VBar\"},\"selection_glyph\":null,\"view\":{\"id\":\"e1993df0-ab42-4971-bfa4-f1c9b6f6d16f\",\"type\":\"CDSView\"}},\"id\":\"a7872b8a-1ecb-40db-96d2-2e7f62923d55\",\"type\":\"GlyphRenderer\"},{\"attributes\":{\"plot\":{\"id\":\"17cbc886-1d20-4b73-8bff-10d7970d0a32\",\"subtype\":\"Figure\",\"type\":\"Plot\"},\"ticker\":{\"id\":\"cc229e7f-126e-4720-949d-39498e652458\",\"type\":\"CategoricalTicker\"}},\"id\":\"b40f55d2-3f7b-4774-bb65-203a9417c116\",\"type\":\"Grid\"},{\"attributes\":{\"plot\":null,\"text\":\"Countries by unique users\"},\"id\":\"8d40fa83-124c-4b7f-8b18-9589abdd3a9f\",\"type\":\"Title\"},{\"attributes\":{},\"id\":\"a697f036-e8a0-485c-b4d6-f367eaa15d65\",\"type\":\"PanTool\"},{\"attributes\":{},\"id\":\"cc229e7f-126e-4720-949d-39498e652458\",\"type\":\"CategoricalTicker\"},{\"attributes\":{\"bottom_units\":\"screen\",\"fill_alpha\":{\"value\":0.5},\"fill_color\":{\"value\":\"lightgrey\"},\"left_units\":\"screen\",\"level\":\"overlay\",\"line_alpha\":{\"value\":1.0},\"line_color\":{\"value\":\"black\"},\"line_dash\":[4,4],\"line_width\":{\"value\":2},\"plot\":null,\"render_mode\":\"css\",\"right_units\":\"screen\",\"top_units\":\"screen\"},\"id\":\"6a73a4cb-eb44-4621-bcd7-b9c255c60120\",\"type\":\"BoxAnnotation\"},{\"attributes\":{\"fill_alpha\":{\"value\":0.1},\"fill_color\":{\"value\":\"#1f77b4\"},\"line_alpha\":{\"value\":0.1},\"line_color\":{\"value\":\"#1f77b4\"},\"line_width\":{\"value\":2},\"top\":{\"field\":\"top\"},\"width\":{\"value\":0.9},\"x\":{\"field\":\"x\"}},\"id\":\"ec817afc-c1d1-4bf4-8364-a8b444a56518\",\"type\":\"VBar\"},{\"attributes\":{\"overlay\":{\"id\":\"6a73a4cb-eb44-4621-bcd7-b9c255c60120\",\"type\":\"BoxAnnotation\"}},\"id\":\"18022ba6-eed5-497b-a5e6-751c42a81b35\",\"type\":\"BoxZoomTool\"},{\"attributes\":{},\"id\":\"d42b1802-e7ef-4665-b9e0-3747d742905e\",\"type\":\"BasicTickFormatter\"},{\"attributes\":{\"callback\":null,\"factors\":[\"Indonesia\",\"Romania\",\"Portugal\",\"Germany\",\"France\",\"Finland\",\"Poland\",\"USA\",\"China\",\"India\"]},\"id\":\"cd9e83f6-e148-4bb8-b0da-77c37c5570df\",\"type\":\"FactorRange\"},{\"attributes\":{},\"id\":\"fb911d41-2ddf-4da9-ad0e-5034b6651d3f\",\"type\":\"CategoricalScale\"},{\"attributes\":{},\"id\":\"d18a276e-44e0-4f47-92d2-a121dd31c352\",\"type\":\"SaveTool\"},{\"attributes\":{},\"id\":\"bd0a23ad-bc8b-4692-bfc7-6f4d439d39a2\",\"type\":\"BasicTicker\"}],\"root_ids\":[\"17cbc886-1d20-4b73-8bff-10d7970d0a32\"]},\"title\":\"Bokeh Application\",\"version\":\"0.12.13\"}};\n",
       "  var render_items = [{\"docid\":\"e83e5525-b887-4d3b-8f95-92eff4b6bd8a\",\"elementid\":\"c1d1a56b-2d89-4096-8a9d-6fee10dedd16\",\"modelid\":\"17cbc886-1d20-4b73-8bff-10d7970d0a32\"}];\n",
       "  root.Bokeh.embed.embed_items_notebook(docs_json, render_items);\n",
       "\n",
       "  }\n",
       "  if (root.Bokeh !== undefined) {\n",
       "    embed_document(root);\n",
       "  } else {\n",
       "    var attempts = 0;\n",
       "    var timer = setInterval(function(root) {\n",
       "      if (root.Bokeh !== undefined) {\n",
       "        embed_document(root);\n",
       "        clearInterval(timer);\n",
       "      }\n",
       "      attempts++;\n",
       "      if (attempts > 100) {\n",
       "        console.log(\"Bokeh: ERROR: Unable to run BokehJS code because BokehJS library is missing\")\n",
       "        clearInterval(timer);\n",
       "      }\n",
       "    }, 10, root)\n",
       "  }\n",
       "})(window);"
      ],
      "application/vnd.bokehjs_exec.v0+json": ""
     },
     "metadata": {
      "application/vnd.bokehjs_exec.v0+json": {
       "id": "17cbc886-1d20-4b73-8bff-10d7970d0a32"
      }
     },
     "output_type": "display_data"
    }
   ],
   "source": [
    "plot(data.drop_duplicates('userName').groupby('country').size().sort_values().tail(10), 'Countries by unique users')"
   ]
  },
  {
   "cell_type": "code",
   "execution_count": null,
   "metadata": {},
   "outputs": [],
   "source": []
  },
  {
   "cell_type": "code",
   "execution_count": null,
   "metadata": {},
   "outputs": [],
   "source": []
  },
  {
   "cell_type": "code",
   "execution_count": null,
   "metadata": {},
   "outputs": [],
   "source": []
  },
  {
   "cell_type": "code",
   "execution_count": null,
   "metadata": {},
   "outputs": [],
   "source": []
  },
  {
   "cell_type": "code",
   "execution_count": null,
   "metadata": {},
   "outputs": [],
   "source": []
  }
 ],
 "metadata": {
  "kernelspec": {
   "display_name": "Python 3",
   "language": "python",
   "name": "python3"
  },
  "language_info": {
   "codemirror_mode": {
    "name": "ipython",
    "version": 3
   },
   "file_extension": ".py",
   "mimetype": "text/x-python",
   "name": "python",
   "nbconvert_exporter": "python",
   "pygments_lexer": "ipython3",
   "version": "3.6.4"
  }
 },
 "nbformat": 4,
 "nbformat_minor": 2
}
