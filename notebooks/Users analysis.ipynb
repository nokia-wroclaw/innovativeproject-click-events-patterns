{
 "cells": [
  {
   "cell_type": "code",
   "execution_count": 39,
   "metadata": {},
   "outputs": [],
   "source": [
    "import Plots\n",
    "import pandas\n",
    "import numpy as np\n",
    "import math\n",
    "import functools\n",
    "import bokeh\n",
    "from bokeh.core.properties import value\n",
    "from bokeh.io import show, output_file\n",
    "from bokeh.models import ColumnDataSource\n",
    "from bokeh.plotting import figure\n",
    "from bokeh.io import output_notebook\n",
    "from collections import Counter\n",
    "data = pandas.read_csv('C:\\\\Users\\\\Robert\\\\Desktop\\\\write.csv')"
   ]
  },
  {
   "cell_type": "code",
   "execution_count": 40,
   "metadata": {},
   "outputs": [],
   "source": [
    "def divide(x,y):\n",
    "    if(y==0):\n",
    "        return -1.0\n",
    "    else:\n",
    "        return x/y"
   ]
  },
  {
   "cell_type": "code",
   "execution_count": 41,
   "metadata": {},
   "outputs": [],
   "source": [
    "data['timeSpent']=data['timeSpent'].fillna(0.0)\n",
    "data['time']=data.groupby('idVisit').cumsum()['timeSpent']\n",
    "durations=data['duration']=data.groupby('idVisit').sum()['timeSpent']\n",
    "#durations\n",
    "data['duration']=list(map(lambda x:durations[x],data.idVisit))\n",
    "data[\"segment\"]=data.apply(lambda x: math.floor(10*divide(x.time,x.duration)), axis=1)\n",
    "data[\"number\"]=data.groupby('idVisit').cumcount()"
   ]
  },
  {
   "cell_type": "code",
   "execution_count": 42,
   "metadata": {},
   "outputs": [],
   "source": [
    "___d___=data"
   ]
  },
  {
   "cell_type": "code",
   "execution_count": 45,
   "metadata": {},
   "outputs": [],
   "source": [
    "data=___d___"
   ]
  },
  {
   "cell_type": "code",
   "execution_count": 46,
   "metadata": {},
   "outputs": [
    {
     "name": "stdout",
     "output_type": "stream",
     "text": [
      "W logach pojawia się 7408 unikalnych nazw użytkowników\n",
      "Akcje wykonane przez jednego użytkownika:\n",
      "  -średnia: 42.531452483801296\n",
      "  -mediana: 9.0\n",
      "  -maksimum: 1466\n",
      "Sesje jednego użykownika:\n",
      "  -średnia: 7.422246220302376\n",
      "  -mediana: 2.0\n",
      "  -mediana: 266\n",
      "Akcje wykonane w czasie jednej sesji:\n",
      "  -średnia: 5.730266986759784\n",
      "  -mediana: 2.0\n",
      "  -maksimum: 1201\n"
     ]
    }
   ],
   "source": [
    "\n",
    "print(\"W logach pojawia się \"+ str(data.userName.nunique()) +\" unikalnych nazw użytkowników\")\n",
    "print(\"Akcje wykonane przez jednego użytkownika:\")\n",
    "print(\"  -średnia: \"+str(data.shape[0]/data.userName.nunique()))\n",
    "print(\"  -mediana: \"+str(np.median(data.groupby(\"userName\").size().values)))\n",
    "print(\"  -maksimum: \"+str(np.max(data.groupby(\"userName\").size().values)))\n",
    "print(\"Sesje jednego użykownika:\")\n",
    "print(\"  -średnia: \"+str(data.idVisit.nunique()/data.userName.nunique()))\n",
    "print(\"  -mediana: \"+str(np.median(data.groupby(\"userName\").idVisit.nunique().values)))\n",
    "print(\"  -mediana: \"+str(np.max(data.groupby(\"userName\").idVisit.nunique().values)))\n",
    "print(\"Akcje wykonane w czasie jednej sesji:\")\n",
    "print(\"  -średnia: \"+str(np.mean(data.groupby(\"idVisit\").size().values)))\n",
    "print(\"  -mediana: \"+str(np.median(data.groupby(\"idVisit\").size().values)))\n",
    "print(\"  -maksimum: \"+str(np.max(data.groupby(\"idVisit\").size().values)))"
   ]
  },
  {
   "cell_type": "code",
   "execution_count": 48,
   "metadata": {},
   "outputs": [
    {
     "name": "stdout",
     "output_type": "stream",
     "text": [
      "W logach pojawia się 1248 unikalnych nazw użytkowników\n",
      "Akcje wykonane w czasie jednej sesji w marcu 2018:\n",
      "  -średnia: 37.972007722007724\n",
      "  -mediana: 13.0\n",
      "  -maksimum: 1201\n"
     ]
    }
   ],
   "source": [
    "data1=data[data.serverTime.apply(lambda x:x[0:7])==\"2018-03\"]\n",
    "print(\"W logach pojawia się \"+ str(data1.userName.nunique()) +\" unikalnych nazw użytkowników\")\n",
    "print(\"Akcje wykonane w czasie jednej sesji w marcu 2018:\")\n",
    "print(\"  -średnia: \"+str(np.mean(data1.groupby(\"idVisit\").size().values)))\n",
    "print(\"  -mediana: \"+str(np.median(data1.groupby(\"idVisit\").size().values)))\n",
    "print(\"  -maksimum: \"+str(np.max(data1.groupby(\"idVisit\").size().values)))"
   ]
  },
  {
   "cell_type": "code",
   "execution_count": 130,
   "metadata": {},
   "outputs": [
    {
     "name": "stdout",
     "output_type": "stream",
     "text": [
      "Stosunkowo jak często użytkownicy korzystali z danej kategorii akcji\n",
      "                        actionCategory    całość\n",
      "0                       WebNei clicked  0.299175\n",
      "1                    Webnei downloaded  0.258845\n",
      "2               Read document backward  0.185227\n",
      "3                  Category downloaded  0.078261\n",
      "4                         Release type  0.036027\n",
      "5       CategoryChip filtering Clicked  0.035351\n",
      "6                Read document forward  0.034084\n",
      "7                Tag filtering Clicked  0.013629\n",
      "8                Top filtering Clicked  0.008569\n",
      "9         Favourites filtering Clicked  0.007179\n",
      "10          Category filtering Clicked  0.006716\n",
      "11                       Other clicked  0.006513\n",
      "12                    Other downloaded  0.005177\n",
      "13             Order filtering Clicked  0.004421\n",
      "14  Type of Document filtering Clicked  0.003504\n",
      "15                  Release technology  0.003374\n",
      "16             Scope filtering Clicked  0.003212\n",
      "17         Internals filtering Clicked  0.002999\n",
      "18                    Full screen read  0.002203\n",
      "19                         Edit WebNei  0.001416\n",
      "20               HVF filtering Clicked  0.001098\n",
      "21             Search in document used  0.000790\n",
      "22                     pdfViewer error  0.000743\n",
      "23       Early birds filtering Clicked  0.000628\n",
      "24                       Delete WebNei  0.000238\n",
      "25    Call for approval WebNei Complex  0.000187\n",
      "26                    Rate document on  0.000092\n",
      "27                      Release WebNei  0.000083\n",
      "28              Release WebNei Complex  0.000060\n",
      "29         Release type double Clicked  0.000060\n",
      "30            Call for approval WebNei  0.000054\n",
      "31               Delete WebNei Complex  0.000032\n",
      "32                          Edit Other  0.000019\n",
      "33                     New WebNei Path  0.000016\n",
      "34                        Release Path  0.000010\n",
      "35                    WebNei%20clicked  0.000006\n",
      "36                         Delete Path  0.000003\n",
      "Stosunkowo jak często użytkownicy korzystali z danej kategorii akcji w danych częsciach trwania akcji\n",
      "                        actionCategory  segment 0  segment 1-8  segment 9-10\n",
      "0                       WebNei clicked   0.423221     0.207272      0.358774\n",
      "1               Read document backward   0.221743     0.265235      0.054945\n",
      "2                    Webnei downloaded   0.138406     0.250916      0.335133\n",
      "3       CategoryChip filtering Clicked   0.042601     0.032388      0.035507\n",
      "4                  Category downloaded   0.041370     0.078552      0.097874\n",
      "5                         Release type   0.031639     0.043099      0.028641\n",
      "6                Read document forward   0.029518     0.051942      0.011904\n",
      "7                Tag filtering Clicked   0.009834     0.015872      0.012590\n",
      "8                Top filtering Clicked   0.009440     0.007499      0.009575\n",
      "9                        Other clicked   0.008021     0.004979      0.007812\n",
      "10          Category filtering Clicked   0.007696     0.006451      0.006550\n",
      "11        Favourites filtering Clicked   0.007508     0.006585      0.007821\n",
      "12  Type of Document filtering Clicked   0.004019     0.003346      0.003442\n",
      "13                  Release technology   0.003797     0.003131      0.003479\n",
      "14             Scope filtering Clicked   0.003728     0.002997      0.003229\n",
      "15             Order filtering Clicked   0.003711     0.004092      0.005261\n",
      "16         Internals filtering Clicked   0.003609     0.002345      0.003572\n",
      "17                    Other downloaded   0.003455     0.004939      0.006439\n",
      "18                    Full screen read   0.003078     0.002910      0.000752\n",
      "19                         Edit WebNei   0.000821     0.000961      0.002366\n",
      "20               HVF filtering Clicked   0.000650     0.001330      0.001021\n",
      "21             Search in document used   0.000633     0.001149      0.000380\n",
      "22       Early birds filtering Clicked   0.000462     0.000685      0.000640\n",
      "23                     pdfViewer error   0.000342     0.000699      0.001021\n",
      "24                       Delete WebNei   0.000222     0.000161      0.000353\n",
      "25                    Rate document on   0.000154     0.000101      0.000046\n",
      "26    Call for approval WebNei Complex   0.000137     0.000054      0.000399\n",
      "27                      Release WebNei   0.000068     0.000060      0.000121\n",
      "28              Release WebNei Complex   0.000034     0.000060      0.000074\n",
      "29         Release type double Clicked   0.000034     0.000067      0.000065\n",
      "30                     New WebNei Path   0.000017     0.000020      0.000009\n",
      "31                        Release Path   0.000017     0.000007      0.000009\n",
      "32            Call for approval WebNei   0.000017     0.000013      0.000130\n",
      "33               Delete WebNei Complex   0.000000     0.000040      0.000037\n",
      "34                          Edit Other   0.000000     0.000027      0.000019\n",
      "35                    WebNei%20clicked   0.000000     0.000013      0.000000\n",
      "36                         Delete Path   0.000000     0.000000      0.000009\n"
     ]
    }
   ],
   "source": [
    "print(\"Stosunkowo jak często użytkownicy korzystali z danej kategorii akcji\")\n",
    "_all=data.groupby(\"actionCategory\").size().sort_values(ascending=False)/data.shape[0]\n",
    "_s0=data[data.segment.isin([-10,0])].groupby(\"actionCategory\").size().sort_values(ascending=False)/data[data.segment.isin([-10,0])].shape[0]\n",
    "_s1=data[data.segment.isin([1,2,3,4,5,6,7,8])].groupby(\"actionCategory\").size().sort_values(ascending=False)/data[data.segment.isin([1,2,3,4,5,6,7,8])].shape[0]\n",
    "_s2=data[data.segment.isin([9,10])].groupby(\"actionCategory\").size().sort_values(ascending=False)/data[data.segment.isin([9,10])].shape[0]\n",
    "#_all.index.isin(_s0.index.values)\n",
    "#_d1=pandas.DataFrame(_all,columns=[\"all\"])\n",
    "#pandas.merge(_d1, pandas.DataFrame([_s0.values,_s0.index.values],columns=[\"a\",\"s0\"]), how='outer', on=['index'])\n",
    "_d0=pandas.DataFrame({\"actionCategory\":_all.index.values, \"całość\":_all.values})\n",
    "_d1=pandas.DataFrame({\"actionCategory\":_s0.index.values, \"segment 0\":_s0.values})\n",
    "_d2=pandas.DataFrame({\"actionCategory\":_s1.index.values, \"segment 1-8\":_s1.values})\n",
    "_d3=pandas.DataFrame({\"actionCategory\":_s2.index.values, \"segment 9-10\":_s2.values})\n",
    "#_dd=pandas.merge(_d0,_d1,how=\"outer\",on=[\"actionCategory\"])\n",
    "_dd=pandas.merge(_d1,_d2,how=\"outer\",on=[\"actionCategory\"])\n",
    "_dd=pandas.merge(_dd,_d3,how=\"outer\",on=[\"actionCategory\"])\n",
    "_dd=_dd.fillna(0.0)\n",
    "print(_d0)\n",
    "print(\"Stosunkowo jak często użytkownicy korzystali z danej kategorii akcji w danych częsciach trwania akcji\")\n",
    "print(_dd)"
   ]
  },
  {
   "cell_type": "code",
   "execution_count": null,
   "metadata": {},
   "outputs": [],
   "source": []
  }
 ],
 "metadata": {
  "kernelspec": {
   "display_name": "Python 3",
   "language": "python",
   "name": "python3"
  },
  "language_info": {
   "codemirror_mode": {
    "name": "ipython",
    "version": 3
   },
   "file_extension": ".py",
   "mimetype": "text/x-python",
   "name": "python",
   "nbconvert_exporter": "python",
   "pygments_lexer": "ipython3",
   "version": "3.6.4"
  }
 },
 "nbformat": 4,
 "nbformat_minor": 2
}
