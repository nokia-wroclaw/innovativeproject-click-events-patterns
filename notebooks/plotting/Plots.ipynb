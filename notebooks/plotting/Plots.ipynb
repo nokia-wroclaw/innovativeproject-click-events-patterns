{
 "cells": [
  {
   "cell_type": "code",
   "execution_count": 117,
   "metadata": {},
   "outputs": [
    {
     "data": {
      "text/html": [
       "\n",
       "    <div class=\"bk-root\">\n",
       "        <a href=\"https://bokeh.pydata.org\" target=\"_blank\" class=\"bk-logo bk-logo-small bk-logo-notebook\"></a>\n",
       "        <span id=\"8c2e5949-5288-4ca5-abcd-8a1fd7f5f72b\">Loading BokehJS ...</span>\n",
       "    </div>"
      ]
     },
     "metadata": {},
     "output_type": "display_data"
    },
    {
     "data": {
      "application/javascript": [
       "\n",
       "(function(root) {\n",
       "  function now() {\n",
       "    return new Date();\n",
       "  }\n",
       "\n",
       "  var force = true;\n",
       "\n",
       "  if (typeof (root._bokeh_onload_callbacks) === \"undefined\" || force === true) {\n",
       "    root._bokeh_onload_callbacks = [];\n",
       "    root._bokeh_is_loading = undefined;\n",
       "  }\n",
       "\n",
       "  var JS_MIME_TYPE = 'application/javascript';\n",
       "  var HTML_MIME_TYPE = 'text/html';\n",
       "  var EXEC_MIME_TYPE = 'application/vnd.bokehjs_exec.v0+json';\n",
       "  var CLASS_NAME = 'output_bokeh rendered_html';\n",
       "\n",
       "  /**\n",
       "   * Render data to the DOM node\n",
       "   */\n",
       "  function render(props, node) {\n",
       "    var script = document.createElement(\"script\");\n",
       "    node.appendChild(script);\n",
       "  }\n",
       "\n",
       "  /**\n",
       "   * Handle when an output is cleared or removed\n",
       "   */\n",
       "  function handleClearOutput(event, handle) {\n",
       "    var cell = handle.cell;\n",
       "\n",
       "    var id = cell.output_area._bokeh_element_id;\n",
       "    var server_id = cell.output_area._bokeh_server_id;\n",
       "    // Clean up Bokeh references\n",
       "    if (id !== undefined) {\n",
       "      Bokeh.index[id].model.document.clear();\n",
       "      delete Bokeh.index[id];\n",
       "    }\n",
       "\n",
       "    if (server_id !== undefined) {\n",
       "      // Clean up Bokeh references\n",
       "      var cmd = \"from bokeh.io.state import curstate; print(curstate().uuid_to_server['\" + server_id + \"'].get_sessions()[0].document.roots[0]._id)\";\n",
       "      cell.notebook.kernel.execute(cmd, {\n",
       "        iopub: {\n",
       "          output: function(msg) {\n",
       "            var element_id = msg.content.text.trim();\n",
       "            Bokeh.index[element_id].model.document.clear();\n",
       "            delete Bokeh.index[element_id];\n",
       "          }\n",
       "        }\n",
       "      });\n",
       "      // Destroy server and session\n",
       "      var cmd = \"import bokeh.io.notebook as ion; ion.destroy_server('\" + server_id + \"')\";\n",
       "      cell.notebook.kernel.execute(cmd);\n",
       "    }\n",
       "  }\n",
       "\n",
       "  /**\n",
       "   * Handle when a new output is added\n",
       "   */\n",
       "  function handleAddOutput(event, handle) {\n",
       "    var output_area = handle.output_area;\n",
       "    var output = handle.output;\n",
       "\n",
       "    // limit handleAddOutput to display_data with EXEC_MIME_TYPE content only\n",
       "    if ((output.output_type != \"display_data\") || (!output.data.hasOwnProperty(EXEC_MIME_TYPE))) {\n",
       "      return\n",
       "    }\n",
       "\n",
       "    var toinsert = output_area.element.find(\".\" + CLASS_NAME.split(' ')[0]);\n",
       "\n",
       "    if (output.metadata[EXEC_MIME_TYPE][\"id\"] !== undefined) {\n",
       "      toinsert[0].firstChild.textContent = output.data[JS_MIME_TYPE];\n",
       "      // store reference to embed id on output_area\n",
       "      output_area._bokeh_element_id = output.metadata[EXEC_MIME_TYPE][\"id\"];\n",
       "    }\n",
       "    if (output.metadata[EXEC_MIME_TYPE][\"server_id\"] !== undefined) {\n",
       "      var bk_div = document.createElement(\"div\");\n",
       "      bk_div.innerHTML = output.data[HTML_MIME_TYPE];\n",
       "      var script_attrs = bk_div.children[0].attributes;\n",
       "      for (var i = 0; i < script_attrs.length; i++) {\n",
       "        toinsert[0].firstChild.setAttribute(script_attrs[i].name, script_attrs[i].value);\n",
       "      }\n",
       "      // store reference to server id on output_area\n",
       "      output_area._bokeh_server_id = output.metadata[EXEC_MIME_TYPE][\"server_id\"];\n",
       "    }\n",
       "  }\n",
       "\n",
       "  function register_renderer(events, OutputArea) {\n",
       "\n",
       "    function append_mime(data, metadata, element) {\n",
       "      // create a DOM node to render to\n",
       "      var toinsert = this.create_output_subarea(\n",
       "        metadata,\n",
       "        CLASS_NAME,\n",
       "        EXEC_MIME_TYPE\n",
       "      );\n",
       "      this.keyboard_manager.register_events(toinsert);\n",
       "      // Render to node\n",
       "      var props = {data: data, metadata: metadata[EXEC_MIME_TYPE]};\n",
       "      render(props, toinsert[0]);\n",
       "      element.append(toinsert);\n",
       "      return toinsert\n",
       "    }\n",
       "\n",
       "    /* Handle when an output is cleared or removed */\n",
       "    events.on('clear_output.CodeCell', handleClearOutput);\n",
       "    events.on('delete.Cell', handleClearOutput);\n",
       "\n",
       "    /* Handle when a new output is added */\n",
       "    events.on('output_added.OutputArea', handleAddOutput);\n",
       "\n",
       "    /**\n",
       "     * Register the mime type and append_mime function with output_area\n",
       "     */\n",
       "    OutputArea.prototype.register_mime_type(EXEC_MIME_TYPE, append_mime, {\n",
       "      /* Is output safe? */\n",
       "      safe: true,\n",
       "      /* Index of renderer in `output_area.display_order` */\n",
       "      index: 0\n",
       "    });\n",
       "  }\n",
       "\n",
       "  // register the mime type if in Jupyter Notebook environment and previously unregistered\n",
       "  if (root.Jupyter !== undefined) {\n",
       "    var events = require('base/js/events');\n",
       "    var OutputArea = require('notebook/js/outputarea').OutputArea;\n",
       "\n",
       "    if (OutputArea.prototype.mime_types().indexOf(EXEC_MIME_TYPE) == -1) {\n",
       "      register_renderer(events, OutputArea);\n",
       "    }\n",
       "  }\n",
       "\n",
       "  \n",
       "  if (typeof (root._bokeh_timeout) === \"undefined\" || force === true) {\n",
       "    root._bokeh_timeout = Date.now() + 5000;\n",
       "    root._bokeh_failed_load = false;\n",
       "  }\n",
       "\n",
       "  var NB_LOAD_WARNING = {'data': {'text/html':\n",
       "     \"<div style='background-color: #fdd'>\\n\"+\n",
       "     \"<p>\\n\"+\n",
       "     \"BokehJS does not appear to have successfully loaded. If loading BokehJS from CDN, this \\n\"+\n",
       "     \"may be due to a slow or bad network connection. Possible fixes:\\n\"+\n",
       "     \"</p>\\n\"+\n",
       "     \"<ul>\\n\"+\n",
       "     \"<li>re-rerun `output_notebook()` to attempt to load from CDN again, or</li>\\n\"+\n",
       "     \"<li>use INLINE resources instead, as so:</li>\\n\"+\n",
       "     \"</ul>\\n\"+\n",
       "     \"<code>\\n\"+\n",
       "     \"from bokeh.resources import INLINE\\n\"+\n",
       "     \"output_notebook(resources=INLINE)\\n\"+\n",
       "     \"</code>\\n\"+\n",
       "     \"</div>\"}};\n",
       "\n",
       "  function display_loaded() {\n",
       "    var el = document.getElementById(\"8c2e5949-5288-4ca5-abcd-8a1fd7f5f72b\");\n",
       "    if (el != null) {\n",
       "      el.textContent = \"BokehJS is loading...\";\n",
       "    }\n",
       "    if (root.Bokeh !== undefined) {\n",
       "      if (el != null) {\n",
       "        el.textContent = \"BokehJS \" + root.Bokeh.version + \" successfully loaded.\";\n",
       "      }\n",
       "    } else if (Date.now() < root._bokeh_timeout) {\n",
       "      setTimeout(display_loaded, 100)\n",
       "    }\n",
       "  }\n",
       "\n",
       "\n",
       "  function run_callbacks() {\n",
       "    try {\n",
       "      root._bokeh_onload_callbacks.forEach(function(callback) { callback() });\n",
       "    }\n",
       "    finally {\n",
       "      delete root._bokeh_onload_callbacks\n",
       "    }\n",
       "    console.info(\"Bokeh: all callbacks have finished\");\n",
       "  }\n",
       "\n",
       "  function load_libs(js_urls, callback) {\n",
       "    root._bokeh_onload_callbacks.push(callback);\n",
       "    if (root._bokeh_is_loading > 0) {\n",
       "      console.log(\"Bokeh: BokehJS is being loaded, scheduling callback at\", now());\n",
       "      return null;\n",
       "    }\n",
       "    if (js_urls == null || js_urls.length === 0) {\n",
       "      run_callbacks();\n",
       "      return null;\n",
       "    }\n",
       "    console.log(\"Bokeh: BokehJS not loaded, scheduling load and callback at\", now());\n",
       "    root._bokeh_is_loading = js_urls.length;\n",
       "    for (var i = 0; i < js_urls.length; i++) {\n",
       "      var url = js_urls[i];\n",
       "      var s = document.createElement('script');\n",
       "      s.src = url;\n",
       "      s.async = false;\n",
       "      s.onreadystatechange = s.onload = function() {\n",
       "        root._bokeh_is_loading--;\n",
       "        if (root._bokeh_is_loading === 0) {\n",
       "          console.log(\"Bokeh: all BokehJS libraries loaded\");\n",
       "          run_callbacks()\n",
       "        }\n",
       "      };\n",
       "      s.onerror = function() {\n",
       "        console.warn(\"failed to load library \" + url);\n",
       "      };\n",
       "      console.log(\"Bokeh: injecting script tag for BokehJS library: \", url);\n",
       "      document.getElementsByTagName(\"head\")[0].appendChild(s);\n",
       "    }\n",
       "  };var element = document.getElementById(\"8c2e5949-5288-4ca5-abcd-8a1fd7f5f72b\");\n",
       "  if (element == null) {\n",
       "    console.log(\"Bokeh: ERROR: autoload.js configured with elementid '8c2e5949-5288-4ca5-abcd-8a1fd7f5f72b' but no matching script tag was found. \")\n",
       "    return false;\n",
       "  }\n",
       "\n",
       "  var js_urls = [\"https://cdn.pydata.org/bokeh/release/bokeh-0.12.13.min.js\", \"https://cdn.pydata.org/bokeh/release/bokeh-widgets-0.12.13.min.js\", \"https://cdn.pydata.org/bokeh/release/bokeh-tables-0.12.13.min.js\", \"https://cdn.pydata.org/bokeh/release/bokeh-gl-0.12.13.min.js\"];\n",
       "\n",
       "  var inline_js = [\n",
       "    function(Bokeh) {\n",
       "      Bokeh.set_log_level(\"info\");\n",
       "    },\n",
       "    \n",
       "    function(Bokeh) {\n",
       "      \n",
       "    },\n",
       "    function(Bokeh) {\n",
       "      console.log(\"Bokeh: injecting CSS: https://cdn.pydata.org/bokeh/release/bokeh-0.12.13.min.css\");\n",
       "      Bokeh.embed.inject_css(\"https://cdn.pydata.org/bokeh/release/bokeh-0.12.13.min.css\");\n",
       "      console.log(\"Bokeh: injecting CSS: https://cdn.pydata.org/bokeh/release/bokeh-widgets-0.12.13.min.css\");\n",
       "      Bokeh.embed.inject_css(\"https://cdn.pydata.org/bokeh/release/bokeh-widgets-0.12.13.min.css\");\n",
       "      console.log(\"Bokeh: injecting CSS: https://cdn.pydata.org/bokeh/release/bokeh-tables-0.12.13.min.css\");\n",
       "      Bokeh.embed.inject_css(\"https://cdn.pydata.org/bokeh/release/bokeh-tables-0.12.13.min.css\");\n",
       "    }\n",
       "  ];\n",
       "\n",
       "  function run_inline_js() {\n",
       "    \n",
       "    if ((root.Bokeh !== undefined) || (force === true)) {\n",
       "      for (var i = 0; i < inline_js.length; i++) {\n",
       "        inline_js[i].call(root, root.Bokeh);\n",
       "      }if (force === true) {\n",
       "        display_loaded();\n",
       "      }} else if (Date.now() < root._bokeh_timeout) {\n",
       "      setTimeout(run_inline_js, 100);\n",
       "    } else if (!root._bokeh_failed_load) {\n",
       "      console.log(\"Bokeh: BokehJS failed to load within specified timeout.\");\n",
       "      root._bokeh_failed_load = true;\n",
       "    } else if (force !== true) {\n",
       "      var cell = $(document.getElementById(\"8c2e5949-5288-4ca5-abcd-8a1fd7f5f72b\")).parents('.cell').data().cell;\n",
       "      cell.output_area.append_execute_result(NB_LOAD_WARNING)\n",
       "    }\n",
       "\n",
       "  }\n",
       "\n",
       "  if (root._bokeh_is_loading === 0) {\n",
       "    console.log(\"Bokeh: BokehJS loaded, going straight to plotting\");\n",
       "    run_inline_js();\n",
       "  } else {\n",
       "    load_libs(js_urls, function() {\n",
       "      console.log(\"Bokeh: BokehJS plotting callback run at\", now());\n",
       "      run_inline_js();\n",
       "    });\n",
       "  }\n",
       "}(window));"
      ],
      "application/vnd.bokehjs_load.v0+json": "\n(function(root) {\n  function now() {\n    return new Date();\n  }\n\n  var force = true;\n\n  if (typeof (root._bokeh_onload_callbacks) === \"undefined\" || force === true) {\n    root._bokeh_onload_callbacks = [];\n    root._bokeh_is_loading = undefined;\n  }\n\n  \n\n  \n  if (typeof (root._bokeh_timeout) === \"undefined\" || force === true) {\n    root._bokeh_timeout = Date.now() + 5000;\n    root._bokeh_failed_load = false;\n  }\n\n  var NB_LOAD_WARNING = {'data': {'text/html':\n     \"<div style='background-color: #fdd'>\\n\"+\n     \"<p>\\n\"+\n     \"BokehJS does not appear to have successfully loaded. If loading BokehJS from CDN, this \\n\"+\n     \"may be due to a slow or bad network connection. Possible fixes:\\n\"+\n     \"</p>\\n\"+\n     \"<ul>\\n\"+\n     \"<li>re-rerun `output_notebook()` to attempt to load from CDN again, or</li>\\n\"+\n     \"<li>use INLINE resources instead, as so:</li>\\n\"+\n     \"</ul>\\n\"+\n     \"<code>\\n\"+\n     \"from bokeh.resources import INLINE\\n\"+\n     \"output_notebook(resources=INLINE)\\n\"+\n     \"</code>\\n\"+\n     \"</div>\"}};\n\n  function display_loaded() {\n    var el = document.getElementById(\"8c2e5949-5288-4ca5-abcd-8a1fd7f5f72b\");\n    if (el != null) {\n      el.textContent = \"BokehJS is loading...\";\n    }\n    if (root.Bokeh !== undefined) {\n      if (el != null) {\n        el.textContent = \"BokehJS \" + root.Bokeh.version + \" successfully loaded.\";\n      }\n    } else if (Date.now() < root._bokeh_timeout) {\n      setTimeout(display_loaded, 100)\n    }\n  }\n\n\n  function run_callbacks() {\n    try {\n      root._bokeh_onload_callbacks.forEach(function(callback) { callback() });\n    }\n    finally {\n      delete root._bokeh_onload_callbacks\n    }\n    console.info(\"Bokeh: all callbacks have finished\");\n  }\n\n  function load_libs(js_urls, callback) {\n    root._bokeh_onload_callbacks.push(callback);\n    if (root._bokeh_is_loading > 0) {\n      console.log(\"Bokeh: BokehJS is being loaded, scheduling callback at\", now());\n      return null;\n    }\n    if (js_urls == null || js_urls.length === 0) {\n      run_callbacks();\n      return null;\n    }\n    console.log(\"Bokeh: BokehJS not loaded, scheduling load and callback at\", now());\n    root._bokeh_is_loading = js_urls.length;\n    for (var i = 0; i < js_urls.length; i++) {\n      var url = js_urls[i];\n      var s = document.createElement('script');\n      s.src = url;\n      s.async = false;\n      s.onreadystatechange = s.onload = function() {\n        root._bokeh_is_loading--;\n        if (root._bokeh_is_loading === 0) {\n          console.log(\"Bokeh: all BokehJS libraries loaded\");\n          run_callbacks()\n        }\n      };\n      s.onerror = function() {\n        console.warn(\"failed to load library \" + url);\n      };\n      console.log(\"Bokeh: injecting script tag for BokehJS library: \", url);\n      document.getElementsByTagName(\"head\")[0].appendChild(s);\n    }\n  };var element = document.getElementById(\"8c2e5949-5288-4ca5-abcd-8a1fd7f5f72b\");\n  if (element == null) {\n    console.log(\"Bokeh: ERROR: autoload.js configured with elementid '8c2e5949-5288-4ca5-abcd-8a1fd7f5f72b' but no matching script tag was found. \")\n    return false;\n  }\n\n  var js_urls = [\"https://cdn.pydata.org/bokeh/release/bokeh-0.12.13.min.js\", \"https://cdn.pydata.org/bokeh/release/bokeh-widgets-0.12.13.min.js\", \"https://cdn.pydata.org/bokeh/release/bokeh-tables-0.12.13.min.js\", \"https://cdn.pydata.org/bokeh/release/bokeh-gl-0.12.13.min.js\"];\n\n  var inline_js = [\n    function(Bokeh) {\n      Bokeh.set_log_level(\"info\");\n    },\n    \n    function(Bokeh) {\n      \n    },\n    function(Bokeh) {\n      console.log(\"Bokeh: injecting CSS: https://cdn.pydata.org/bokeh/release/bokeh-0.12.13.min.css\");\n      Bokeh.embed.inject_css(\"https://cdn.pydata.org/bokeh/release/bokeh-0.12.13.min.css\");\n      console.log(\"Bokeh: injecting CSS: https://cdn.pydata.org/bokeh/release/bokeh-widgets-0.12.13.min.css\");\n      Bokeh.embed.inject_css(\"https://cdn.pydata.org/bokeh/release/bokeh-widgets-0.12.13.min.css\");\n      console.log(\"Bokeh: injecting CSS: https://cdn.pydata.org/bokeh/release/bokeh-tables-0.12.13.min.css\");\n      Bokeh.embed.inject_css(\"https://cdn.pydata.org/bokeh/release/bokeh-tables-0.12.13.min.css\");\n    }\n  ];\n\n  function run_inline_js() {\n    \n    if ((root.Bokeh !== undefined) || (force === true)) {\n      for (var i = 0; i < inline_js.length; i++) {\n        inline_js[i].call(root, root.Bokeh);\n      }if (force === true) {\n        display_loaded();\n      }} else if (Date.now() < root._bokeh_timeout) {\n      setTimeout(run_inline_js, 100);\n    } else if (!root._bokeh_failed_load) {\n      console.log(\"Bokeh: BokehJS failed to load within specified timeout.\");\n      root._bokeh_failed_load = true;\n    } else if (force !== true) {\n      var cell = $(document.getElementById(\"8c2e5949-5288-4ca5-abcd-8a1fd7f5f72b\")).parents('.cell').data().cell;\n      cell.output_area.append_execute_result(NB_LOAD_WARNING)\n    }\n\n  }\n\n  if (root._bokeh_is_loading === 0) {\n    console.log(\"Bokeh: BokehJS loaded, going straight to plotting\");\n    run_inline_js();\n  } else {\n    load_libs(js_urls, function() {\n      console.log(\"Bokeh: BokehJS plotting callback run at\", now());\n      run_inline_js();\n    });\n  }\n}(window));"
     },
     "metadata": {},
     "output_type": "display_data"
    }
   ],
   "source": [
    "import pandas\n",
    "import numpy as np\n",
    "import math\n",
    "import functools\n",
    "import bokeh\n",
    "from bokeh.core.properties import value\n",
    "from bokeh.io import show, output_file\n",
    "from bokeh.models import ColumnDataSource\n",
    "from bokeh.plotting import figure\n",
    "from bokeh.io import output_notebook\n",
    "from collections import Counter\n",
    "output_notebook()"
   ]
  },
  {
   "cell_type": "code",
   "execution_count": 118,
   "metadata": {},
   "outputs": [],
   "source": [
    "PLOT_WIDTH=900\n",
    "PLOT_HEIGHT=750"
   ]
  },
  {
   "cell_type": "code",
   "execution_count": 119,
   "metadata": {},
   "outputs": [],
   "source": [
    "data = pandas.read_csv('C:\\\\Users\\\\Robert\\\\Desktop\\\\write.csv')"
   ]
  },
  {
   "cell_type": "code",
   "execution_count": 120,
   "metadata": {},
   "outputs": [],
   "source": [
    "def plot(series, title=\"\",y_axis_label=\"ilość\"):\n",
    "    p = figure(title=title, x_axis_label=series.index.name, y_axis_label='ilość', x_range=series.index.values, plot_width=PLOT_WIDTH, plot_height=PLOT_HEIGHT)\n",
    "    p.xaxis.major_label_orientation = math.pi/5\n",
    "    p.vbar(series.index.values, line_width=2,top=series.values,width=0.9)\n",
    "    p.xaxis.major_label_text_font_size = \"9pt\"\n",
    "    show(p)"
   ]
  },
  {
   "cell_type": "code",
   "execution_count": 121,
   "metadata": {},
   "outputs": [
    {
     "data": {
      "text/html": [
       "\n",
       "<div class=\"bk-root\">\n",
       "    <div class=\"bk-plotdiv\" id=\"e9dac717-b7e0-4ffc-b6cb-cd202db8e86a\"></div>\n",
       "</div>"
      ]
     },
     "metadata": {},
     "output_type": "display_data"
    },
    {
     "data": {
      "application/javascript": [
       "(function(root) {\n",
       "  function embed_document(root) {\n",
       "    \n",
       "  var docs_json = {\"98056ec8-081e-4472-8d9f-6a664a4aee32\":{\"roots\":{\"references\":[{\"attributes\":{\"plot\":null,\"text\":\"\"},\"id\":\"9079673a-d28e-4282-b596-9ea81d4030ab\",\"type\":\"Title\"},{\"attributes\":{},\"id\":\"b9222456-e294-48ff-853d-795ac7348aaa\",\"type\":\"CategoricalTicker\"},{\"attributes\":{\"callback\":null,\"factors\":[\"Read document backward\",\"Read document forward\",\"Category downloaded\",\"Webnei downloaded\",\"WebNei clicked\",\"Full screen read\",\"CategoryChip filtering Clicked\",\"Release type\",\"Search in document used\",\"Other clicked\",\"Tag filtering Clicked\",\"Top filtering Clicked\",\"Other downloaded\",\"Favourites filtering Clicked\",\"Order filtering Clicked\",\"Type of Document filtering Clicked\",\"Rate document on\",\"Internals filtering Clicked\",\"Scope filtering Clicked\",\"Edit WebNei\",\"pdfViewer error\",\"Release WebNei\",\"Release WebNei Complex\",\"Release type double Clicked\",\"Call for approval WebNei Complex\",\"Call for approval WebNei\"]},\"id\":\"ddf844db-da36-46e5-abd9-c3208e41a82f\",\"type\":\"FactorRange\"},{\"attributes\":{\"callback\":null,\"column_names\":[\"x\",\"top\"],\"data\":{\"top\":{\"__ndarray__\":\"0hmAUTxh5j+NF5fqjXDAPyz5Sv3fpKg/33IkXUUXqD949MMg/5GnP64rWDm8DIE/WN/NRBl/fz9oEaclMrJrP8wXJTQZnWk/muMjX6yYYT/PXkUUfyhTP1P6NzKRiFI/rsnQBFSzUT/SB+qP19FOP33GkX3gvUI/LteCYpr8PT+98HqcNqg1P+DMD4zHqDA/5HW0ByBSLD90j6xBvP0DP3SPrEG8/QM/mhTmrKWn+j6aFOaspafqPpoU5qylp+o+mhTmrKWn6j6aFOaspafqPg==\",\"dtype\":\"float64\",\"shape\":[26]},\"x\":[\"Read document backward\",\"Read document forward\",\"Category downloaded\",\"Webnei downloaded\",\"WebNei clicked\",\"Full screen read\",\"CategoryChip filtering Clicked\",\"Release type\",\"Search in document used\",\"Other clicked\",\"Tag filtering Clicked\",\"Top filtering Clicked\",\"Other downloaded\",\"Favourites filtering Clicked\",\"Order filtering Clicked\",\"Type of Document filtering Clicked\",\"Rate document on\",\"Internals filtering Clicked\",\"Scope filtering Clicked\",\"Edit WebNei\",\"pdfViewer error\",\"Release WebNei\",\"Release WebNei Complex\",\"Release type double Clicked\",\"Call for approval WebNei Complex\",\"Call for approval WebNei\"]}},\"id\":\"0251fb90-c4e6-491c-9c23-d622e92d920d\",\"type\":\"ColumnDataSource\"},{\"attributes\":{},\"id\":\"3190c694-2b16-4183-8c22-f75291a11c4a\",\"type\":\"BasicTickFormatter\"},{\"attributes\":{\"axis_label\":\"ilo\\u015b\\u0107\",\"formatter\":{\"id\":\"3190c694-2b16-4183-8c22-f75291a11c4a\",\"type\":\"BasicTickFormatter\"},\"plot\":{\"id\":\"5ddf659a-888f-44cd-ac2c-b2d3ab4c722b\",\"subtype\":\"Figure\",\"type\":\"Plot\"},\"ticker\":{\"id\":\"e2dd9e23-cbf4-4d98-8ca1-e520d6b54d69\",\"type\":\"BasicTicker\"}},\"id\":\"708b76c6-258b-472c-887c-68bcf09c2711\",\"type\":\"LinearAxis\"},{\"attributes\":{},\"id\":\"462f99f9-22f9-4101-8111-abdb0749a5a6\",\"type\":\"WheelZoomTool\"},{\"attributes\":{\"active_drag\":\"auto\",\"active_inspect\":\"auto\",\"active_scroll\":\"auto\",\"active_tap\":\"auto\",\"tools\":[{\"id\":\"f47a2b8d-c809-4083-af23-1e30a22c6381\",\"type\":\"PanTool\"},{\"id\":\"462f99f9-22f9-4101-8111-abdb0749a5a6\",\"type\":\"WheelZoomTool\"},{\"id\":\"d23efbab-01ba-424c-83f5-f7c9fb1538a6\",\"type\":\"BoxZoomTool\"},{\"id\":\"c1dc91ea-d9c8-4cce-a257-c827804fa585\",\"type\":\"SaveTool\"},{\"id\":\"31bf79b3-49ac-491c-9a75-33836e7f8d90\",\"type\":\"ResetTool\"},{\"id\":\"60641303-3e46-4c2c-a703-973aa227ff49\",\"type\":\"HelpTool\"}]},\"id\":\"9d316839-bd00-42dc-b9a6-b0aad5f4279a\",\"type\":\"Toolbar\"},{\"attributes\":{},\"id\":\"e2dd9e23-cbf4-4d98-8ca1-e520d6b54d69\",\"type\":\"BasicTicker\"},{\"attributes\":{\"overlay\":{\"id\":\"17aed867-561e-416c-8ed5-ce4f85a94036\",\"type\":\"BoxAnnotation\"}},\"id\":\"d23efbab-01ba-424c-83f5-f7c9fb1538a6\",\"type\":\"BoxZoomTool\"},{\"attributes\":{\"bottom_units\":\"screen\",\"fill_alpha\":{\"value\":0.5},\"fill_color\":{\"value\":\"lightgrey\"},\"left_units\":\"screen\",\"level\":\"overlay\",\"line_alpha\":{\"value\":1.0},\"line_color\":{\"value\":\"black\"},\"line_dash\":[4,4],\"line_width\":{\"value\":2},\"plot\":null,\"render_mode\":\"css\",\"right_units\":\"screen\",\"top_units\":\"screen\"},\"id\":\"17aed867-561e-416c-8ed5-ce4f85a94036\",\"type\":\"BoxAnnotation\"},{\"attributes\":{},\"id\":\"f47a2b8d-c809-4083-af23-1e30a22c6381\",\"type\":\"PanTool\"},{\"attributes\":{},\"id\":\"a349db1d-12e4-4113-8887-75cb58889053\",\"type\":\"LinearScale\"},{\"attributes\":{\"data_source\":{\"id\":\"0251fb90-c4e6-491c-9c23-d622e92d920d\",\"type\":\"ColumnDataSource\"},\"glyph\":{\"id\":\"93b81372-0442-4ce4-9954-4bbc13b75cfc\",\"type\":\"VBar\"},\"hover_glyph\":null,\"muted_glyph\":null,\"nonselection_glyph\":{\"id\":\"fff50606-359a-4740-abee-6338db3c9f53\",\"type\":\"VBar\"},\"selection_glyph\":null,\"view\":{\"id\":\"842ba768-ca73-431a-b3f2-a509bd6ebb30\",\"type\":\"CDSView\"}},\"id\":\"75656d63-ac62-4dd9-877a-f4674f7eea20\",\"type\":\"GlyphRenderer\"},{\"attributes\":{},\"id\":\"c1dc91ea-d9c8-4cce-a257-c827804fa585\",\"type\":\"SaveTool\"},{\"attributes\":{},\"id\":\"60641303-3e46-4c2c-a703-973aa227ff49\",\"type\":\"HelpTool\"},{\"attributes\":{\"source\":{\"id\":\"0251fb90-c4e6-491c-9c23-d622e92d920d\",\"type\":\"ColumnDataSource\"}},\"id\":\"842ba768-ca73-431a-b3f2-a509bd6ebb30\",\"type\":\"CDSView\"},{\"attributes\":{},\"id\":\"31bf79b3-49ac-491c-9a75-33836e7f8d90\",\"type\":\"ResetTool\"},{\"attributes\":{\"callback\":null},\"id\":\"500c906d-e93c-4745-91b1-935f9d4dfb73\",\"type\":\"DataRange1d\"},{\"attributes\":{\"fill_alpha\":{\"value\":0.1},\"fill_color\":{\"value\":\"#1f77b4\"},\"line_alpha\":{\"value\":0.1},\"line_color\":{\"value\":\"#1f77b4\"},\"line_width\":{\"value\":2},\"top\":{\"field\":\"top\"},\"width\":{\"value\":0.9},\"x\":{\"field\":\"x\"}},\"id\":\"fff50606-359a-4740-abee-6338db3c9f53\",\"type\":\"VBar\"},{\"attributes\":{\"dimension\":1,\"plot\":{\"id\":\"5ddf659a-888f-44cd-ac2c-b2d3ab4c722b\",\"subtype\":\"Figure\",\"type\":\"Plot\"},\"ticker\":{\"id\":\"e2dd9e23-cbf4-4d98-8ca1-e520d6b54d69\",\"type\":\"BasicTicker\"}},\"id\":\"c41d4cea-9b9b-4414-9e5e-307864d7a54b\",\"type\":\"Grid\"},{\"attributes\":{\"axis_label\":\"actionCategory\",\"formatter\":{\"id\":\"1e142622-3951-4bbd-9847-5c82ae4c2456\",\"type\":\"CategoricalTickFormatter\"},\"major_label_orientation\":0.6283185307179586,\"major_label_text_font_size\":{\"value\":\"9pt\"},\"plot\":{\"id\":\"5ddf659a-888f-44cd-ac2c-b2d3ab4c722b\",\"subtype\":\"Figure\",\"type\":\"Plot\"},\"ticker\":{\"id\":\"b9222456-e294-48ff-853d-795ac7348aaa\",\"type\":\"CategoricalTicker\"}},\"id\":\"fa2011ed-1307-4f55-9b9a-7516314f6739\",\"type\":\"CategoricalAxis\"},{\"attributes\":{\"below\":[{\"id\":\"fa2011ed-1307-4f55-9b9a-7516314f6739\",\"type\":\"CategoricalAxis\"}],\"left\":[{\"id\":\"708b76c6-258b-472c-887c-68bcf09c2711\",\"type\":\"LinearAxis\"}],\"plot_height\":750,\"plot_width\":900,\"renderers\":[{\"id\":\"fa2011ed-1307-4f55-9b9a-7516314f6739\",\"type\":\"CategoricalAxis\"},{\"id\":\"c4c38124-e8f0-4f3a-8dc9-8694723e794b\",\"type\":\"Grid\"},{\"id\":\"708b76c6-258b-472c-887c-68bcf09c2711\",\"type\":\"LinearAxis\"},{\"id\":\"c41d4cea-9b9b-4414-9e5e-307864d7a54b\",\"type\":\"Grid\"},{\"id\":\"17aed867-561e-416c-8ed5-ce4f85a94036\",\"type\":\"BoxAnnotation\"},{\"id\":\"75656d63-ac62-4dd9-877a-f4674f7eea20\",\"type\":\"GlyphRenderer\"}],\"title\":{\"id\":\"9079673a-d28e-4282-b596-9ea81d4030ab\",\"type\":\"Title\"},\"toolbar\":{\"id\":\"9d316839-bd00-42dc-b9a6-b0aad5f4279a\",\"type\":\"Toolbar\"},\"x_range\":{\"id\":\"ddf844db-da36-46e5-abd9-c3208e41a82f\",\"type\":\"FactorRange\"},\"x_scale\":{\"id\":\"619c0195-bcd6-4ae1-93b6-6e5e7a83a638\",\"type\":\"CategoricalScale\"},\"y_range\":{\"id\":\"500c906d-e93c-4745-91b1-935f9d4dfb73\",\"type\":\"DataRange1d\"},\"y_scale\":{\"id\":\"a349db1d-12e4-4113-8887-75cb58889053\",\"type\":\"LinearScale\"}},\"id\":\"5ddf659a-888f-44cd-ac2c-b2d3ab4c722b\",\"subtype\":\"Figure\",\"type\":\"Plot\"},{\"attributes\":{\"plot\":{\"id\":\"5ddf659a-888f-44cd-ac2c-b2d3ab4c722b\",\"subtype\":\"Figure\",\"type\":\"Plot\"},\"ticker\":{\"id\":\"b9222456-e294-48ff-853d-795ac7348aaa\",\"type\":\"CategoricalTicker\"}},\"id\":\"c4c38124-e8f0-4f3a-8dc9-8694723e794b\",\"type\":\"Grid\"},{\"attributes\":{},\"id\":\"1e142622-3951-4bbd-9847-5c82ae4c2456\",\"type\":\"CategoricalTickFormatter\"},{\"attributes\":{\"fill_color\":{\"value\":\"#1f77b4\"},\"line_color\":{\"value\":\"#1f77b4\"},\"line_width\":{\"value\":2},\"top\":{\"field\":\"top\"},\"width\":{\"value\":0.9},\"x\":{\"field\":\"x\"}},\"id\":\"93b81372-0442-4ce4-9954-4bbc13b75cfc\",\"type\":\"VBar\"},{\"attributes\":{},\"id\":\"619c0195-bcd6-4ae1-93b6-6e5e7a83a638\",\"type\":\"CategoricalScale\"}],\"root_ids\":[\"5ddf659a-888f-44cd-ac2c-b2d3ab4c722b\"]},\"title\":\"Bokeh Application\",\"version\":\"0.12.13\"}};\n",
       "  var render_items = [{\"docid\":\"98056ec8-081e-4472-8d9f-6a664a4aee32\",\"elementid\":\"e9dac717-b7e0-4ffc-b6cb-cd202db8e86a\",\"modelid\":\"5ddf659a-888f-44cd-ac2c-b2d3ab4c722b\"}];\n",
       "  root.Bokeh.embed.embed_items_notebook(docs_json, render_items);\n",
       "\n",
       "  }\n",
       "  if (root.Bokeh !== undefined) {\n",
       "    embed_document(root);\n",
       "  } else {\n",
       "    var attempts = 0;\n",
       "    var timer = setInterval(function(root) {\n",
       "      if (root.Bokeh !== undefined) {\n",
       "        embed_document(root);\n",
       "        clearInterval(timer);\n",
       "      }\n",
       "      attempts++;\n",
       "      if (attempts > 100) {\n",
       "        console.log(\"Bokeh: ERROR: Unable to run BokehJS code because BokehJS library is missing\")\n",
       "        clearInterval(timer);\n",
       "      }\n",
       "    }, 10, root)\n",
       "  }\n",
       "})(window);"
      ],
      "application/vnd.bokehjs_exec.v0+json": ""
     },
     "metadata": {
      "application/vnd.bokehjs_exec.v0+json": {
       "id": "5ddf659a-888f-44cd-ac2c-b2d3ab4c722b"
      }
     },
     "output_type": "display_data"
    }
   ],
   "source": [
    "s1=(data[list(map(lambda x : x[0:7]==\"2018-03\",data[\"serverTime\"]))].groupby(\"actionCategory\").size()/data[list(map(lambda x : x[0:7]==\"2018-03\",data[\"serverTime\"]))].shape[0]).sort_values(ascending=False)\n",
    "plot(s1)"
   ]
  },
  {
   "cell_type": "code",
   "execution_count": 122,
   "metadata": {},
   "outputs": [],
   "source": [
    "def plotUniquePerMonth(data, columnName):\n",
    "    amountPerMonth = data.groupby(data.serverTime.apply(lambda x:x[0:7]))[columnName].nunique()\n",
    "    p = figure(title=\"ilość \"+columnName+\" w kolejnych miesiącach\", x_axis_label='miesiąc', y_axis_label='ilość w miesiącu', x_range=amountPerMonth.index.values, plot_width=PLOT_WIDTH, plot_height=PLOT_HEIGHT)\n",
    "    p.xaxis.major_label_orientation = math.pi/5\n",
    "    p.vbar(amountPerMonth.index.values, line_width=2,top=amountPerMonth.values,width=0.9)\n",
    "    p.xaxis.major_label_text_font_size = \"9pt\"\n",
    "    show(p)"
   ]
  },
  {
   "cell_type": "code",
   "execution_count": 123,
   "metadata": {},
   "outputs": [
    {
     "data": {
      "text/html": [
       "\n",
       "<div class=\"bk-root\">\n",
       "    <div class=\"bk-plotdiv\" id=\"392b68ee-3a5a-4deb-8382-ef4b8f6bbfbd\"></div>\n",
       "</div>"
      ]
     },
     "metadata": {},
     "output_type": "display_data"
    },
    {
     "data": {
      "application/javascript": [
       "(function(root) {\n",
       "  function embed_document(root) {\n",
       "    \n",
       "  var docs_json = {\"dde674f7-7eff-4585-b197-5eb24a457e05\":{\"roots\":{\"references\":[{\"attributes\":{\"source\":{\"id\":\"efb02f10-21e1-48ab-bb76-8bedec025eb1\",\"type\":\"ColumnDataSource\"}},\"id\":\"8c5be31d-9d88-47b7-909b-c8e24f327402\",\"type\":\"CDSView\"},{\"attributes\":{},\"id\":\"ae022a95-9163-4ff9-b015-d7e71dcf4323\",\"type\":\"BasicTicker\"},{\"attributes\":{\"plot\":null,\"text\":\"ilo\\u015b\\u0107 userName w kolejnych miesi\\u0105cach\"},\"id\":\"9e2671bd-e690-485a-9687-44d9c8c30e20\",\"type\":\"Title\"},{\"attributes\":{\"axis_label\":\"ilo\\u015b\\u0107 w miesi\\u0105cu\",\"formatter\":{\"id\":\"02326608-76ab-487f-85b9-9eba8150f2ec\",\"type\":\"BasicTickFormatter\"},\"plot\":{\"id\":\"ea9c3c5b-2eed-4e2e-a84a-fd9cf2966a49\",\"subtype\":\"Figure\",\"type\":\"Plot\"},\"ticker\":{\"id\":\"ae022a95-9163-4ff9-b015-d7e71dcf4323\",\"type\":\"BasicTicker\"}},\"id\":\"baac354f-24db-4a88-8fec-93ed1701df28\",\"type\":\"LinearAxis\"},{\"attributes\":{\"bottom_units\":\"screen\",\"fill_alpha\":{\"value\":0.5},\"fill_color\":{\"value\":\"lightgrey\"},\"left_units\":\"screen\",\"level\":\"overlay\",\"line_alpha\":{\"value\":1.0},\"line_color\":{\"value\":\"black\"},\"line_dash\":[4,4],\"line_width\":{\"value\":2},\"plot\":null,\"render_mode\":\"css\",\"right_units\":\"screen\",\"top_units\":\"screen\"},\"id\":\"af0f413b-b21c-4fa8-8027-c518e6e0e911\",\"type\":\"BoxAnnotation\"},{\"attributes\":{},\"id\":\"eb86b2d1-2098-4a49-9b0f-80d09f439beb\",\"type\":\"ResetTool\"},{\"attributes\":{\"data_source\":{\"id\":\"efb02f10-21e1-48ab-bb76-8bedec025eb1\",\"type\":\"ColumnDataSource\"},\"glyph\":{\"id\":\"bae76524-bcc8-47c2-a869-da29be94f32c\",\"type\":\"VBar\"},\"hover_glyph\":null,\"muted_glyph\":null,\"nonselection_glyph\":{\"id\":\"15c72a7a-c67d-423c-8a66-77138e09ecf7\",\"type\":\"VBar\"},\"selection_glyph\":null,\"view\":{\"id\":\"8c5be31d-9d88-47b7-909b-c8e24f327402\",\"type\":\"CDSView\"}},\"id\":\"89dc2a6d-c3ab-4212-9159-5faacbd85506\",\"type\":\"GlyphRenderer\"},{\"attributes\":{},\"id\":\"02326608-76ab-487f-85b9-9eba8150f2ec\",\"type\":\"BasicTickFormatter\"},{\"attributes\":{\"fill_alpha\":{\"value\":0.1},\"fill_color\":{\"value\":\"#1f77b4\"},\"line_alpha\":{\"value\":0.1},\"line_color\":{\"value\":\"#1f77b4\"},\"line_width\":{\"value\":2},\"top\":{\"field\":\"top\"},\"width\":{\"value\":0.9},\"x\":{\"field\":\"x\"}},\"id\":\"15c72a7a-c67d-423c-8a66-77138e09ecf7\",\"type\":\"VBar\"},{\"attributes\":{},\"id\":\"a8374f15-7cf4-48a6-a5c2-0a3d7c35241e\",\"type\":\"CategoricalTicker\"},{\"attributes\":{\"axis_label\":\"miesi\\u0105c\",\"formatter\":{\"id\":\"abc3ac47-cdd2-40c0-828e-a1fc3347827c\",\"type\":\"CategoricalTickFormatter\"},\"major_label_orientation\":0.6283185307179586,\"major_label_text_font_size\":{\"value\":\"9pt\"},\"plot\":{\"id\":\"ea9c3c5b-2eed-4e2e-a84a-fd9cf2966a49\",\"subtype\":\"Figure\",\"type\":\"Plot\"},\"ticker\":{\"id\":\"a8374f15-7cf4-48a6-a5c2-0a3d7c35241e\",\"type\":\"CategoricalTicker\"}},\"id\":\"b25fc469-ebc5-4308-a68e-9ec6e07c6afb\",\"type\":\"CategoricalAxis\"},{\"attributes\":{\"plot\":{\"id\":\"ea9c3c5b-2eed-4e2e-a84a-fd9cf2966a49\",\"subtype\":\"Figure\",\"type\":\"Plot\"},\"ticker\":{\"id\":\"a8374f15-7cf4-48a6-a5c2-0a3d7c35241e\",\"type\":\"CategoricalTicker\"}},\"id\":\"24ef6e36-2619-473f-ad58-ed4b19b2afe7\",\"type\":\"Grid\"},{\"attributes\":{},\"id\":\"c643715d-61e3-4367-b3df-e88841b448de\",\"type\":\"LinearScale\"},{\"attributes\":{\"fill_color\":{\"value\":\"#1f77b4\"},\"line_color\":{\"value\":\"#1f77b4\"},\"line_width\":{\"value\":2},\"top\":{\"field\":\"top\"},\"width\":{\"value\":0.9},\"x\":{\"field\":\"x\"}},\"id\":\"bae76524-bcc8-47c2-a869-da29be94f32c\",\"type\":\"VBar\"},{\"attributes\":{},\"id\":\"fa5bb9f8-d145-42fa-820e-a47707a3758e\",\"type\":\"WheelZoomTool\"},{\"attributes\":{\"callback\":null},\"id\":\"53620ed8-e231-4e94-822f-1e666189e81f\",\"type\":\"DataRange1d\"},{\"attributes\":{},\"id\":\"abc3ac47-cdd2-40c0-828e-a1fc3347827c\",\"type\":\"CategoricalTickFormatter\"},{\"attributes\":{\"overlay\":{\"id\":\"af0f413b-b21c-4fa8-8027-c518e6e0e911\",\"type\":\"BoxAnnotation\"}},\"id\":\"acb23946-b67c-47bd-b677-6e5245d9e7ce\",\"type\":\"BoxZoomTool\"},{\"attributes\":{},\"id\":\"4c86d910-f3f5-4105-b63d-698d151ee888\",\"type\":\"CategoricalScale\"},{\"attributes\":{\"below\":[{\"id\":\"b25fc469-ebc5-4308-a68e-9ec6e07c6afb\",\"type\":\"CategoricalAxis\"}],\"left\":[{\"id\":\"baac354f-24db-4a88-8fec-93ed1701df28\",\"type\":\"LinearAxis\"}],\"plot_height\":750,\"plot_width\":900,\"renderers\":[{\"id\":\"b25fc469-ebc5-4308-a68e-9ec6e07c6afb\",\"type\":\"CategoricalAxis\"},{\"id\":\"24ef6e36-2619-473f-ad58-ed4b19b2afe7\",\"type\":\"Grid\"},{\"id\":\"baac354f-24db-4a88-8fec-93ed1701df28\",\"type\":\"LinearAxis\"},{\"id\":\"43f3f579-6679-492b-9f10-8af7f77fd580\",\"type\":\"Grid\"},{\"id\":\"af0f413b-b21c-4fa8-8027-c518e6e0e911\",\"type\":\"BoxAnnotation\"},{\"id\":\"89dc2a6d-c3ab-4212-9159-5faacbd85506\",\"type\":\"GlyphRenderer\"}],\"title\":{\"id\":\"9e2671bd-e690-485a-9687-44d9c8c30e20\",\"type\":\"Title\"},\"toolbar\":{\"id\":\"168b6c11-9963-4594-8ec9-1e0eeccf91ef\",\"type\":\"Toolbar\"},\"x_range\":{\"id\":\"f11b4967-4b86-417b-ae6a-3a4b44d63bf4\",\"type\":\"FactorRange\"},\"x_scale\":{\"id\":\"4c86d910-f3f5-4105-b63d-698d151ee888\",\"type\":\"CategoricalScale\"},\"y_range\":{\"id\":\"53620ed8-e231-4e94-822f-1e666189e81f\",\"type\":\"DataRange1d\"},\"y_scale\":{\"id\":\"c643715d-61e3-4367-b3df-e88841b448de\",\"type\":\"LinearScale\"}},\"id\":\"ea9c3c5b-2eed-4e2e-a84a-fd9cf2966a49\",\"subtype\":\"Figure\",\"type\":\"Plot\"},{\"attributes\":{\"callback\":null,\"factors\":[\"2017-03\",\"2017-04\",\"2017-05\",\"2017-06\",\"2017-07\",\"2017-08\",\"2017-09\",\"2017-10\",\"2017-11\",\"2017-12\",\"2018-01\",\"2018-02\",\"2018-03\"]},\"id\":\"f11b4967-4b86-417b-ae6a-3a4b44d63bf4\",\"type\":\"FactorRange\"},{\"attributes\":{},\"id\":\"3d7f5484-ac44-4cc7-a723-a1687488fb12\",\"type\":\"SaveTool\"},{\"attributes\":{\"callback\":null,\"column_names\":[\"x\",\"top\"],\"data\":{\"top\":[143,71,76,52,48,39,43,50,38,21,31,46,19],\"x\":[\"2017-03\",\"2017-04\",\"2017-05\",\"2017-06\",\"2017-07\",\"2017-08\",\"2017-09\",\"2017-10\",\"2017-11\",\"2017-12\",\"2018-01\",\"2018-02\",\"2018-03\"]}},\"id\":\"efb02f10-21e1-48ab-bb76-8bedec025eb1\",\"type\":\"ColumnDataSource\"},{\"attributes\":{},\"id\":\"4e809822-7a4d-4ccb-b09c-10940f617201\",\"type\":\"HelpTool\"},{\"attributes\":{\"dimension\":1,\"plot\":{\"id\":\"ea9c3c5b-2eed-4e2e-a84a-fd9cf2966a49\",\"subtype\":\"Figure\",\"type\":\"Plot\"},\"ticker\":{\"id\":\"ae022a95-9163-4ff9-b015-d7e71dcf4323\",\"type\":\"BasicTicker\"}},\"id\":\"43f3f579-6679-492b-9f10-8af7f77fd580\",\"type\":\"Grid\"},{\"attributes\":{\"active_drag\":\"auto\",\"active_inspect\":\"auto\",\"active_scroll\":\"auto\",\"active_tap\":\"auto\",\"tools\":[{\"id\":\"cb447c1f-bad4-43ad-a8b3-b2728bc697c8\",\"type\":\"PanTool\"},{\"id\":\"fa5bb9f8-d145-42fa-820e-a47707a3758e\",\"type\":\"WheelZoomTool\"},{\"id\":\"acb23946-b67c-47bd-b677-6e5245d9e7ce\",\"type\":\"BoxZoomTool\"},{\"id\":\"3d7f5484-ac44-4cc7-a723-a1687488fb12\",\"type\":\"SaveTool\"},{\"id\":\"eb86b2d1-2098-4a49-9b0f-80d09f439beb\",\"type\":\"ResetTool\"},{\"id\":\"4e809822-7a4d-4ccb-b09c-10940f617201\",\"type\":\"HelpTool\"}]},\"id\":\"168b6c11-9963-4594-8ec9-1e0eeccf91ef\",\"type\":\"Toolbar\"},{\"attributes\":{},\"id\":\"cb447c1f-bad4-43ad-a8b3-b2728bc697c8\",\"type\":\"PanTool\"}],\"root_ids\":[\"ea9c3c5b-2eed-4e2e-a84a-fd9cf2966a49\"]},\"title\":\"Bokeh Application\",\"version\":\"0.12.13\"}};\n",
       "  var render_items = [{\"docid\":\"dde674f7-7eff-4585-b197-5eb24a457e05\",\"elementid\":\"392b68ee-3a5a-4deb-8382-ef4b8f6bbfbd\",\"modelid\":\"ea9c3c5b-2eed-4e2e-a84a-fd9cf2966a49\"}];\n",
       "  root.Bokeh.embed.embed_items_notebook(docs_json, render_items);\n",
       "\n",
       "  }\n",
       "  if (root.Bokeh !== undefined) {\n",
       "    embed_document(root);\n",
       "  } else {\n",
       "    var attempts = 0;\n",
       "    var timer = setInterval(function(root) {\n",
       "      if (root.Bokeh !== undefined) {\n",
       "        embed_document(root);\n",
       "        clearInterval(timer);\n",
       "      }\n",
       "      attempts++;\n",
       "      if (attempts > 100) {\n",
       "        console.log(\"Bokeh: ERROR: Unable to run BokehJS code because BokehJS library is missing\")\n",
       "        clearInterval(timer);\n",
       "      }\n",
       "    }, 10, root)\n",
       "  }\n",
       "})(window);"
      ],
      "application/vnd.bokehjs_exec.v0+json": ""
     },
     "metadata": {
      "application/vnd.bokehjs_exec.v0+json": {
       "id": "ea9c3c5b-2eed-4e2e-a84a-fd9cf2966a49"
      }
     },
     "output_type": "display_data"
    }
   ],
   "source": [
    "plotUniquePerMonth(data[data.actionCategory==\"Internals filtering Clicked\"],\"userName\")"
   ]
  },
  {
   "cell_type": "code",
   "execution_count": 124,
   "metadata": {},
   "outputs": [],
   "source": [
    "def plotAmountPerMonth(data):\n",
    "    amountPerMonth = data.groupby(data.serverTime.apply(lambda x:x[0:7])).apply(lambda x: x.shape[0])\n",
    "    p = figure(title=\"ilość na miesiąc\", x_axis_label='miesiąc', y_axis_label='ilość w miesiącu', x_range=amountPerMonth.index.values, plot_width=PLOT_WIDTH, plot_height=PLOT_HEIGHT)\n",
    "    p.xaxis.major_label_orientation = math.pi/5\n",
    "    p.vbar(amountPerMonth.index.values, line_width=2,top=amountPerMonth.values,width=0.9)\n",
    "    p.xaxis.major_label_text_font_size = \"9pt\"\n",
    "    show(p)"
   ]
  },
  {
   "cell_type": "code",
   "execution_count": 125,
   "metadata": {},
   "outputs": [
    {
     "data": {
      "text/html": [
       "\n",
       "<div class=\"bk-root\">\n",
       "    <div class=\"bk-plotdiv\" id=\"f6bb56fd-9113-4705-850e-2564c545295f\"></div>\n",
       "</div>"
      ]
     },
     "metadata": {},
     "output_type": "display_data"
    },
    {
     "data": {
      "application/javascript": [
       "(function(root) {\n",
       "  function embed_document(root) {\n",
       "    \n",
       "  var docs_json = {\"4b879bb2-bc03-40ff-8884-687c99599731\":{\"roots\":{\"references\":[{\"attributes\":{},\"id\":\"2b8de82c-a971-4a68-874d-e675cba3c7fa\",\"type\":\"HelpTool\"},{\"attributes\":{\"plot\":{\"id\":\"47a9e538-ff79-44bf-8a74-f02cfb2472e7\",\"subtype\":\"Figure\",\"type\":\"Plot\"},\"ticker\":{\"id\":\"c46fc865-0ed5-4b52-af3a-881fbe929dd6\",\"type\":\"CategoricalTicker\"}},\"id\":\"d062132f-7750-40a3-9310-e0926869361c\",\"type\":\"Grid\"},{\"attributes\":{},\"id\":\"ecbcfbc1-7a50-479b-920a-980fad8f91cc\",\"type\":\"PanTool\"},{\"attributes\":{\"dimension\":1,\"plot\":{\"id\":\"47a9e538-ff79-44bf-8a74-f02cfb2472e7\",\"subtype\":\"Figure\",\"type\":\"Plot\"},\"ticker\":{\"id\":\"8ade9637-5d8b-47bd-b0c6-7ef3fef2f960\",\"type\":\"BasicTicker\"}},\"id\":\"ec0ed373-25ae-49c6-a8a7-ec2a6aaa27cb\",\"type\":\"Grid\"},{\"attributes\":{\"plot\":null,\"text\":\"ilo\\u015b\\u0107 na miesi\\u0105c\"},\"id\":\"3645984c-b798-4598-82ec-f2f88959911f\",\"type\":\"Title\"},{\"attributes\":{\"fill_alpha\":{\"value\":0.1},\"fill_color\":{\"value\":\"#1f77b4\"},\"line_alpha\":{\"value\":0.1},\"line_color\":{\"value\":\"#1f77b4\"},\"line_width\":{\"value\":2},\"top\":{\"field\":\"top\"},\"width\":{\"value\":0.9},\"x\":{\"field\":\"x\"}},\"id\":\"59b5db46-b424-4827-aaa5-6be3971f3d81\",\"type\":\"VBar\"},{\"attributes\":{\"source\":{\"id\":\"4319835e-a0c6-448b-905f-d9ca65d5383c\",\"type\":\"ColumnDataSource\"}},\"id\":\"a20345b2-35bc-4e41-a203-afac4587e50b\",\"type\":\"CDSView\"},{\"attributes\":{\"active_drag\":\"auto\",\"active_inspect\":\"auto\",\"active_scroll\":\"auto\",\"active_tap\":\"auto\",\"tools\":[{\"id\":\"ecbcfbc1-7a50-479b-920a-980fad8f91cc\",\"type\":\"PanTool\"},{\"id\":\"65db5d8d-bf0b-4f13-b9b3-a293b1ac5f11\",\"type\":\"WheelZoomTool\"},{\"id\":\"0323eb73-3993-4e8b-93d9-eb6339dde65c\",\"type\":\"BoxZoomTool\"},{\"id\":\"9093f07a-87ee-439f-859e-69f3f41fe306\",\"type\":\"SaveTool\"},{\"id\":\"af6e6a7c-3a69-4fba-abbd-e317264e176b\",\"type\":\"ResetTool\"},{\"id\":\"2b8de82c-a971-4a68-874d-e675cba3c7fa\",\"type\":\"HelpTool\"}]},\"id\":\"9599bc51-c294-4ce1-ba7c-4d21723a5abb\",\"type\":\"Toolbar\"},{\"attributes\":{},\"id\":\"c46fc865-0ed5-4b52-af3a-881fbe929dd6\",\"type\":\"CategoricalTicker\"},{\"attributes\":{\"callback\":null,\"factors\":[\"2017-03\",\"2017-04\",\"2017-05\",\"2017-06\",\"2017-07\",\"2017-08\",\"2017-09\",\"2017-10\",\"2017-11\",\"2017-12\",\"2018-01\",\"2018-02\",\"2018-03\"]},\"id\":\"c318a8c7-037b-4da4-8538-97c04c633f9e\",\"type\":\"FactorRange\"},{\"attributes\":{\"callback\":null,\"column_names\":[\"x\",\"top\"],\"data\":{\"top\":[211,96,101,76,73,53,54,80,51,25,41,64,20],\"x\":[\"2017-03\",\"2017-04\",\"2017-05\",\"2017-06\",\"2017-07\",\"2017-08\",\"2017-09\",\"2017-10\",\"2017-11\",\"2017-12\",\"2018-01\",\"2018-02\",\"2018-03\"]}},\"id\":\"4319835e-a0c6-448b-905f-d9ca65d5383c\",\"type\":\"ColumnDataSource\"},{\"attributes\":{},\"id\":\"84c207ea-bff0-4d45-af45-33f5883f6cbd\",\"type\":\"LinearScale\"},{\"attributes\":{\"bottom_units\":\"screen\",\"fill_alpha\":{\"value\":0.5},\"fill_color\":{\"value\":\"lightgrey\"},\"left_units\":\"screen\",\"level\":\"overlay\",\"line_alpha\":{\"value\":1.0},\"line_color\":{\"value\":\"black\"},\"line_dash\":[4,4],\"line_width\":{\"value\":2},\"plot\":null,\"render_mode\":\"css\",\"right_units\":\"screen\",\"top_units\":\"screen\"},\"id\":\"472de2a0-1a4f-47c7-87b5-dd973a85b7fe\",\"type\":\"BoxAnnotation\"},{\"attributes\":{},\"id\":\"d33cd035-7a59-49ba-b4de-60ed4f41dafc\",\"type\":\"CategoricalTickFormatter\"},{\"attributes\":{\"axis_label\":\"miesi\\u0105c\",\"formatter\":{\"id\":\"d33cd035-7a59-49ba-b4de-60ed4f41dafc\",\"type\":\"CategoricalTickFormatter\"},\"major_label_orientation\":0.6283185307179586,\"major_label_text_font_size\":{\"value\":\"9pt\"},\"plot\":{\"id\":\"47a9e538-ff79-44bf-8a74-f02cfb2472e7\",\"subtype\":\"Figure\",\"type\":\"Plot\"},\"ticker\":{\"id\":\"c46fc865-0ed5-4b52-af3a-881fbe929dd6\",\"type\":\"CategoricalTicker\"}},\"id\":\"b2c8841d-5cc1-44b2-85b7-dd1172b8574c\",\"type\":\"CategoricalAxis\"},{\"attributes\":{\"data_source\":{\"id\":\"4319835e-a0c6-448b-905f-d9ca65d5383c\",\"type\":\"ColumnDataSource\"},\"glyph\":{\"id\":\"af2e2e18-c244-42b0-bfc7-e248333f75bf\",\"type\":\"VBar\"},\"hover_glyph\":null,\"muted_glyph\":null,\"nonselection_glyph\":{\"id\":\"59b5db46-b424-4827-aaa5-6be3971f3d81\",\"type\":\"VBar\"},\"selection_glyph\":null,\"view\":{\"id\":\"a20345b2-35bc-4e41-a203-afac4587e50b\",\"type\":\"CDSView\"}},\"id\":\"b0588202-94e1-4d5c-8c5b-a7371f501e35\",\"type\":\"GlyphRenderer\"},{\"attributes\":{},\"id\":\"cb93e0f7-3b03-41f1-a3f2-de810fd1060c\",\"type\":\"BasicTickFormatter\"},{\"attributes\":{\"callback\":null},\"id\":\"01893f08-3125-422a-9909-61a216fe65f0\",\"type\":\"DataRange1d\"},{\"attributes\":{},\"id\":\"8ade9637-5d8b-47bd-b0c6-7ef3fef2f960\",\"type\":\"BasicTicker\"},{\"attributes\":{\"fill_color\":{\"value\":\"#1f77b4\"},\"line_color\":{\"value\":\"#1f77b4\"},\"line_width\":{\"value\":2},\"top\":{\"field\":\"top\"},\"width\":{\"value\":0.9},\"x\":{\"field\":\"x\"}},\"id\":\"af2e2e18-c244-42b0-bfc7-e248333f75bf\",\"type\":\"VBar\"},{\"attributes\":{},\"id\":\"9093f07a-87ee-439f-859e-69f3f41fe306\",\"type\":\"SaveTool\"},{\"attributes\":{\"overlay\":{\"id\":\"472de2a0-1a4f-47c7-87b5-dd973a85b7fe\",\"type\":\"BoxAnnotation\"}},\"id\":\"0323eb73-3993-4e8b-93d9-eb6339dde65c\",\"type\":\"BoxZoomTool\"},{\"attributes\":{\"axis_label\":\"ilo\\u015b\\u0107 w miesi\\u0105cu\",\"formatter\":{\"id\":\"cb93e0f7-3b03-41f1-a3f2-de810fd1060c\",\"type\":\"BasicTickFormatter\"},\"plot\":{\"id\":\"47a9e538-ff79-44bf-8a74-f02cfb2472e7\",\"subtype\":\"Figure\",\"type\":\"Plot\"},\"ticker\":{\"id\":\"8ade9637-5d8b-47bd-b0c6-7ef3fef2f960\",\"type\":\"BasicTicker\"}},\"id\":\"a5d3725a-4b07-4686-8387-fa538c37c64c\",\"type\":\"LinearAxis\"},{\"attributes\":{},\"id\":\"65db5d8d-bf0b-4f13-b9b3-a293b1ac5f11\",\"type\":\"WheelZoomTool\"},{\"attributes\":{},\"id\":\"ef758776-9a16-4a63-a74d-62cf77c32117\",\"type\":\"CategoricalScale\"},{\"attributes\":{},\"id\":\"af6e6a7c-3a69-4fba-abbd-e317264e176b\",\"type\":\"ResetTool\"},{\"attributes\":{\"below\":[{\"id\":\"b2c8841d-5cc1-44b2-85b7-dd1172b8574c\",\"type\":\"CategoricalAxis\"}],\"left\":[{\"id\":\"a5d3725a-4b07-4686-8387-fa538c37c64c\",\"type\":\"LinearAxis\"}],\"plot_height\":750,\"plot_width\":900,\"renderers\":[{\"id\":\"b2c8841d-5cc1-44b2-85b7-dd1172b8574c\",\"type\":\"CategoricalAxis\"},{\"id\":\"d062132f-7750-40a3-9310-e0926869361c\",\"type\":\"Grid\"},{\"id\":\"a5d3725a-4b07-4686-8387-fa538c37c64c\",\"type\":\"LinearAxis\"},{\"id\":\"ec0ed373-25ae-49c6-a8a7-ec2a6aaa27cb\",\"type\":\"Grid\"},{\"id\":\"472de2a0-1a4f-47c7-87b5-dd973a85b7fe\",\"type\":\"BoxAnnotation\"},{\"id\":\"b0588202-94e1-4d5c-8c5b-a7371f501e35\",\"type\":\"GlyphRenderer\"}],\"title\":{\"id\":\"3645984c-b798-4598-82ec-f2f88959911f\",\"type\":\"Title\"},\"toolbar\":{\"id\":\"9599bc51-c294-4ce1-ba7c-4d21723a5abb\",\"type\":\"Toolbar\"},\"x_range\":{\"id\":\"c318a8c7-037b-4da4-8538-97c04c633f9e\",\"type\":\"FactorRange\"},\"x_scale\":{\"id\":\"ef758776-9a16-4a63-a74d-62cf77c32117\",\"type\":\"CategoricalScale\"},\"y_range\":{\"id\":\"01893f08-3125-422a-9909-61a216fe65f0\",\"type\":\"DataRange1d\"},\"y_scale\":{\"id\":\"84c207ea-bff0-4d45-af45-33f5883f6cbd\",\"type\":\"LinearScale\"}},\"id\":\"47a9e538-ff79-44bf-8a74-f02cfb2472e7\",\"subtype\":\"Figure\",\"type\":\"Plot\"}],\"root_ids\":[\"47a9e538-ff79-44bf-8a74-f02cfb2472e7\"]},\"title\":\"Bokeh Application\",\"version\":\"0.12.13\"}};\n",
       "  var render_items = [{\"docid\":\"4b879bb2-bc03-40ff-8884-687c99599731\",\"elementid\":\"f6bb56fd-9113-4705-850e-2564c545295f\",\"modelid\":\"47a9e538-ff79-44bf-8a74-f02cfb2472e7\"}];\n",
       "  root.Bokeh.embed.embed_items_notebook(docs_json, render_items);\n",
       "\n",
       "  }\n",
       "  if (root.Bokeh !== undefined) {\n",
       "    embed_document(root);\n",
       "  } else {\n",
       "    var attempts = 0;\n",
       "    var timer = setInterval(function(root) {\n",
       "      if (root.Bokeh !== undefined) {\n",
       "        embed_document(root);\n",
       "        clearInterval(timer);\n",
       "      }\n",
       "      attempts++;\n",
       "      if (attempts > 100) {\n",
       "        console.log(\"Bokeh: ERROR: Unable to run BokehJS code because BokehJS library is missing\")\n",
       "        clearInterval(timer);\n",
       "      }\n",
       "    }, 10, root)\n",
       "  }\n",
       "})(window);"
      ],
      "application/vnd.bokehjs_exec.v0+json": ""
     },
     "metadata": {
      "application/vnd.bokehjs_exec.v0+json": {
       "id": "47a9e538-ff79-44bf-8a74-f02cfb2472e7"
      }
     },
     "output_type": "display_data"
    }
   ],
   "source": [
    "plotAmountPerMonth(data[data.actionCategory==\"Internals filtering Clicked\"])"
   ]
  },
  {
   "cell_type": "code",
   "execution_count": 126,
   "metadata": {},
   "outputs": [
    {
     "data": {
      "text/plain": [
       "10581"
      ]
     },
     "execution_count": 126,
     "metadata": {},
     "output_type": "execute_result"
    }
   ],
   "source": [
    "data[list(map(lambda x : x[0:7]==\"2017-01\",data[\"serverTime\"]))].shape[0]"
   ]
  },
  {
   "cell_type": "code",
   "execution_count": 127,
   "metadata": {},
   "outputs": [],
   "source": [
    "def plotUniquePerMonthPercent(data, data2, columnName):\n",
    "    amountPerMonth = data2.groupby(data.serverTime.apply(lambda x:x[0:7]))[columnName].nunique()/data.groupby(data.serverTime.apply(lambda x:x[0:7]))[columnName].nunique()\n",
    "    p = figure(title=\"jaka część różnych \"+columnName+\" wystąpiła w poszczególnych miesiącach\", x_axis_label='miesiąc', y_axis_label='ilość w miesiącu', x_range=amountPerMonth.index.values, plot_width=PLOT_WIDTH, plot_height=PLOT_HEIGHT)\n",
    "    p.xaxis.major_label_orientation = math.pi/5\n",
    "    p.vbar(amountPerMonth.index.values, line_width=2,top=amountPerMonth.values,width=0.9)\n",
    "    p.xaxis.major_label_text_font_size = \"9pt\"\n",
    "    show(p)"
   ]
  },
  {
   "cell_type": "code",
   "execution_count": 128,
   "metadata": {},
   "outputs": [
    {
     "data": {
      "text/html": [
       "\n",
       "<div class=\"bk-root\">\n",
       "    <div class=\"bk-plotdiv\" id=\"14307259-e62f-4e01-a9db-482b9f5a4068\"></div>\n",
       "</div>"
      ]
     },
     "metadata": {},
     "output_type": "display_data"
    },
    {
     "data": {
      "application/javascript": [
       "(function(root) {\n",
       "  function embed_document(root) {\n",
       "    \n",
       "  var docs_json = {\"bf2e2a56-c55c-40f0-9f37-2dc85766715c\":{\"roots\":{\"references\":[{\"attributes\":{},\"id\":\"a9821f97-9d76-4840-b36c-c2f9e38f68b6\",\"type\":\"HelpTool\"},{\"attributes\":{\"callback\":null},\"id\":\"5ce3c225-f825-460f-b8e9-b8d19b784bcd\",\"type\":\"DataRange1d\"},{\"attributes\":{},\"id\":\"1988f826-0124-43b5-9d16-57a0386db7b6\",\"type\":\"LinearScale\"},{\"attributes\":{\"plot\":{\"id\":\"a2b2928d-c16c-4e54-92b8-9e667ad24ab3\",\"subtype\":\"Figure\",\"type\":\"Plot\"},\"ticker\":{\"id\":\"105f85b7-4038-4c2b-a891-a25ffc24bd46\",\"type\":\"CategoricalTicker\"}},\"id\":\"034cab44-0fa8-4e67-9226-392cae96dc1d\",\"type\":\"Grid\"},{\"attributes\":{\"axis_label\":\"miesi\\u0105c\",\"formatter\":{\"id\":\"013a0197-467d-47ee-82e0-8c80efdc58e6\",\"type\":\"CategoricalTickFormatter\"},\"major_label_orientation\":0.6283185307179586,\"major_label_text_font_size\":{\"value\":\"9pt\"},\"plot\":{\"id\":\"a2b2928d-c16c-4e54-92b8-9e667ad24ab3\",\"subtype\":\"Figure\",\"type\":\"Plot\"},\"ticker\":{\"id\":\"105f85b7-4038-4c2b-a891-a25ffc24bd46\",\"type\":\"CategoricalTicker\"}},\"id\":\"986db0b1-ea66-4aeb-9953-1e1f75b990f5\",\"type\":\"CategoricalAxis\"},{\"attributes\":{\"source\":{\"id\":\"207b06ac-4af8-4c50-80b9-60206cfb52c3\",\"type\":\"ColumnDataSource\"}},\"id\":\"c3bffd93-5cf9-4574-ba91-4ff9a5199a53\",\"type\":\"CDSView\"},{\"attributes\":{},\"id\":\"105f85b7-4038-4c2b-a891-a25ffc24bd46\",\"type\":\"CategoricalTicker\"},{\"attributes\":{\"fill_color\":{\"value\":\"#1f77b4\"},\"line_color\":{\"value\":\"#1f77b4\"},\"line_width\":{\"value\":2},\"top\":{\"field\":\"top\"},\"width\":{\"value\":0.9},\"x\":{\"field\":\"x\"}},\"id\":\"bc17b175-2e72-4fde-a65e-6671727e62fe\",\"type\":\"VBar\"},{\"attributes\":{\"plot\":null,\"text\":\"jaka cz\\u0119\\u015b\\u0107 r\\u00f3\\u017cnych idVisit wyst\\u0105pi\\u0142a w poszczeg\\u00f3lnych miesi\\u0105cach\"},\"id\":\"9208efe1-77e1-4b0a-8745-de0c4fdd1810\",\"type\":\"Title\"},{\"attributes\":{},\"id\":\"3ef23da5-2cd4-41f0-bc5c-775d7b205a8e\",\"type\":\"BasicTicker\"},{\"attributes\":{},\"id\":\"013a0197-467d-47ee-82e0-8c80efdc58e6\",\"type\":\"CategoricalTickFormatter\"},{\"attributes\":{\"dimension\":1,\"plot\":{\"id\":\"a2b2928d-c16c-4e54-92b8-9e667ad24ab3\",\"subtype\":\"Figure\",\"type\":\"Plot\"},\"ticker\":{\"id\":\"3ef23da5-2cd4-41f0-bc5c-775d7b205a8e\",\"type\":\"BasicTicker\"}},\"id\":\"9cc1fa42-b404-4531-bf6b-2024d18da148\",\"type\":\"Grid\"},{\"attributes\":{\"below\":[{\"id\":\"986db0b1-ea66-4aeb-9953-1e1f75b990f5\",\"type\":\"CategoricalAxis\"}],\"left\":[{\"id\":\"5b05b1bd-baf0-4308-99f6-2e9985841a9e\",\"type\":\"LinearAxis\"}],\"plot_height\":750,\"plot_width\":900,\"renderers\":[{\"id\":\"986db0b1-ea66-4aeb-9953-1e1f75b990f5\",\"type\":\"CategoricalAxis\"},{\"id\":\"034cab44-0fa8-4e67-9226-392cae96dc1d\",\"type\":\"Grid\"},{\"id\":\"5b05b1bd-baf0-4308-99f6-2e9985841a9e\",\"type\":\"LinearAxis\"},{\"id\":\"9cc1fa42-b404-4531-bf6b-2024d18da148\",\"type\":\"Grid\"},{\"id\":\"845f7855-c9e4-47b9-ac62-9387e7a12821\",\"type\":\"BoxAnnotation\"},{\"id\":\"bfa336fc-890b-44e8-b42c-bf1a91f44bc4\",\"type\":\"GlyphRenderer\"}],\"title\":{\"id\":\"9208efe1-77e1-4b0a-8745-de0c4fdd1810\",\"type\":\"Title\"},\"toolbar\":{\"id\":\"c3df836b-4879-4a5d-9094-a6d5faec457e\",\"type\":\"Toolbar\"},\"x_range\":{\"id\":\"6367cd2a-2b55-4105-ac63-d8a328aa8631\",\"type\":\"FactorRange\"},\"x_scale\":{\"id\":\"34585a6a-34ae-4861-a5e5-998a660e10b3\",\"type\":\"CategoricalScale\"},\"y_range\":{\"id\":\"5ce3c225-f825-460f-b8e9-b8d19b784bcd\",\"type\":\"DataRange1d\"},\"y_scale\":{\"id\":\"1988f826-0124-43b5-9d16-57a0386db7b6\",\"type\":\"LinearScale\"}},\"id\":\"a2b2928d-c16c-4e54-92b8-9e667ad24ab3\",\"subtype\":\"Figure\",\"type\":\"Plot\"},{\"attributes\":{\"active_drag\":\"auto\",\"active_inspect\":\"auto\",\"active_scroll\":\"auto\",\"active_tap\":\"auto\",\"tools\":[{\"id\":\"3249c591-47f2-4d7c-aef9-bc82444bd7f3\",\"type\":\"PanTool\"},{\"id\":\"ea9fa90e-d876-4f3d-9249-8143ee4db30a\",\"type\":\"WheelZoomTool\"},{\"id\":\"efbf3210-8081-408c-bf3e-298ed548b6f3\",\"type\":\"BoxZoomTool\"},{\"id\":\"62ab9b89-46f6-44cd-91a9-23c5c1eb5f01\",\"type\":\"SaveTool\"},{\"id\":\"c23882df-3cfc-4b84-8adb-5506802591fb\",\"type\":\"ResetTool\"},{\"id\":\"a9821f97-9d76-4840-b36c-c2f9e38f68b6\",\"type\":\"HelpTool\"}]},\"id\":\"c3df836b-4879-4a5d-9094-a6d5faec457e\",\"type\":\"Toolbar\"},{\"attributes\":{},\"id\":\"3f2d6a7e-70ce-4e19-ad51-c826651963f9\",\"type\":\"BasicTickFormatter\"},{\"attributes\":{\"callback\":null,\"column_names\":[\"x\",\"top\"],\"data\":{\"top\":{\"__ndarray__\":\"2F2oxNHwoT9kxW2/6d+iP/G4Ea01taU/7T9OwB2lnD/elAW9I1OaP7byLmun458/m2XJCE7Hmj9t9OlPHlKWPxDkgZlvspg/A+yBMzHAjj/jsBTbPGacPwtp+HMod5Y/ghYPKU7Mkj96b4DxHlSOP3jNryHgPpU/YzSZdy1Gkz8=\",\"dtype\":\"float64\",\"shape\":[16]},\"x\":[\"2016-12\",\"2017-01\",\"2017-02\",\"2017-03\",\"2017-04\",\"2017-05\",\"2017-06\",\"2017-07\",\"2017-08\",\"2017-09\",\"2017-10\",\"2017-11\",\"2017-12\",\"2018-01\",\"2018-02\",\"2018-03\"]}},\"id\":\"207b06ac-4af8-4c50-80b9-60206cfb52c3\",\"type\":\"ColumnDataSource\"},{\"attributes\":{\"fill_alpha\":{\"value\":0.1},\"fill_color\":{\"value\":\"#1f77b4\"},\"line_alpha\":{\"value\":0.1},\"line_color\":{\"value\":\"#1f77b4\"},\"line_width\":{\"value\":2},\"top\":{\"field\":\"top\"},\"width\":{\"value\":0.9},\"x\":{\"field\":\"x\"}},\"id\":\"44177d06-7512-49f6-beb6-864f43acacb1\",\"type\":\"VBar\"},{\"attributes\":{\"bottom_units\":\"screen\",\"fill_alpha\":{\"value\":0.5},\"fill_color\":{\"value\":\"lightgrey\"},\"left_units\":\"screen\",\"level\":\"overlay\",\"line_alpha\":{\"value\":1.0},\"line_color\":{\"value\":\"black\"},\"line_dash\":[4,4],\"line_width\":{\"value\":2},\"plot\":null,\"render_mode\":\"css\",\"right_units\":\"screen\",\"top_units\":\"screen\"},\"id\":\"845f7855-c9e4-47b9-ac62-9387e7a12821\",\"type\":\"BoxAnnotation\"},{\"attributes\":{},\"id\":\"3249c591-47f2-4d7c-aef9-bc82444bd7f3\",\"type\":\"PanTool\"},{\"attributes\":{\"data_source\":{\"id\":\"207b06ac-4af8-4c50-80b9-60206cfb52c3\",\"type\":\"ColumnDataSource\"},\"glyph\":{\"id\":\"bc17b175-2e72-4fde-a65e-6671727e62fe\",\"type\":\"VBar\"},\"hover_glyph\":null,\"muted_glyph\":null,\"nonselection_glyph\":{\"id\":\"44177d06-7512-49f6-beb6-864f43acacb1\",\"type\":\"VBar\"},\"selection_glyph\":null,\"view\":{\"id\":\"c3bffd93-5cf9-4574-ba91-4ff9a5199a53\",\"type\":\"CDSView\"}},\"id\":\"bfa336fc-890b-44e8-b42c-bf1a91f44bc4\",\"type\":\"GlyphRenderer\"},{\"attributes\":{},\"id\":\"ea9fa90e-d876-4f3d-9249-8143ee4db30a\",\"type\":\"WheelZoomTool\"},{\"attributes\":{\"overlay\":{\"id\":\"845f7855-c9e4-47b9-ac62-9387e7a12821\",\"type\":\"BoxAnnotation\"}},\"id\":\"efbf3210-8081-408c-bf3e-298ed548b6f3\",\"type\":\"BoxZoomTool\"},{\"attributes\":{},\"id\":\"34585a6a-34ae-4861-a5e5-998a660e10b3\",\"type\":\"CategoricalScale\"},{\"attributes\":{},\"id\":\"62ab9b89-46f6-44cd-91a9-23c5c1eb5f01\",\"type\":\"SaveTool\"},{\"attributes\":{\"axis_label\":\"ilo\\u015b\\u0107 w miesi\\u0105cu\",\"formatter\":{\"id\":\"3f2d6a7e-70ce-4e19-ad51-c826651963f9\",\"type\":\"BasicTickFormatter\"},\"plot\":{\"id\":\"a2b2928d-c16c-4e54-92b8-9e667ad24ab3\",\"subtype\":\"Figure\",\"type\":\"Plot\"},\"ticker\":{\"id\":\"3ef23da5-2cd4-41f0-bc5c-775d7b205a8e\",\"type\":\"BasicTicker\"}},\"id\":\"5b05b1bd-baf0-4308-99f6-2e9985841a9e\",\"type\":\"LinearAxis\"},{\"attributes\":{},\"id\":\"c23882df-3cfc-4b84-8adb-5506802591fb\",\"type\":\"ResetTool\"},{\"attributes\":{\"callback\":null,\"factors\":[\"2016-12\",\"2017-01\",\"2017-02\",\"2017-03\",\"2017-04\",\"2017-05\",\"2017-06\",\"2017-07\",\"2017-08\",\"2017-09\",\"2017-10\",\"2017-11\",\"2017-12\",\"2018-01\",\"2018-02\",\"2018-03\"]},\"id\":\"6367cd2a-2b55-4105-ac63-d8a328aa8631\",\"type\":\"FactorRange\"}],\"root_ids\":[\"a2b2928d-c16c-4e54-92b8-9e667ad24ab3\"]},\"title\":\"Bokeh Application\",\"version\":\"0.12.13\"}};\n",
       "  var render_items = [{\"docid\":\"bf2e2a56-c55c-40f0-9f37-2dc85766715c\",\"elementid\":\"14307259-e62f-4e01-a9db-482b9f5a4068\",\"modelid\":\"a2b2928d-c16c-4e54-92b8-9e667ad24ab3\"}];\n",
       "  root.Bokeh.embed.embed_items_notebook(docs_json, render_items);\n",
       "\n",
       "  }\n",
       "  if (root.Bokeh !== undefined) {\n",
       "    embed_document(root);\n",
       "  } else {\n",
       "    var attempts = 0;\n",
       "    var timer = setInterval(function(root) {\n",
       "      if (root.Bokeh !== undefined) {\n",
       "        embed_document(root);\n",
       "        clearInterval(timer);\n",
       "      }\n",
       "      attempts++;\n",
       "      if (attempts > 100) {\n",
       "        console.log(\"Bokeh: ERROR: Unable to run BokehJS code because BokehJS library is missing\")\n",
       "        clearInterval(timer);\n",
       "      }\n",
       "    }, 10, root)\n",
       "  }\n",
       "})(window);"
      ],
      "application/vnd.bokehjs_exec.v0+json": ""
     },
     "metadata": {
      "application/vnd.bokehjs_exec.v0+json": {
       "id": "a2b2928d-c16c-4e54-92b8-9e667ad24ab3"
      }
     },
     "output_type": "display_data"
    }
   ],
   "source": [
    "data2 = data[data.actionCategory == \"Tag filtering Clicked\"]\n",
    "plotUniquePerMonthPercent(data, data2, \"idVisit\")"
   ]
  },
  {
   "cell_type": "code",
   "execution_count": 129,
   "metadata": {},
   "outputs": [],
   "source": [
    "def plotAmountPerMonthPercent(data, data2):\n",
    "    amountPerMonth = data2.groupby(data.serverTime.apply(lambda x:x[0:7])).apply(lambda x: x.shape[0]) /data.groupby(data.serverTime.apply(lambda x:x[0:7])).apply(lambda x: x.shape[0])\n",
    "    p = figure(title=\"procent w danym miesiącu\", x_axis_label='miesiąc', y_axis_label='ilość w miesiącu', x_range=amountPerMonth.index.values, plot_width=PLOT_WIDTH, plot_height=PLOT_HEIGHT)\n",
    "    p.xaxis.major_label_orientation = math.pi/5\n",
    "    p.vbar(amountPerMonth.index.values, line_width=2,top=amountPerMonth.values,width=0.9)\n",
    "    p.xaxis.major_label_text_font_size = \"9pt\"\n",
    "    show(p)"
   ]
  },
  {
   "cell_type": "code",
   "execution_count": 130,
   "metadata": {},
   "outputs": [
    {
     "data": {
      "text/html": [
       "\n",
       "<div class=\"bk-root\">\n",
       "    <div class=\"bk-plotdiv\" id=\"8c062bb8-1027-4e61-8054-8706499c21df\"></div>\n",
       "</div>"
      ]
     },
     "metadata": {},
     "output_type": "display_data"
    },
    {
     "data": {
      "application/javascript": [
       "(function(root) {\n",
       "  function embed_document(root) {\n",
       "    \n",
       "  var docs_json = {\"1131ae4b-3306-4117-83a4-528306abe358\":{\"roots\":{\"references\":[{\"attributes\":{\"data_source\":{\"id\":\"9ee155ed-a64c-4782-a5df-3aed6989b7fc\",\"type\":\"ColumnDataSource\"},\"glyph\":{\"id\":\"7fa1d96c-0723-4677-bda7-ad11c4ee3da9\",\"type\":\"VBar\"},\"hover_glyph\":null,\"muted_glyph\":null,\"nonselection_glyph\":{\"id\":\"4d09073f-b84d-4994-b39f-8cb8a076dbf7\",\"type\":\"VBar\"},\"selection_glyph\":null,\"view\":{\"id\":\"69fb51d1-5571-4e53-b1bb-d14155e361f5\",\"type\":\"CDSView\"}},\"id\":\"ea3c6079-cd2d-4109-af41-a683d61c44a0\",\"type\":\"GlyphRenderer\"},{\"attributes\":{},\"id\":\"1fc55555-bc46-4d3e-95f0-303ffa27fa71\",\"type\":\"WheelZoomTool\"},{\"attributes\":{\"fill_alpha\":{\"value\":0.1},\"fill_color\":{\"value\":\"#1f77b4\"},\"line_alpha\":{\"value\":0.1},\"line_color\":{\"value\":\"#1f77b4\"},\"line_width\":{\"value\":2},\"top\":{\"field\":\"top\"},\"width\":{\"value\":0.9},\"x\":{\"field\":\"x\"}},\"id\":\"4d09073f-b84d-4994-b39f-8cb8a076dbf7\",\"type\":\"VBar\"},{\"attributes\":{\"overlay\":{\"id\":\"74013be2-f9d6-475d-96de-6766dc5cccde\",\"type\":\"BoxAnnotation\"}},\"id\":\"fb4c44c7-c9ef-43e3-8c98-7470c6b68f74\",\"type\":\"BoxZoomTool\"},{\"attributes\":{\"axis_label\":\"ilo\\u015b\\u0107 w miesi\\u0105cu\",\"formatter\":{\"id\":\"6eab0f6f-1c94-4b03-952e-67b09c70c8ed\",\"type\":\"BasicTickFormatter\"},\"plot\":{\"id\":\"f417feaf-fbb9-4138-886f-977d778f3d9e\",\"subtype\":\"Figure\",\"type\":\"Plot\"},\"ticker\":{\"id\":\"4d47a2ea-b39e-4f52-a6f7-11710c35b3dd\",\"type\":\"BasicTicker\"}},\"id\":\"a80146e3-94ce-4843-baa4-2c24486e946f\",\"type\":\"LinearAxis\"},{\"attributes\":{},\"id\":\"db95c8ee-81b6-43d7-88d9-128c038e46aa\",\"type\":\"SaveTool\"},{\"attributes\":{},\"id\":\"1a8f1fc6-1c5f-4869-8bbc-26c78fba0125\",\"type\":\"ResetTool\"},{\"attributes\":{},\"id\":\"43538fca-3b21-47ce-bcfa-d89bb3588453\",\"type\":\"CategoricalScale\"},{\"attributes\":{},\"id\":\"96659f00-86f2-44d7-95d2-360dc34a4efa\",\"type\":\"HelpTool\"},{\"attributes\":{\"callback\":null},\"id\":\"09725916-0883-4741-bce6-d01629e34496\",\"type\":\"DataRange1d\"},{\"attributes\":{\"active_drag\":\"auto\",\"active_inspect\":\"auto\",\"active_scroll\":\"auto\",\"active_tap\":\"auto\",\"tools\":[{\"id\":\"f9497ca4-abc9-49ab-adc6-e1c3ef1db7da\",\"type\":\"PanTool\"},{\"id\":\"1fc55555-bc46-4d3e-95f0-303ffa27fa71\",\"type\":\"WheelZoomTool\"},{\"id\":\"fb4c44c7-c9ef-43e3-8c98-7470c6b68f74\",\"type\":\"BoxZoomTool\"},{\"id\":\"db95c8ee-81b6-43d7-88d9-128c038e46aa\",\"type\":\"SaveTool\"},{\"id\":\"1a8f1fc6-1c5f-4869-8bbc-26c78fba0125\",\"type\":\"ResetTool\"},{\"id\":\"96659f00-86f2-44d7-95d2-360dc34a4efa\",\"type\":\"HelpTool\"}]},\"id\":\"4c118546-3d09-45a7-a7d6-d2fe1d29be95\",\"type\":\"Toolbar\"},{\"attributes\":{},\"id\":\"c5dfe7b6-7431-489a-bbb6-227ae7138105\",\"type\":\"LinearScale\"},{\"attributes\":{\"plot\":null,\"text\":\"procent w danym miesi\\u0105cu\"},\"id\":\"01992b07-4602-4e98-80d4-7aa9fa9e809b\",\"type\":\"Title\"},{\"attributes\":{\"plot\":{\"id\":\"f417feaf-fbb9-4138-886f-977d778f3d9e\",\"subtype\":\"Figure\",\"type\":\"Plot\"},\"ticker\":{\"id\":\"947e1c4a-632b-4a4b-b763-704abd26177d\",\"type\":\"CategoricalTicker\"}},\"id\":\"3478c598-a210-42f0-b663-86a12d31c427\",\"type\":\"Grid\"},{\"attributes\":{\"callback\":null,\"factors\":[\"2016-12\",\"2017-01\",\"2017-02\",\"2017-03\",\"2017-04\",\"2017-05\",\"2017-06\",\"2017-07\",\"2017-08\",\"2017-09\",\"2017-10\",\"2017-11\",\"2017-12\",\"2018-01\",\"2018-02\",\"2018-03\"]},\"id\":\"2cd11168-0112-44f2-9f39-fdeef0567dd2\",\"type\":\"FactorRange\"},{\"attributes\":{\"axis_label\":\"miesi\\u0105c\",\"formatter\":{\"id\":\"0c52fec7-ac21-4ac3-a1f7-85c1fc82fe98\",\"type\":\"CategoricalTickFormatter\"},\"major_label_orientation\":0.6283185307179586,\"major_label_text_font_size\":{\"value\":\"9pt\"},\"plot\":{\"id\":\"f417feaf-fbb9-4138-886f-977d778f3d9e\",\"subtype\":\"Figure\",\"type\":\"Plot\"},\"ticker\":{\"id\":\"947e1c4a-632b-4a4b-b763-704abd26177d\",\"type\":\"CategoricalTicker\"}},\"id\":\"6095fcf3-fab2-47bb-931e-3804dc5ba901\",\"type\":\"CategoricalAxis\"},{\"attributes\":{\"below\":[{\"id\":\"6095fcf3-fab2-47bb-931e-3804dc5ba901\",\"type\":\"CategoricalAxis\"}],\"left\":[{\"id\":\"a80146e3-94ce-4843-baa4-2c24486e946f\",\"type\":\"LinearAxis\"}],\"plot_height\":750,\"plot_width\":900,\"renderers\":[{\"id\":\"6095fcf3-fab2-47bb-931e-3804dc5ba901\",\"type\":\"CategoricalAxis\"},{\"id\":\"3478c598-a210-42f0-b663-86a12d31c427\",\"type\":\"Grid\"},{\"id\":\"a80146e3-94ce-4843-baa4-2c24486e946f\",\"type\":\"LinearAxis\"},{\"id\":\"918051c8-1700-4566-ab32-79bb64bfc721\",\"type\":\"Grid\"},{\"id\":\"74013be2-f9d6-475d-96de-6766dc5cccde\",\"type\":\"BoxAnnotation\"},{\"id\":\"ea3c6079-cd2d-4109-af41-a683d61c44a0\",\"type\":\"GlyphRenderer\"}],\"title\":{\"id\":\"01992b07-4602-4e98-80d4-7aa9fa9e809b\",\"type\":\"Title\"},\"toolbar\":{\"id\":\"4c118546-3d09-45a7-a7d6-d2fe1d29be95\",\"type\":\"Toolbar\"},\"x_range\":{\"id\":\"2cd11168-0112-44f2-9f39-fdeef0567dd2\",\"type\":\"FactorRange\"},\"x_scale\":{\"id\":\"43538fca-3b21-47ce-bcfa-d89bb3588453\",\"type\":\"CategoricalScale\"},\"y_range\":{\"id\":\"09725916-0883-4741-bce6-d01629e34496\",\"type\":\"DataRange1d\"},\"y_scale\":{\"id\":\"c5dfe7b6-7431-489a-bbb6-227ae7138105\",\"type\":\"LinearScale\"}},\"id\":\"f417feaf-fbb9-4138-886f-977d778f3d9e\",\"subtype\":\"Figure\",\"type\":\"Plot\"},{\"attributes\":{\"source\":{\"id\":\"9ee155ed-a64c-4782-a5df-3aed6989b7fc\",\"type\":\"ColumnDataSource\"}},\"id\":\"69fb51d1-5571-4e53-b1bb-d14155e361f5\",\"type\":\"CDSView\"},{\"attributes\":{},\"id\":\"947e1c4a-632b-4a4b-b763-704abd26177d\",\"type\":\"CategoricalTicker\"},{\"attributes\":{\"fill_color\":{\"value\":\"#1f77b4\"},\"line_color\":{\"value\":\"#1f77b4\"},\"line_width\":{\"value\":2},\"top\":{\"field\":\"top\"},\"width\":{\"value\":0.9},\"x\":{\"field\":\"x\"}},\"id\":\"7fa1d96c-0723-4677-bda7-ad11c4ee3da9\",\"type\":\"VBar\"},{\"attributes\":{},\"id\":\"4d47a2ea-b39e-4f52-a6f7-11710c35b3dd\",\"type\":\"BasicTicker\"},{\"attributes\":{\"dimension\":1,\"plot\":{\"id\":\"f417feaf-fbb9-4138-886f-977d778f3d9e\",\"subtype\":\"Figure\",\"type\":\"Plot\"},\"ticker\":{\"id\":\"4d47a2ea-b39e-4f52-a6f7-11710c35b3dd\",\"type\":\"BasicTicker\"}},\"id\":\"918051c8-1700-4566-ab32-79bb64bfc721\",\"type\":\"Grid\"},{\"attributes\":{\"callback\":null,\"column_names\":[\"x\",\"top\"],\"data\":{\"top\":{\"__ndarray__\":\"AAAAAAAA+H8AAAAAAAD4fwAAAAAAAPh/AAAAAAAA+H8AAAAAAAD4fwAAAAAAAPh/AAAAAAAA+H8AAAAAAAD4fwAAAAAAAPh/AAAAAAAA+H8AAAAAAAD4fwAAAAAAAPh/AAAAAAAA+H8AAAAAAAD4f4Qmhl8wIbo/0hmAUTxh5j8=\",\"dtype\":\"float64\",\"shape\":[16]},\"x\":[\"2016-12\",\"2017-01\",\"2017-02\",\"2017-03\",\"2017-04\",\"2017-05\",\"2017-06\",\"2017-07\",\"2017-08\",\"2017-09\",\"2017-10\",\"2017-11\",\"2017-12\",\"2018-01\",\"2018-02\",\"2018-03\"]}},\"id\":\"9ee155ed-a64c-4782-a5df-3aed6989b7fc\",\"type\":\"ColumnDataSource\"},{\"attributes\":{},\"id\":\"6eab0f6f-1c94-4b03-952e-67b09c70c8ed\",\"type\":\"BasicTickFormatter\"},{\"attributes\":{\"bottom_units\":\"screen\",\"fill_alpha\":{\"value\":0.5},\"fill_color\":{\"value\":\"lightgrey\"},\"left_units\":\"screen\",\"level\":\"overlay\",\"line_alpha\":{\"value\":1.0},\"line_color\":{\"value\":\"black\"},\"line_dash\":[4,4],\"line_width\":{\"value\":2},\"plot\":null,\"render_mode\":\"css\",\"right_units\":\"screen\",\"top_units\":\"screen\"},\"id\":\"74013be2-f9d6-475d-96de-6766dc5cccde\",\"type\":\"BoxAnnotation\"},{\"attributes\":{},\"id\":\"0c52fec7-ac21-4ac3-a1f7-85c1fc82fe98\",\"type\":\"CategoricalTickFormatter\"},{\"attributes\":{},\"id\":\"f9497ca4-abc9-49ab-adc6-e1c3ef1db7da\",\"type\":\"PanTool\"}],\"root_ids\":[\"f417feaf-fbb9-4138-886f-977d778f3d9e\"]},\"title\":\"Bokeh Application\",\"version\":\"0.12.13\"}};\n",
       "  var render_items = [{\"docid\":\"1131ae4b-3306-4117-83a4-528306abe358\",\"elementid\":\"8c062bb8-1027-4e61-8054-8706499c21df\",\"modelid\":\"f417feaf-fbb9-4138-886f-977d778f3d9e\"}];\n",
       "  root.Bokeh.embed.embed_items_notebook(docs_json, render_items);\n",
       "\n",
       "  }\n",
       "  if (root.Bokeh !== undefined) {\n",
       "    embed_document(root);\n",
       "  } else {\n",
       "    var attempts = 0;\n",
       "    var timer = setInterval(function(root) {\n",
       "      if (root.Bokeh !== undefined) {\n",
       "        embed_document(root);\n",
       "        clearInterval(timer);\n",
       "      }\n",
       "      attempts++;\n",
       "      if (attempts > 100) {\n",
       "        console.log(\"Bokeh: ERROR: Unable to run BokehJS code because BokehJS library is missing\")\n",
       "        clearInterval(timer);\n",
       "      }\n",
       "    }, 10, root)\n",
       "  }\n",
       "})(window);"
      ],
      "application/vnd.bokehjs_exec.v0+json": ""
     },
     "metadata": {
      "application/vnd.bokehjs_exec.v0+json": {
       "id": "f417feaf-fbb9-4138-886f-977d778f3d9e"
      }
     },
     "output_type": "display_data"
    }
   ],
   "source": [
    "data2 = data[data.actionCategory == \"Read document backward\"]\n",
    "plotAmountPerMonthPercent(data, data2)"
   ]
  }
 ],
 "metadata": {
  "kernelspec": {
   "display_name": "Python 3",
   "language": "python",
   "name": "python3"
  },
  "language_info": {
   "codemirror_mode": {
    "name": "ipython",
    "version": 3
   },
   "file_extension": ".py",
   "mimetype": "text/x-python",
   "name": "python",
   "nbconvert_exporter": "python",
   "pygments_lexer": "ipython3",
   "version": "3.6.4"
  }
 },
 "nbformat": 4,
 "nbformat_minor": 2
}
